{
 "cells": [
  {
   "cell_type": "code",
   "execution_count": null,
   "id": "64c20685",
   "metadata": {},
   "outputs": [],
   "source": [
    "#!pip install langchain langchain-ollama langchain-text-splitters langchain-community chromadb pypdf faiss-gpu faiss-cpu"
   ]
  },
  {
   "cell_type": "code",
   "execution_count": 4,
   "id": "5f14b4c8",
   "metadata": {},
   "outputs": [],
   "source": [
    "from langchain_ollama import OllamaLLM, OllamaEmbeddings\n",
    "from langchain_community.document_loaders import PyPDFLoader\n",
    "from langchain_text_splitters import RecursiveCharacterTextSplitter\n",
    "from langchain_community.vectorstores import FAISS\n",
    "from langchain_core.prompts import PromptTemplate\n",
    "from langchain_core.output_parsers import StrOutputParser"
   ]
  },
  {
   "cell_type": "code",
   "execution_count": null,
   "id": "ffde7280",
   "metadata": {},
   "outputs": [],
   "source": [
    "# Carregar o PDF, Extrair as informações e dividir em chunks\n",
    "docs = PyPDFLoader(\"data/lei-8080.pdf\").load()\n",
    "chunks = RecursiveCharacterTextSplitter(chunk_size=800, \n",
    "                                        chunk_overlap=120).split_documents(docs)"
   ]
  },
  {
   "cell_type": "code",
   "execution_count": 25,
   "id": "26657187",
   "metadata": {},
   "outputs": [],
   "source": [
    "# Embeddings locais + FAISS\n",
    "emb = OllamaEmbeddings(model=\"nomic-embed-text\")\n",
    "\n",
    "vstore = FAISS.from_documents(chunks, \n",
    "                              embedding=emb)\n",
    "\n",
    "retriever = vstore.as_retriever(search_type=\"similarity\", \n",
    "                                search_kwargs={\"k\": 10})"
   ]
  },
  {
   "cell_type": "code",
   "execution_count": 19,
   "id": "3834b2f8",
   "metadata": {},
   "outputs": [],
   "source": [
    "# Modelo local via Ollama\n",
    "llm = OllamaLLM(model=\"llama3:8b\")"
   ]
  },
  {
   "cell_type": "code",
   "execution_count": null,
   "id": "5bacec3a",
   "metadata": {},
   "outputs": [
    {
     "name": "stdout",
     "output_type": "stream",
     "text": [
      "Segundo a Lei nº 8.080, de 19 de setembro de 1990, os princípios do Sistema Único de Saúde (SUS) são:\n",
      "\n",
      "I - universalidade de acesso aos serviços de saúde em todos os níveis de assistência;\n",
      "\n",
      "XIII - organização dos serviços públicos de modo a evitar duplicidade de meios para fins idênticos;\n",
      "\n",
      "XIV - organização de atendimento público específico e especializado para mulheres e vítimas de violência doméstica em geral, que garanta, entre outros, atendimento, acompanhamento psicológico e cirurgias plásticas reparadoras.\n",
      "\n",
      "Esses princípios devem ser observados na gestão e desenvolvimento das ações e serviços públicos de saúde no SUS.\n"
     ]
    }
   ],
   "source": [
    "query = \"Quais os princípios do SUS segundo a Lei 8.080?\"\n",
    "\n",
    "\n",
    "docs = retriever.get_relevant_documents(query)\n",
    "ctx = \"\\n\\n\".join(d.page_content[:900] for d in docs)\n",
    "resp = llm.invoke(f\"Responda com base no texto:\\n\\n{ctx}\\n\\nPergunta: {query}\")\n",
    "print(resp)"
   ]
  }
 ],
 "metadata": {
  "kernelspec": {
   "display_name": "Python 3",
   "language": "python",
   "name": "python3"
  },
  "language_info": {
   "codemirror_mode": {
    "name": "ipython",
    "version": 3
   },
   "file_extension": ".py",
   "mimetype": "text/x-python",
   "name": "python",
   "nbconvert_exporter": "python",
   "pygments_lexer": "ipython3",
   "version": "3.12.10"
  }
 },
 "nbformat": 4,
 "nbformat_minor": 5
}
