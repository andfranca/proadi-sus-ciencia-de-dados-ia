{
 "cells": [
  {
   "cell_type": "code",
   "execution_count": null,
   "id": "327448ab",
   "metadata": {},
   "outputs": [
    {
     "name": "stdout",
     "output_type": "stream",
     "text": [
      "Looking in indexes: https://download.pytorch.org/whl/cu118\n",
      "Requirement already satisfied: torch in c:\\users\\ander\\documents\\projetos\\aulas\\proadi-sus-ciencia-de-dados-ia\\aulas\\aulas\\dl - agentes\\dl - rag\\.venv\\lib\\site-packages (2.8.0)\n",
      "Requirement already satisfied: filelock in c:\\users\\ander\\documents\\projetos\\aulas\\proadi-sus-ciencia-de-dados-ia\\aulas\\aulas\\dl - agentes\\dl - rag\\.venv\\lib\\site-packages (from torch) (3.19.1)\n",
      "Requirement already satisfied: typing-extensions>=4.10.0 in c:\\users\\ander\\documents\\projetos\\aulas\\proadi-sus-ciencia-de-dados-ia\\aulas\\aulas\\dl - agentes\\dl - rag\\.venv\\lib\\site-packages (from torch) (4.15.0)\n",
      "Requirement already satisfied: sympy>=1.13.3 in c:\\users\\ander\\documents\\projetos\\aulas\\proadi-sus-ciencia-de-dados-ia\\aulas\\aulas\\dl - agentes\\dl - rag\\.venv\\lib\\site-packages (from torch) (1.14.0)\n",
      "Requirement already satisfied: networkx in c:\\users\\ander\\documents\\projetos\\aulas\\proadi-sus-ciencia-de-dados-ia\\aulas\\aulas\\dl - agentes\\dl - rag\\.venv\\lib\\site-packages (from torch) (3.5)\n",
      "Requirement already satisfied: jinja2 in c:\\users\\ander\\documents\\projetos\\aulas\\proadi-sus-ciencia-de-dados-ia\\aulas\\aulas\\dl - agentes\\dl - rag\\.venv\\lib\\site-packages (from torch) (3.1.6)\n",
      "Requirement already satisfied: fsspec in c:\\users\\ander\\documents\\projetos\\aulas\\proadi-sus-ciencia-de-dados-ia\\aulas\\aulas\\dl - agentes\\dl - rag\\.venv\\lib\\site-packages (from torch) (2025.9.0)\n",
      "Requirement already satisfied: setuptools in c:\\users\\ander\\documents\\projetos\\aulas\\proadi-sus-ciencia-de-dados-ia\\aulas\\aulas\\dl - agentes\\dl - rag\\.venv\\lib\\site-packages (from torch) (80.9.0)\n",
      "Requirement already satisfied: mpmath<1.4,>=1.1.0 in c:\\users\\ander\\documents\\projetos\\aulas\\proadi-sus-ciencia-de-dados-ia\\aulas\\aulas\\dl - agentes\\dl - rag\\.venv\\lib\\site-packages (from sympy>=1.13.3->torch) (1.3.0)\n",
      "Requirement already satisfied: MarkupSafe>=2.0 in c:\\users\\ander\\documents\\projetos\\aulas\\proadi-sus-ciencia-de-dados-ia\\aulas\\aulas\\dl - agentes\\dl - rag\\.venv\\lib\\site-packages (from jinja2->torch) (3.0.2)\n"
     ]
    }
   ],
   "source": [
    "#pip install sounddevice numpy transformers torch"
   ]
  },
  {
   "cell_type": "code",
   "execution_count": 1,
   "id": "105f9477",
   "metadata": {},
   "outputs": [
    {
     "name": "stderr",
     "output_type": "stream",
     "text": [
      "c:\\Users\\ander\\Documents\\Projetos\\Aulas\\proadi-sus-ciencia-de-dados-ia\\aulas\\Aulas\\DL - Agentes\\DL - Rag\\.venv\\Lib\\site-packages\\tqdm\\auto.py:21: TqdmWarning: IProgress not found. Please update jupyter and ipywidgets. See https://ipywidgets.readthedocs.io/en/stable/user_install.html\n",
      "  from .autonotebook import tqdm as notebook_tqdm\n"
     ]
    }
   ],
   "source": [
    "import sounddevice as sd\n",
    "import numpy as np\n",
    "from transformers import pipeline"
   ]
  },
  {
   "cell_type": "code",
   "execution_count": 10,
   "id": "e64ab5ae",
   "metadata": {},
   "outputs": [
    {
     "name": "stderr",
     "output_type": "stream",
     "text": [
      "Fetching 1 files: 100%|██████████| 1/1 [00:00<00:00, 13025.79it/s]\n",
      "Device set to use cpu\n"
     ]
    }
   ],
   "source": [
    "# cria pipeline de ASR com Whisper (versão pequena)\n",
    "asr = pipeline(\"automatic-speech-recognition\", \n",
    "               model=\"openai/whisper-small\", \n",
    "               ignore_warning=True,\n",
    "               device=\"cpu\")"
   ]
  },
  {
   "cell_type": "code",
   "execution_count": 11,
   "id": "74027595",
   "metadata": {},
   "outputs": [
    {
     "name": "stdout",
     "output_type": "stream",
     "text": [
      "Transcrevendo... (Ctrl+C para parar)\n"
     ]
    }
   ],
   "source": [
    "print(\"Transcrevendo... (Ctrl+C para parar)\")\n",
    "sr = 16000\n",
    "bs = 5  # segundos"
   ]
  },
  {
   "cell_type": "code",
   "execution_count": 13,
   "id": "e34c19a4",
   "metadata": {},
   "outputs": [],
   "source": [
    "from transformers import logging\n",
    "logging.set_verbosity_error()"
   ]
  },
  {
   "cell_type": "code",
   "execution_count": 14,
   "id": "bedbcd4b",
   "metadata": {},
   "outputs": [
    {
     "name": "stdout",
     "output_type": "stream",
     "text": [
      ">> testando mais uma vez para ver o que vai acontecer\n",
      ">> O último agora não tem mais erro.\n",
      "\n",
      "Interrompido pelo usuário.\n"
     ]
    }
   ],
   "source": [
    "try:\n",
    "    while True:\n",
    "        audio = sd.rec(int(bs * sr), samplerate=sr, channels=1, dtype=\"float32\")\n",
    "        sd.wait()\n",
    "        audio = np.squeeze(audio)\n",
    "        result = asr(audio, chunk_length_s=bs)\n",
    "        print(\">>\", result.get(\"text\", \"\").strip())\n",
    "except KeyboardInterrupt:\n",
    "    print(\"\\nInterrompido pelo usuário.\")"
   ]
  }
 ],
 "metadata": {
  "kernelspec": {
   "display_name": ".venv",
   "language": "python",
   "name": "python3"
  },
  "language_info": {
   "codemirror_mode": {
    "name": "ipython",
    "version": 3
   },
   "file_extension": ".py",
   "mimetype": "text/x-python",
   "name": "python",
   "nbconvert_exporter": "python",
   "pygments_lexer": "ipython3",
   "version": "3.13.7"
  }
 },
 "nbformat": 4,
 "nbformat_minor": 5
}
