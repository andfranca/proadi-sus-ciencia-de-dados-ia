{
 "cells": [
  {
   "cell_type": "code",
   "execution_count": 1,
   "id": "06c299c2",
   "metadata": {},
   "outputs": [],
   "source": [
    "from llama_index.readers.file import PyMuPDFReader\n",
    "from llama_index.core import VectorStoreIndex\n",
    "from llama_index.core.node_parser import SentenceSplitter\n",
    "from llama_index.embeddings.ollama import OllamaEmbedding"
   ]
  },
  {
   "cell_type": "code",
   "execution_count": 2,
   "id": "933f2b59",
   "metadata": {},
   "outputs": [],
   "source": [
    "from langchain_ollama import OllamaLLM\n",
    "from langchain_core.prompts import PromptTemplate"
   ]
  },
  {
   "cell_type": "code",
   "execution_count": null,
   "id": "4c409d40",
   "metadata": {},
   "outputs": [
    {
     "name": "stderr",
     "output_type": "stream",
     "text": [
      "2025-09-02 18:45:10,404 - INFO - HTTP Request: POST http://localhost:11434/api/embed \"HTTP/1.1 200 OK\"\n",
      "2025-09-02 18:45:10,435 - INFO - HTTP Request: POST http://localhost:11434/api/embed \"HTTP/1.1 200 OK\"\n",
      "2025-09-02 18:45:10,482 - INFO - HTTP Request: POST http://localhost:11434/api/embed \"HTTP/1.1 200 OK\"\n",
      "2025-09-02 18:45:10,504 - INFO - HTTP Request: POST http://localhost:11434/api/embed \"HTTP/1.1 200 OK\"\n",
      "2025-09-02 18:45:10,535 - INFO - HTTP Request: POST http://localhost:11434/api/embed \"HTTP/1.1 200 OK\"\n",
      "2025-09-02 18:45:10,562 - INFO - HTTP Request: POST http://localhost:11434/api/embed \"HTTP/1.1 200 OK\"\n",
      "2025-09-02 18:45:10,585 - INFO - HTTP Request: POST http://localhost:11434/api/embed \"HTTP/1.1 200 OK\"\n",
      "2025-09-02 18:45:10,606 - INFO - HTTP Request: POST http://localhost:11434/api/embed \"HTTP/1.1 200 OK\"\n",
      "2025-09-02 18:45:10,634 - INFO - HTTP Request: POST http://localhost:11434/api/embed \"HTTP/1.1 200 OK\"\n",
      "2025-09-02 18:45:10,663 - INFO - HTTP Request: POST http://localhost:11434/api/embed \"HTTP/1.1 200 OK\"\n",
      "2025-09-02 18:45:10,687 - INFO - HTTP Request: POST http://localhost:11434/api/embed \"HTTP/1.1 200 OK\"\n",
      "2025-09-02 18:45:10,713 - INFO - HTTP Request: POST http://localhost:11434/api/embed \"HTTP/1.1 200 OK\"\n",
      "2025-09-02 18:45:10,741 - INFO - HTTP Request: POST http://localhost:11434/api/embed \"HTTP/1.1 200 OK\"\n",
      "2025-09-02 18:45:10,772 - INFO - HTTP Request: POST http://localhost:11434/api/embed \"HTTP/1.1 200 OK\"\n",
      "2025-09-02 18:45:10,793 - INFO - HTTP Request: POST http://localhost:11434/api/embed \"HTTP/1.1 200 OK\"\n",
      "2025-09-02 18:45:10,823 - INFO - HTTP Request: POST http://localhost:11434/api/embed \"HTTP/1.1 200 OK\"\n",
      "2025-09-02 18:45:10,843 - INFO - HTTP Request: POST http://localhost:11434/api/embed \"HTTP/1.1 200 OK\"\n",
      "2025-09-02 18:45:10,872 - INFO - HTTP Request: POST http://localhost:11434/api/embed \"HTTP/1.1 200 OK\"\n",
      "2025-09-02 18:45:10,893 - INFO - HTTP Request: POST http://localhost:11434/api/embed \"HTTP/1.1 200 OK\"\n",
      "2025-09-02 18:45:10,922 - INFO - HTTP Request: POST http://localhost:11434/api/embed \"HTTP/1.1 200 OK\"\n",
      "2025-09-02 18:45:10,943 - INFO - HTTP Request: POST http://localhost:11434/api/embed \"HTTP/1.1 200 OK\"\n",
      "2025-09-02 18:45:10,971 - INFO - HTTP Request: POST http://localhost:11434/api/embed \"HTTP/1.1 200 OK\"\n",
      "2025-09-02 18:45:10,993 - INFO - HTTP Request: POST http://localhost:11434/api/embed \"HTTP/1.1 200 OK\"\n",
      "2025-09-02 18:45:11,021 - INFO - HTTP Request: POST http://localhost:11434/api/embed \"HTTP/1.1 200 OK\"\n",
      "2025-09-02 18:45:11,050 - INFO - HTTP Request: POST http://localhost:11434/api/embed \"HTTP/1.1 200 OK\"\n",
      "2025-09-02 18:45:11,071 - INFO - HTTP Request: POST http://localhost:11434/api/embed \"HTTP/1.1 200 OK\"\n",
      "2025-09-02 18:45:11,101 - INFO - HTTP Request: POST http://localhost:11434/api/embed \"HTTP/1.1 200 OK\"\n",
      "2025-09-02 18:45:11,132 - INFO - HTTP Request: POST http://localhost:11434/api/embed \"HTTP/1.1 200 OK\"\n",
      "2025-09-02 18:45:11,167 - INFO - HTTP Request: POST http://localhost:11434/api/embed \"HTTP/1.1 200 OK\"\n"
     ]
    }
   ],
   "source": [
    "# LlamaIndex: leitura, chunking, índice (dados)\n",
    "docs  = PyMuPDFReader().load(\"data/lei-8080.pdf\")\n",
    "nodes = SentenceSplitter(chunk_size=800, chunk_overlap=120).get_nodes_from_documents(docs)\n",
    "index = VectorStoreIndex(nodes, embed_model=OllamaEmbedding(\"nomic-embed-text\"))\n",
    "retr  = index.as_retriever(similarity_top_k=3,)"
   ]
  },
  {
   "cell_type": "code",
   "execution_count": null,
   "id": "3e53e1b8",
   "metadata": {},
   "outputs": [],
   "source": [
    "# LangChain: prompt + LLM (orquestração)\n",
    "llm = OllamaLLM(model=\"llama3:8b\", \n",
    "                temperature=0)\n",
    "T   = PromptTemplate.from_template(\n",
    "    \"Responda APENAS com base nos trechos; se faltar evidência, diga 'Não sei'.\\n\"\n",
    "    \"Pergunta: {q}\\n\\nTrechos:\\n{ctx}\"\n",
    ")"
   ]
  },
  {
   "cell_type": "code",
   "execution_count": 11,
   "id": "7131bd3e",
   "metadata": {},
   "outputs": [],
   "source": [
    "def ask(q: str):\n",
    "    hits = retr.retrieve(q)\n",
    "    if not hits:\n",
    "        return \"Não sei.\", \"\"\n",
    "    ctx = \"\\n\\n\".join(h.node.get_content()[:900] for h in hits)\n",
    "    ans = llm.invoke(T.format(q=q, ctx=ctx))\n",
    "    fontes = \"\\n\".join(sorted({h.node.metadata.get(\"file_path\") or h.node.metadata.get(\"filename\",\"\") for h in hits}))\n",
    "    return ans, fontes"
   ]
  },
  {
   "cell_type": "code",
   "execution_count": 12,
   "id": "b855ca57",
   "metadata": {},
   "outputs": [
    {
     "name": "stderr",
     "output_type": "stream",
     "text": [
      "2025-09-02 18:47:12,355 - INFO - HTTP Request: POST http://localhost:11434/api/embed \"HTTP/1.1 200 OK\"\n",
      "2025-09-02 18:47:16,179 - INFO - HTTP Request: POST http://127.0.0.1:11434/api/generate \"HTTP/1.1 200 OK\"\n"
     ]
    },
    {
     "name": "stdout",
     "output_type": "stream",
     "text": [
      "Os princípios do SUS segundo a Lei 8.080 são:\n",
      "\n",
      "I - universalidade de acesso aos serviços de saúde em todos os níveis de assistência.\n",
      "\n",
      "Não há mais trechos mencionando outros princípios, portanto não sei se existem outros.\n",
      "\n",
      "Fontes:\n",
      "data/lei-8080.pdf\n"
     ]
    }
   ],
   "source": [
    "# Exemplo\n",
    "resp, src = ask(\"Quais são os princípios do SUS segundo a Lei 8.080?\")\n",
    "print(resp)\n",
    "if src: print(\"\\nFontes:\\n\" + src)"
   ]
  },
  {
   "cell_type": "markdown",
   "id": "daeb81cc",
   "metadata": {},
   "source": [
    "# Melhorar as respostas"
   ]
  },
  {
   "cell_type": "code",
   "execution_count": 13,
   "id": "2425ef95",
   "metadata": {},
   "outputs": [],
   "source": [
    "from llama_index.core import VectorStoreIndex, Document\n",
    "from llama_index.core.node_parser import SentenceSplitter\n",
    "from llama_index.llms.ollama import Ollama\n",
    "from llama_index.embeddings.ollama import OllamaEmbedding"
   ]
  },
  {
   "cell_type": "code",
   "execution_count": null,
   "id": "642cd658",
   "metadata": {},
   "outputs": [],
   "source": [
    "docs = PyMuPDFReader().load(\"data/lei_8080.pdf\")"
   ]
  },
  {
   "cell_type": "code",
   "execution_count": 34,
   "id": "7d69b92b",
   "metadata": {},
   "outputs": [],
   "source": [
    "# Chunking MAIOR + overlap (preserva artigos/incisos)\n",
    "nodes = SentenceSplitter(\n",
    "    chunk_size=1400,     # maior = mais contexto por trecho\n",
    "    chunk_overlap=200,   # emenda segura entre chunks\n",
    "    paragraph_separator=\"\\n\\n\",\n",
    ").get_nodes_from_documents(docs)"
   ]
  },
  {
   "cell_type": "code",
   "execution_count": 36,
   "id": "521ca988",
   "metadata": {},
   "outputs": [
    {
     "name": "stderr",
     "output_type": "stream",
     "text": [
      "2025-09-02 18:59:42,754 - INFO - HTTP Request: POST http://localhost:11434/api/embed \"HTTP/1.1 200 OK\"\n",
      "2025-09-02 18:59:42,831 - INFO - HTTP Request: POST http://localhost:11434/api/embed \"HTTP/1.1 200 OK\"\n",
      "2025-09-02 18:59:42,869 - INFO - HTTP Request: POST http://localhost:11434/api/embed \"HTTP/1.1 200 OK\"\n",
      "2025-09-02 18:59:42,899 - INFO - HTTP Request: POST http://localhost:11434/api/embed \"HTTP/1.1 200 OK\"\n",
      "2025-09-02 18:59:42,929 - INFO - HTTP Request: POST http://localhost:11434/api/embed \"HTTP/1.1 200 OK\"\n",
      "2025-09-02 18:59:42,967 - INFO - HTTP Request: POST http://localhost:11434/api/embed \"HTTP/1.1 200 OK\"\n",
      "2025-09-02 18:59:42,996 - INFO - HTTP Request: POST http://localhost:11434/api/embed \"HTTP/1.1 200 OK\"\n",
      "2025-09-02 18:59:43,035 - INFO - HTTP Request: POST http://localhost:11434/api/embed \"HTTP/1.1 200 OK\"\n",
      "2025-09-02 18:59:43,062 - INFO - HTTP Request: POST http://localhost:11434/api/embed \"HTTP/1.1 200 OK\"\n",
      "2025-09-02 18:59:43,094 - INFO - HTTP Request: POST http://localhost:11434/api/embed \"HTTP/1.1 200 OK\"\n",
      "2025-09-02 18:59:43,127 - INFO - HTTP Request: POST http://localhost:11434/api/embed \"HTTP/1.1 200 OK\"\n",
      "2025-09-02 18:59:43,161 - INFO - HTTP Request: POST http://localhost:11434/api/embed \"HTTP/1.1 200 OK\"\n",
      "2025-09-02 18:59:43,191 - INFO - HTTP Request: POST http://localhost:11434/api/embed \"HTTP/1.1 200 OK\"\n",
      "2025-09-02 18:59:43,222 - INFO - HTTP Request: POST http://localhost:11434/api/embed \"HTTP/1.1 200 OK\"\n",
      "2025-09-02 18:59:43,250 - INFO - HTTP Request: POST http://localhost:11434/api/embed \"HTTP/1.1 200 OK\"\n",
      "2025-09-02 18:59:43,280 - INFO - HTTP Request: POST http://localhost:11434/api/embed \"HTTP/1.1 200 OK\"\n",
      "2025-09-02 18:59:43,309 - INFO - HTTP Request: POST http://localhost:11434/api/embed \"HTTP/1.1 200 OK\"\n",
      "2025-09-02 18:59:43,338 - INFO - HTTP Request: POST http://localhost:11434/api/embed \"HTTP/1.1 200 OK\"\n",
      "2025-09-02 18:59:43,366 - INFO - HTTP Request: POST http://localhost:11434/api/embed \"HTTP/1.1 200 OK\"\n",
      "2025-09-02 18:59:45,671 - INFO - HTTP Request: POST http://localhost:11434/api/show \"HTTP/1.1 200 OK\"\n"
     ]
    }
   ],
   "source": [
    "# Indexar e configurar consulta\n",
    "index = VectorStoreIndex(nodes, embed_model=OllamaEmbedding(\"nomic-embed-text\"))\n",
    "qe = index.as_query_engine(\n",
    "    llm=Ollama(\"llama3:8b\", temperature=0),\n",
    "    similarity_top_k=8,        # traz mais trechos para evitar \"ficar de fora\"\n",
    "    response_mode=\"refine\",    # junta/rafina a resposta a partir de vários trechos\n",
    ")"
   ]
  },
  {
   "cell_type": "markdown",
   "id": "5d6e52a0",
   "metadata": {},
   "source": []
  },
  {
   "cell_type": "code",
   "execution_count": 37,
   "id": "164baeb0",
   "metadata": {},
   "outputs": [
    {
     "name": "stderr",
     "output_type": "stream",
     "text": [
      "2025-09-02 19:00:01,355 - INFO - HTTP Request: POST http://localhost:11434/api/embed \"HTTP/1.1 200 OK\"\n",
      "2025-09-02 19:00:05,637 - INFO - HTTP Request: POST http://localhost:11434/api/chat \"HTTP/1.1 200 OK\"\n",
      "2025-09-02 19:00:06,380 - INFO - HTTP Request: POST http://localhost:11434/api/chat \"HTTP/1.1 200 OK\"\n",
      "2025-09-02 19:00:06,952 - INFO - HTTP Request: POST http://localhost:11434/api/chat \"HTTP/1.1 200 OK\"\n",
      "2025-09-02 19:00:07,423 - INFO - HTTP Request: POST http://localhost:11434/api/chat \"HTTP/1.1 200 OK\"\n",
      "2025-09-02 19:00:07,886 - INFO - HTTP Request: POST http://localhost:11434/api/chat \"HTTP/1.1 200 OK\"\n",
      "2025-09-02 19:00:10,792 - INFO - HTTP Request: POST http://localhost:11434/api/chat \"HTTP/1.1 200 OK\"\n",
      "2025-09-02 19:00:12,178 - INFO - HTTP Request: POST http://localhost:11434/api/chat \"HTTP/1.1 200 OK\"\n",
      "2025-09-02 19:00:13,539 - INFO - HTTP Request: POST http://localhost:11434/api/chat \"HTTP/1.1 200 OK\"\n"
     ]
    },
    {
     "name": "stdout",
     "output_type": "stream",
     "text": [
      "Os princípios do Sistema Único de Saúde (SUS) são fundamentais para garantir a qualidade e equidade da assistência à saúde. Entre esses princípios, destacam-se a articulação contínua das ações preventivas e curativas, a preservação da autonomia individual, a igualdade na assistência à saúde e a participação da comunidade. Além disso, o SUS também prioriza a descentralização política-administrativa, a integração de ações em diferentes áreas e a conjugação dos recursos para garantir a resolução eficaz dos serviços de saúde.\n"
     ]
    }
   ],
   "source": [
    "# Perguntar\n",
    "q = \"Quais são os princípios do SUS segundo a Lei 8.080?\"\n",
    "resp = qe.query(q)\n",
    "print(resp)  # resposta já completa"
   ]
  },
  {
   "cell_type": "code",
   "execution_count": null,
   "id": "7dacae43",
   "metadata": {},
   "outputs": [],
   "source": [
    "print(\"\\nFontes:\")\n",
    "for s in getattr(resp, \"source_nodes\", []):\n",
    "    print(\"-\", s.node.metadata.get(\"filename\", \"\"))"
   ]
  }
 ],
 "metadata": {
  "kernelspec": {
   "display_name": "Python 3",
   "language": "python",
   "name": "python3"
  },
  "language_info": {
   "codemirror_mode": {
    "name": "ipython",
    "version": 3
   },
   "file_extension": ".py",
   "mimetype": "text/x-python",
   "name": "python",
   "nbconvert_exporter": "python",
   "pygments_lexer": "ipython3",
   "version": "3.12.10"
  }
 },
 "nbformat": 4,
 "nbformat_minor": 5
}
