{
 "cells": [
  {
   "cell_type": "code",
   "execution_count": 3,
   "id": "7cecd2c1",
   "metadata": {},
   "outputs": [],
   "source": [
    "ROOT = \"data\"\n",
    "\n",
    "from llama_index.core import VectorStoreIndex, SimpleDirectoryReader\n",
    "from llama_index.core.node_parser import SentenceSplitter\n",
    "from llama_index.llms.ollama import Ollama\n",
    "from llama_index.embeddings.ollama import OllamaEmbedding\n",
    "from llama_index.readers.file import PyMuPDFReader"
   ]
  },
  {
   "cell_type": "code",
   "execution_count": 15,
   "id": "c79a673a",
   "metadata": {},
   "outputs": [],
   "source": [
    "import logging\n",
    "for name in (\"httpx\", \"httpcore\", \"llama_index\", \"llama_index.core\"):\n",
    "    logging.getLogger(name).setLevel(logging.WARNING)  # ou ERROR"
   ]
  },
  {
   "cell_type": "code",
   "execution_count": null,
   "id": "34f05265",
   "metadata": {},
   "outputs": [],
   "source": [
    "# Ler TODOS os PDFs (subpastas incluídas) usando PyMuPDF\n",
    "docs = SimpleDirectoryReader(\n",
    "    ROOT, \n",
    "    required_exts=[\".pdf\"],\n",
    "    recursive=True,\n",
    "    file_extractor={\".pdf\": PyMuPDFReader()}  # força extração de texto\n",
    ").load_data()"
   ]
  },
  {
   "cell_type": "code",
   "execution_count": 19,
   "id": "8c2569b2",
   "metadata": {},
   "outputs": [],
   "source": [
    "from pathlib import PurePosixPath\n",
    "\n",
    "for d in docs:\n",
    "    p = PurePosixPath((d.metadata.get(\"file_path\") or d.metadata.get(\"filename\") or \"\").replace(\"\\\\\",\"/\"))\n",
    "    parts = [s.lower() for s in p.parts]\n",
    "    d.metadata[\"org\"] = \"ANVISA\" if \"anvisa\" in parts else (\"MS\" if \"ms\" in parts else \"OUTRO\")\n",
    "    d.metadata[\"doctype\"] = (\"LEI\" if \"leis\" in parts else\n",
    "                             \"RDC\" if \"rdc\" in parts else\n",
    "                             \"PORTARIA\" if \"portarias\" in parts else\n",
    "                             \"IN\" if \"in\" in parts else\n",
    "                             \"RE\" if \"re\" in parts else \"OUTRO\")"
   ]
  },
  {
   "cell_type": "code",
   "execution_count": 21,
   "id": "21b10408",
   "metadata": {},
   "outputs": [],
   "source": [
    "# Chunking “largo” para normas (completude)\n",
    "nodes = SentenceSplitter(\n",
    "    chunk_size=1400, chunk_overlap=200, \n",
    "    paragraph_separator=\"\\n\\n\"\n",
    ").get_nodes_from_documents(docs)\n"
   ]
  },
  {
   "cell_type": "code",
   "execution_count": 22,
   "id": "d98eebc5",
   "metadata": {},
   "outputs": [],
   "source": [
    "# Índice único (embeddings locais via Ollama)\n",
    "index = VectorStoreIndex(nodes, \n",
    "                         embed_model=OllamaEmbedding(\"nomic-embed-text\"))"
   ]
  },
  {
   "cell_type": "code",
   "execution_count": null,
   "id": "54f1333f",
   "metadata": {},
   "outputs": [],
   "source": [
    "# Query Engine (PT-BR, top_k ligeiramente maior + síntese que costura)\n",
    "llm = Ollama(\n",
    "    model=\"llama3:8B\",\n",
    "    temperature=0,\n",
    "    system_prompt=\"Responda SEMPRE em português do Brasil; use apenas os trechos recuperados; se faltar evidência, diga 'Não encontrei'.\"\n",
    ")\n",
    "\n",
    "qe = index.as_query_engine(\n",
    "    llm=llm,\n",
    "    similarity_top_k=8,      # mais contexto p/ perguntas amplas\n",
    "    response_mode=\"refine\",  # junta informações de vários trechos\n",
    ")"
   ]
  },
  {
   "cell_type": "code",
   "execution_count": 27,
   "id": "5c56fa1e",
   "metadata": {},
   "outputs": [],
   "source": [
    "# Duas perguntas: uma ampla e uma específica (demonstra o índice único)\n",
    "q1 = \"Quais dispositivos tratam de participação social no SUS?\"\n",
    "q2 = \"Quais são os princípios do SUS na Lei 8.080/1990?\""
   ]
  },
  {
   "cell_type": "code",
   "execution_count": null,
   "id": "2b2efe60",
   "metadata": {},
   "outputs": [
    {
     "name": "stdout",
     "output_type": "stream",
     "text": [
      "\n",
      "RESPOSTA:\n",
      " Os dispositivos que tratam de participação social no Sistema Único de Saúde (SUS) incluem disposições que estabelecem a promoção e proteção da saúde dos trabaladores, assim como visa à recuperação e reabilitação da saúde dos trabaladores submetidos aos riscos e agravos advindos das condições de trabalho.\n"
     ]
    }
   ],
   "source": [
    "resp1 = qe.query(q1)\n",
    "print(\"\\nRESPOSTA:\\n\", resp1)"
   ]
  },
  {
   "cell_type": "code",
   "execution_count": 17,
   "id": "05a8defd",
   "metadata": {},
   "outputs": [
    {
     "name": "stdout",
     "output_type": "stream",
     "text": [
      "\n",
      "RESPOSTA:\n",
      " Os princípios do Sistema Único de Saúde (SUS) são definidos pela Lei Nº 8.080, de 19 de setembro de 1990, que estabelece a promoção, proteção e recuperação da saúde como objetivos fundamentais.\n"
     ]
    }
   ],
   "source": [
    "resp2 = qe.query(q2)\n",
    "print(\"\\nRESPOSTA:\\n\", resp2)"
   ]
  },
  {
   "cell_type": "code",
   "execution_count": 28,
   "id": "d7d803f5",
   "metadata": {},
   "outputs": [
    {
     "name": "stdout",
     "output_type": "stream",
     "text": [
      "\n",
      "================================================================================\n",
      "PERGUNTA: Quais dispositivos tratam de participação social no SUS?\n",
      "\n",
      "RESPOSTA:\n",
      " Não encontrei\n",
      "\n",
      "FONTES:\n",
      "- 1. c:\\Users\\ander\\Documents\\Projetos\\Aulas\\proadi-sus-ciencia-de-dados-ia\\aulas\\Aulas\\DL - Agentes\\DL - Rag\\data\\anvisa\\in\\2018\\in_28_julho_2018.pdf\n",
      "- 2. c:\\Users\\ander\\Documents\\Projetos\\Aulas\\proadi-sus-ciencia-de-dados-ia\\aulas\\Aulas\\DL - Agentes\\DL - Rag\\data\\lei-8080.pdf\n",
      "- 3. c:\\Users\\ander\\Documents\\Projetos\\Aulas\\proadi-sus-ciencia-de-dados-ia\\aulas\\Aulas\\DL - Agentes\\DL - Rag\\data\\anvisa\\rdc\\2018\\rdc_243_julho_2018.pdf\n",
      "- 4. c:\\Users\\ander\\Documents\\Projetos\\Aulas\\proadi-sus-ciencia-de-dados-ia\\aulas\\Aulas\\DL - Agentes\\DL - Rag\\data\\ms\\leis\\lei_8080_setembro_1990.pdf\n",
      "- 5. c:\\Users\\ander\\Documents\\Projetos\\Aulas\\proadi-sus-ciencia-de-dados-ia\\aulas\\Aulas\\DL - Agentes\\DL - Rag\\data\\lei-8080.pdf\n",
      "- 6. c:\\Users\\ander\\Documents\\Projetos\\Aulas\\proadi-sus-ciencia-de-dados-ia\\aulas\\Aulas\\DL - Agentes\\DL - Rag\\data\\lei-8080.pdf\n",
      "- 7. c:\\Users\\ander\\Documents\\Projetos\\Aulas\\proadi-sus-ciencia-de-dados-ia\\aulas\\Aulas\\DL - Agentes\\DL - Rag\\data\\lei-8080.pdf\n",
      "- 8. c:\\Users\\ander\\Documents\\Projetos\\Aulas\\proadi-sus-ciencia-de-dados-ia\\aulas\\Aulas\\DL - Agentes\\DL - Rag\\data\\anvisa\\in\\2018\\in_28_julho_2018.pdf\n",
      "\n",
      "================================================================================\n",
      "PERGUNTA: Quais são os princípios do SUS na Lei 8.080/1990?\n",
      "\n",
      "RESPOSTA:\n",
      " Os princípios do Sistema Único de Saúde (SUS) estabelecidos pela Lei 8080/1990 estão previstos no Art. 7º, conforme o contexto fornecido. Esses princípios devem guiar as ações e serviços públicos de saúde que integram o SUS, desenvolvendo-os de acordo com as diretrizes previstas no art. 198 da Constituição Federal. Os principípios do SUS mencionados são:\n",
      "\n",
      "I - universalidade de acesso aos serviços de saúde em todos os níveis de assistência;\n",
      "\n",
      "FONTES:\n",
      "- 1. c:\\Users\\ander\\Documents\\Projetos\\Aulas\\proadi-sus-ciencia-de-dados-ia\\aulas\\Aulas\\DL - Agentes\\DL - Rag\\data\\lei-8080.pdf\n",
      "- 2. c:\\Users\\ander\\Documents\\Projetos\\Aulas\\proadi-sus-ciencia-de-dados-ia\\aulas\\Aulas\\DL - Agentes\\DL - Rag\\data\\anvisa\\in\\2018\\in_28_julho_2018.pdf\n",
      "- 3. c:\\Users\\ander\\Documents\\Projetos\\Aulas\\proadi-sus-ciencia-de-dados-ia\\aulas\\Aulas\\DL - Agentes\\DL - Rag\\data\\lei-8080.pdf\n",
      "- 4. c:\\Users\\ander\\Documents\\Projetos\\Aulas\\proadi-sus-ciencia-de-dados-ia\\aulas\\Aulas\\DL - Agentes\\DL - Rag\\data\\anvisa\\in\\2018\\in_28_julho_2018.pdf\n",
      "- 5. c:\\Users\\ander\\Documents\\Projetos\\Aulas\\proadi-sus-ciencia-de-dados-ia\\aulas\\Aulas\\DL - Agentes\\DL - Rag\\data\\ms\\leis\\lei_8080_setembro_1990.pdf\n",
      "- 6. c:\\Users\\ander\\Documents\\Projetos\\Aulas\\proadi-sus-ciencia-de-dados-ia\\aulas\\Aulas\\DL - Agentes\\DL - Rag\\data\\lei-8080.pdf\n",
      "- 7. c:\\Users\\ander\\Documents\\Projetos\\Aulas\\proadi-sus-ciencia-de-dados-ia\\aulas\\Aulas\\DL - Agentes\\DL - Rag\\data\\anvisa\\in\\2018\\in_28_julho_2018.pdf\n",
      "- 8. c:\\Users\\ander\\Documents\\Projetos\\Aulas\\proadi-sus-ciencia-de-dados-ia\\aulas\\Aulas\\DL - Agentes\\DL - Rag\\data\\lei-8080.pdf\n"
     ]
    }
   ],
   "source": [
    "\n",
    "for q in (q1, q2):\n",
    "    print(\"\\n\" + \"=\"*80)\n",
    "    print(\"PERGUNTA:\", q)\n",
    "    resp = qe.query(q)\n",
    "    print(\"\\nRESPOSTA:\\n\", getattr(resp, \"text\", None) or getattr(resp, \"response\", \"\"))\n",
    "    print(\"\\nFONTES:\")\n",
    "    for i, s in enumerate(getattr(resp, \"source_nodes\", []) or [], 1):\n",
    "        meta = getattr(s.node, \"metadata\", {})\n",
    "        print(f\"- {i}.\", meta.get(\"file_path\") or meta.get(\"filename\") or \"(sem nome)\")"
   ]
  }
 ],
 "metadata": {
  "kernelspec": {
   "display_name": ".venv",
   "language": "python",
   "name": "python3"
  },
  "language_info": {
   "codemirror_mode": {
    "name": "ipython",
    "version": 3
   },
   "file_extension": ".py",
   "mimetype": "text/x-python",
   "name": "python",
   "nbconvert_exporter": "python",
   "pygments_lexer": "ipython3",
   "version": "3.13.7"
  }
 },
 "nbformat": 4,
 "nbformat_minor": 5
}
