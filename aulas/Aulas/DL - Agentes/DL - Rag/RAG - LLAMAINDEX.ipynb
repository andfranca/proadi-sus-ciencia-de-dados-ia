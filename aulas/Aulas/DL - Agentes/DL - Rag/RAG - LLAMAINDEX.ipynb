{
 "cells": [
  {
   "cell_type": "code",
   "execution_count": null,
   "id": "224b25fe",
   "metadata": {},
   "outputs": [],
   "source": [
    "pip install llama-index-core llama-index-embeddings-ollama llama-index-llms-ollama"
   ]
  },
  {
   "cell_type": "code",
   "execution_count": 3,
   "id": "6856c0c1",
   "metadata": {},
   "outputs": [],
   "source": [
    "from llama_index.core import VectorStoreIndex, SimpleDirectoryReader\n",
    "from llama_index.embeddings.ollama import OllamaEmbedding\n",
    "from llama_index.llms.ollama import Ollama"
   ]
  },
  {
   "cell_type": "code",
   "execution_count": 5,
   "id": "b401246b",
   "metadata": {},
   "outputs": [],
   "source": [
    "# Modelos locais via Ollama\n",
    "embed_model = OllamaEmbedding(model_name=\"nomic-embed-text\")\n",
    "llm = Ollama(model=\"llama3:8b\")"
   ]
  },
  {
   "cell_type": "code",
   "execution_count": 6,
   "id": "11c44e5e",
   "metadata": {},
   "outputs": [],
   "source": [
    "# Carregar documentos (ex.: PDFs em ./data)\n",
    "docs = SimpleDirectoryReader(\"data\").load_data()"
   ]
  },
  {
   "cell_type": "code",
   "execution_count": 7,
   "id": "ea71e779",
   "metadata": {},
   "outputs": [],
   "source": [
    "# Criar índice e query engine\n",
    "index = VectorStoreIndex.from_documents(docs, \n",
    "                                        embed_model=embed_model)\n",
    "qe = index.as_query_engine(llm=llm)"
   ]
  },
  {
   "cell_type": "code",
   "execution_count": 8,
   "id": "bfcc8eaf",
   "metadata": {},
   "outputs": [
    {
     "name": "stdout",
     "output_type": "stream",
     "text": [
      "Segundo a Lei nº 8.080/90, os princípios do Sistema Único de Saúde (SUS) são:\n",
      "\n",
      "I - Universalidade: o direito à saúde é universal e igual para todos;\n",
      "\n",
      "II - Integralidade: a atenção à saúde deve ser integral, considerando a multidisciplinaridade e a complementariedade das ações e serviços;\n",
      "\n",
      "III - Equidade: o acesso à saúde deve ser equitativo e não discriminatório;\n",
      "\n",
      "IV - Comunitário: a atenção à saúde deve ser desenvolvida em consonância com as necessidades e realidades locais;\n",
      "\n",
      "V - Participação: a sociedade civil, os usuários e os profissionais de saúde devem participar do processo decisório e de controle sobre o sistema de saúde.\n",
      "\n",
      "Esses princípios constituem a base do SUS e orientam sua organização e funcionamento.\n"
     ]
    }
   ],
   "source": [
    "# Perguntar\n",
    "resp = qe.query(\"Quais os princípios do SUS segundo a Lei 8.080?\")\n",
    "print(resp)"
   ]
  },
  {
   "cell_type": "markdown",
   "id": "e38517fd",
   "metadata": {},
   "source": [
    "## LLAMAINDEX com chunk explícito"
   ]
  },
  {
   "cell_type": "code",
   "execution_count": 54,
   "id": "8629115f",
   "metadata": {},
   "outputs": [
    {
     "name": "stdout",
     "output_type": "stream",
     "text": [
      "According to the provided context information, the principles of the SUS (Sistema Único de Saúde) according to Lei 8.080 are not explicitly stated. However, it is likely that they can be found within the contents of the file_path \"c:\\Users\\ander\\Documents\\Projetos\\Aulas\\proadi-sus-ciencia-de-dados-ia\\aulas\\Aulas\\DL - Agentes\\DL - Rag\\data\\lei-8080.pdf\".\n"
     ]
    }
   ],
   "source": [
    "\n",
    "from llama_index.core import VectorStoreIndex, SimpleDirectoryReader\n",
    "from llama_index.core.node_parser import SentenceSplitter\n",
    "from llama_index.embeddings.ollama import OllamaEmbedding\n",
    "from llama_index.llms.ollama import Ollama\n",
    "\n",
    "# Modelo local via Ollama\n",
    "embed_model = OllamaEmbedding(model_name=\"nomic-embed-text\")\n",
    "llm = Ollama(model=\"llama3:8b\")\n",
    "\n",
    "# Ler vários arquivos de uma pasta (PDF/TXT/DOCX…)\n",
    "docs = SimpleDirectoryReader(\"data\").load_data()\n",
    "\n",
    "# CHUNKING: dividir em pedaços menores (granularidade controlada)\n",
    "splitter = SentenceSplitter(chunk_size=800, chunk_overlap=120)\n",
    "nodes = splitter.get_nodes_from_documents(docs)  # vários chunks -> 1 embedding por chunk\n",
    "\n",
    "# Indexar (cada chunk vira um vetor)\n",
    "index = VectorStoreIndex(nodes, embed_model=embed_model)\n",
    "\n",
    "# Perguntar: só top-k trechos entram no prompt (não o corpus inteiro)\n",
    "qe = index.as_query_engine(llm=llm, similarity_top_k=3)\n",
    "resp = qe.query(\"Quais são os princípios do SUS segundo a Lei 8.080?\")\n",
    "print(resp)"
   ]
  },
  {
   "cell_type": "markdown",
   "id": "fbcf47e0",
   "metadata": {},
   "source": [
    "### Melhorando o RAG no LLAMA INDEX"
   ]
  },
  {
   "cell_type": "code",
   "execution_count": null,
   "id": "37935c81",
   "metadata": {},
   "outputs": [
    {
     "name": "stdout",
     "output_type": "stream",
     "text": [
      "Defaulting to user installation because normal site-packages is not writeable\n",
      "Collecting llama-index-readers-file\n",
      "  Downloading llama_index_readers_file-0.5.2-py3-none-any.whl.metadata (5.7 kB)\n",
      "Requirement already satisfied: pymupdf in c:\\users\\ander\\appdata\\local\\packages\\pythonsoftwarefoundation.python.3.12_qbz5n2kfra8p0\\localcache\\local-packages\\python312\\site-packages (1.26.4)\n",
      "Requirement already satisfied: beautifulsoup4<5,>=4.12.3 in c:\\users\\ander\\appdata\\local\\packages\\pythonsoftwarefoundation.python.3.12_qbz5n2kfra8p0\\localcache\\local-packages\\python312\\site-packages (from llama-index-readers-file) (4.13.4)\n",
      "Collecting defusedxml>=0.7.1 (from llama-index-readers-file)\n",
      "  Downloading defusedxml-0.7.1-py2.py3-none-any.whl.metadata (32 kB)\n",
      "Requirement already satisfied: llama-index-core<0.14,>=0.13.0 in c:\\users\\ander\\appdata\\local\\packages\\pythonsoftwarefoundation.python.3.12_qbz5n2kfra8p0\\localcache\\local-packages\\python312\\site-packages (from llama-index-readers-file) (0.13.3)\n",
      "Requirement already satisfied: pandas<2.3.0 in c:\\users\\ander\\appdata\\local\\packages\\pythonsoftwarefoundation.python.3.12_qbz5n2kfra8p0\\localcache\\local-packages\\python312\\site-packages (from llama-index-readers-file) (2.2.3)\n",
      "Requirement already satisfied: pypdf<7,>=5.1.0 in c:\\users\\ander\\appdata\\local\\packages\\pythonsoftwarefoundation.python.3.12_qbz5n2kfra8p0\\localcache\\local-packages\\python312\\site-packages (from llama-index-readers-file) (5.6.0)\n",
      "Collecting striprtf<0.0.27,>=0.0.26 (from llama-index-readers-file)\n",
      "  Downloading striprtf-0.0.26-py3-none-any.whl.metadata (2.1 kB)\n",
      "Requirement already satisfied: soupsieve>1.2 in c:\\users\\ander\\appdata\\local\\packages\\pythonsoftwarefoundation.python.3.12_qbz5n2kfra8p0\\localcache\\local-packages\\python312\\site-packages (from beautifulsoup4<5,>=4.12.3->llama-index-readers-file) (2.7)\n",
      "Requirement already satisfied: typing-extensions>=4.0.0 in c:\\users\\ander\\appdata\\local\\packages\\pythonsoftwarefoundation.python.3.12_qbz5n2kfra8p0\\localcache\\local-packages\\python312\\site-packages (from beautifulsoup4<5,>=4.12.3->llama-index-readers-file) (4.13.2)\n",
      "Requirement already satisfied: aiohttp<4,>=3.8.6 in c:\\users\\ander\\appdata\\local\\packages\\pythonsoftwarefoundation.python.3.12_qbz5n2kfra8p0\\localcache\\local-packages\\python312\\site-packages (from llama-index-core<0.14,>=0.13.0->llama-index-readers-file) (3.12.12)\n",
      "Requirement already satisfied: aiosqlite in c:\\users\\ander\\appdata\\local\\packages\\pythonsoftwarefoundation.python.3.12_qbz5n2kfra8p0\\localcache\\local-packages\\python312\\site-packages (from llama-index-core<0.14,>=0.13.0->llama-index-readers-file) (0.21.0)\n",
      "Requirement already satisfied: banks<3,>=2.2.0 in c:\\users\\ander\\appdata\\local\\packages\\pythonsoftwarefoundation.python.3.12_qbz5n2kfra8p0\\localcache\\local-packages\\python312\\site-packages (from llama-index-core<0.14,>=0.13.0->llama-index-readers-file) (2.2.0)\n",
      "Requirement already satisfied: dataclasses-json in c:\\users\\ander\\appdata\\local\\packages\\pythonsoftwarefoundation.python.3.12_qbz5n2kfra8p0\\localcache\\local-packages\\python312\\site-packages (from llama-index-core<0.14,>=0.13.0->llama-index-readers-file) (0.6.7)\n",
      "Requirement already satisfied: deprecated>=1.2.9.3 in c:\\users\\ander\\appdata\\local\\packages\\pythonsoftwarefoundation.python.3.12_qbz5n2kfra8p0\\localcache\\local-packages\\python312\\site-packages (from llama-index-core<0.14,>=0.13.0->llama-index-readers-file) (1.2.18)\n",
      "Requirement already satisfied: dirtyjson<2,>=1.0.8 in c:\\users\\ander\\appdata\\local\\packages\\pythonsoftwarefoundation.python.3.12_qbz5n2kfra8p0\\localcache\\local-packages\\python312\\site-packages (from llama-index-core<0.14,>=0.13.0->llama-index-readers-file) (1.0.8)\n",
      "Requirement already satisfied: filetype<2,>=1.2.0 in c:\\users\\ander\\appdata\\local\\packages\\pythonsoftwarefoundation.python.3.12_qbz5n2kfra8p0\\localcache\\local-packages\\python312\\site-packages (from llama-index-core<0.14,>=0.13.0->llama-index-readers-file) (1.2.0)\n",
      "Requirement already satisfied: fsspec>=2023.5.0 in c:\\users\\ander\\appdata\\local\\packages\\pythonsoftwarefoundation.python.3.12_qbz5n2kfra8p0\\localcache\\local-packages\\python312\\site-packages (from llama-index-core<0.14,>=0.13.0->llama-index-readers-file) (2025.3.2)\n",
      "Requirement already satisfied: httpx in c:\\users\\ander\\appdata\\local\\packages\\pythonsoftwarefoundation.python.3.12_qbz5n2kfra8p0\\localcache\\local-packages\\python312\\site-packages (from llama-index-core<0.14,>=0.13.0->llama-index-readers-file) (0.28.1)\n",
      "Requirement already satisfied: llama-index-workflows<2,>=1.0.1 in c:\\users\\ander\\appdata\\local\\packages\\pythonsoftwarefoundation.python.3.12_qbz5n2kfra8p0\\localcache\\local-packages\\python312\\site-packages (from llama-index-core<0.14,>=0.13.0->llama-index-readers-file) (1.3.0)\n",
      "Requirement already satisfied: nest-asyncio<2,>=1.5.8 in c:\\users\\ander\\appdata\\local\\packages\\pythonsoftwarefoundation.python.3.12_qbz5n2kfra8p0\\localcache\\local-packages\\python312\\site-packages (from llama-index-core<0.14,>=0.13.0->llama-index-readers-file) (1.6.0)\n",
      "Requirement already satisfied: networkx>=3.0 in c:\\users\\ander\\appdata\\local\\packages\\pythonsoftwarefoundation.python.3.12_qbz5n2kfra8p0\\localcache\\local-packages\\python312\\site-packages (from llama-index-core<0.14,>=0.13.0->llama-index-readers-file) (3.4.2)\n",
      "Requirement already satisfied: nltk>3.8.1 in c:\\users\\ander\\appdata\\local\\packages\\pythonsoftwarefoundation.python.3.12_qbz5n2kfra8p0\\localcache\\local-packages\\python312\\site-packages (from llama-index-core<0.14,>=0.13.0->llama-index-readers-file) (3.9.1)\n",
      "Requirement already satisfied: numpy in c:\\users\\ander\\appdata\\local\\packages\\pythonsoftwarefoundation.python.3.12_qbz5n2kfra8p0\\localcache\\local-packages\\python312\\site-packages (from llama-index-core<0.14,>=0.13.0->llama-index-readers-file) (2.2.5)\n",
      "Requirement already satisfied: pillow>=9.0.0 in c:\\users\\ander\\appdata\\local\\packages\\pythonsoftwarefoundation.python.3.12_qbz5n2kfra8p0\\localcache\\local-packages\\python312\\site-packages (from llama-index-core<0.14,>=0.13.0->llama-index-readers-file) (11.2.1)\n",
      "Requirement already satisfied: platformdirs in c:\\users\\ander\\appdata\\local\\packages\\pythonsoftwarefoundation.python.3.12_qbz5n2kfra8p0\\localcache\\local-packages\\python312\\site-packages (from llama-index-core<0.14,>=0.13.0->llama-index-readers-file) (4.3.8)\n",
      "Requirement already satisfied: pydantic>=2.8.0 in c:\\users\\ander\\appdata\\local\\packages\\pythonsoftwarefoundation.python.3.12_qbz5n2kfra8p0\\localcache\\local-packages\\python312\\site-packages (from llama-index-core<0.14,>=0.13.0->llama-index-readers-file) (2.11.7)\n",
      "Requirement already satisfied: pyyaml>=6.0.1 in c:\\users\\ander\\appdata\\local\\packages\\pythonsoftwarefoundation.python.3.12_qbz5n2kfra8p0\\localcache\\local-packages\\python312\\site-packages (from llama-index-core<0.14,>=0.13.0->llama-index-readers-file) (6.0.2)\n",
      "Requirement already satisfied: requests>=2.31.0 in c:\\users\\ander\\appdata\\local\\packages\\pythonsoftwarefoundation.python.3.12_qbz5n2kfra8p0\\localcache\\local-packages\\python312\\site-packages (from llama-index-core<0.14,>=0.13.0->llama-index-readers-file) (2.32.3)\n",
      "Requirement already satisfied: setuptools>=80.9.0 in c:\\users\\ander\\appdata\\local\\packages\\pythonsoftwarefoundation.python.3.12_qbz5n2kfra8p0\\localcache\\local-packages\\python312\\site-packages (from llama-index-core<0.14,>=0.13.0->llama-index-readers-file) (80.9.0)\n",
      "Requirement already satisfied: sqlalchemy>=1.4.49 in c:\\users\\ander\\appdata\\local\\packages\\pythonsoftwarefoundation.python.3.12_qbz5n2kfra8p0\\localcache\\local-packages\\python312\\site-packages (from sqlalchemy[asyncio]>=1.4.49->llama-index-core<0.14,>=0.13.0->llama-index-readers-file) (2.0.41)\n",
      "Requirement already satisfied: tenacity!=8.4.0,<10.0.0,>=8.2.0 in c:\\users\\ander\\appdata\\local\\packages\\pythonsoftwarefoundation.python.3.12_qbz5n2kfra8p0\\localcache\\local-packages\\python312\\site-packages (from llama-index-core<0.14,>=0.13.0->llama-index-readers-file) (9.1.2)\n",
      "Requirement already satisfied: tiktoken>=0.7.0 in c:\\users\\ander\\appdata\\local\\packages\\pythonsoftwarefoundation.python.3.12_qbz5n2kfra8p0\\localcache\\local-packages\\python312\\site-packages (from llama-index-core<0.14,>=0.13.0->llama-index-readers-file) (0.9.0)\n",
      "Requirement already satisfied: tqdm<5,>=4.66.1 in c:\\users\\ander\\appdata\\local\\packages\\pythonsoftwarefoundation.python.3.12_qbz5n2kfra8p0\\localcache\\local-packages\\python312\\site-packages (from llama-index-core<0.14,>=0.13.0->llama-index-readers-file) (4.67.1)\n",
      "Requirement already satisfied: typing-inspect>=0.8.0 in c:\\users\\ander\\appdata\\local\\packages\\pythonsoftwarefoundation.python.3.12_qbz5n2kfra8p0\\localcache\\local-packages\\python312\\site-packages (from llama-index-core<0.14,>=0.13.0->llama-index-readers-file) (0.9.0)\n",
      "Requirement already satisfied: wrapt in c:\\users\\ander\\appdata\\local\\packages\\pythonsoftwarefoundation.python.3.12_qbz5n2kfra8p0\\localcache\\local-packages\\python312\\site-packages (from llama-index-core<0.14,>=0.13.0->llama-index-readers-file) (1.17.2)\n",
      "Requirement already satisfied: aiohappyeyeballs>=2.5.0 in c:\\users\\ander\\appdata\\local\\packages\\pythonsoftwarefoundation.python.3.12_qbz5n2kfra8p0\\localcache\\local-packages\\python312\\site-packages (from aiohttp<4,>=3.8.6->llama-index-core<0.14,>=0.13.0->llama-index-readers-file) (2.6.1)\n",
      "Requirement already satisfied: aiosignal>=1.1.2 in c:\\users\\ander\\appdata\\local\\packages\\pythonsoftwarefoundation.python.3.12_qbz5n2kfra8p0\\localcache\\local-packages\\python312\\site-packages (from aiohttp<4,>=3.8.6->llama-index-core<0.14,>=0.13.0->llama-index-readers-file) (1.3.2)\n",
      "Requirement already satisfied: attrs>=17.3.0 in c:\\users\\ander\\appdata\\local\\packages\\pythonsoftwarefoundation.python.3.12_qbz5n2kfra8p0\\localcache\\local-packages\\python312\\site-packages (from aiohttp<4,>=3.8.6->llama-index-core<0.14,>=0.13.0->llama-index-readers-file) (25.3.0)\n",
      "Requirement already satisfied: frozenlist>=1.1.1 in c:\\users\\ander\\appdata\\local\\packages\\pythonsoftwarefoundation.python.3.12_qbz5n2kfra8p0\\localcache\\local-packages\\python312\\site-packages (from aiohttp<4,>=3.8.6->llama-index-core<0.14,>=0.13.0->llama-index-readers-file) (1.7.0)\n",
      "Requirement already satisfied: multidict<7.0,>=4.5 in c:\\users\\ander\\appdata\\local\\packages\\pythonsoftwarefoundation.python.3.12_qbz5n2kfra8p0\\localcache\\local-packages\\python312\\site-packages (from aiohttp<4,>=3.8.6->llama-index-core<0.14,>=0.13.0->llama-index-readers-file) (6.4.4)\n",
      "Requirement already satisfied: propcache>=0.2.0 in c:\\users\\ander\\appdata\\local\\packages\\pythonsoftwarefoundation.python.3.12_qbz5n2kfra8p0\\localcache\\local-packages\\python312\\site-packages (from aiohttp<4,>=3.8.6->llama-index-core<0.14,>=0.13.0->llama-index-readers-file) (0.3.2)\n",
      "Requirement already satisfied: yarl<2.0,>=1.17.0 in c:\\users\\ander\\appdata\\local\\packages\\pythonsoftwarefoundation.python.3.12_qbz5n2kfra8p0\\localcache\\local-packages\\python312\\site-packages (from aiohttp<4,>=3.8.6->llama-index-core<0.14,>=0.13.0->llama-index-readers-file) (1.20.1)\n",
      "Requirement already satisfied: griffe in c:\\users\\ander\\appdata\\local\\packages\\pythonsoftwarefoundation.python.3.12_qbz5n2kfra8p0\\localcache\\local-packages\\python312\\site-packages (from banks<3,>=2.2.0->llama-index-core<0.14,>=0.13.0->llama-index-readers-file) (1.13.0)\n",
      "Requirement already satisfied: jinja2 in c:\\users\\ander\\appdata\\local\\packages\\pythonsoftwarefoundation.python.3.12_qbz5n2kfra8p0\\localcache\\local-packages\\python312\\site-packages (from banks<3,>=2.2.0->llama-index-core<0.14,>=0.13.0->llama-index-readers-file) (3.1.6)\n",
      "Requirement already satisfied: llama-index-instrumentation>=0.1.0 in c:\\users\\ander\\appdata\\local\\packages\\pythonsoftwarefoundation.python.3.12_qbz5n2kfra8p0\\localcache\\local-packages\\python312\\site-packages (from llama-index-workflows<2,>=1.0.1->llama-index-core<0.14,>=0.13.0->llama-index-readers-file) (0.4.0)\n",
      "Requirement already satisfied: python-dateutil>=2.8.2 in c:\\users\\ander\\appdata\\local\\packages\\pythonsoftwarefoundation.python.3.12_qbz5n2kfra8p0\\localcache\\local-packages\\python312\\site-packages (from pandas<2.3.0->llama-index-readers-file) (2.9.0.post0)\n",
      "Requirement already satisfied: pytz>=2020.1 in c:\\users\\ander\\appdata\\local\\packages\\pythonsoftwarefoundation.python.3.12_qbz5n2kfra8p0\\localcache\\local-packages\\python312\\site-packages (from pandas<2.3.0->llama-index-readers-file) (2025.2)\n",
      "Requirement already satisfied: tzdata>=2022.7 in c:\\users\\ander\\appdata\\local\\packages\\pythonsoftwarefoundation.python.3.12_qbz5n2kfra8p0\\localcache\\local-packages\\python312\\site-packages (from pandas<2.3.0->llama-index-readers-file) (2025.2)\n",
      "Requirement already satisfied: colorama in c:\\users\\ander\\appdata\\local\\packages\\pythonsoftwarefoundation.python.3.12_qbz5n2kfra8p0\\localcache\\local-packages\\python312\\site-packages (from tqdm<5,>=4.66.1->llama-index-core<0.14,>=0.13.0->llama-index-readers-file) (0.4.6)\n",
      "Requirement already satisfied: idna>=2.0 in c:\\users\\ander\\appdata\\local\\packages\\pythonsoftwarefoundation.python.3.12_qbz5n2kfra8p0\\localcache\\local-packages\\python312\\site-packages (from yarl<2.0,>=1.17.0->aiohttp<4,>=3.8.6->llama-index-core<0.14,>=0.13.0->llama-index-readers-file) (3.10)\n",
      "Requirement already satisfied: click in c:\\users\\ander\\appdata\\local\\packages\\pythonsoftwarefoundation.python.3.12_qbz5n2kfra8p0\\localcache\\local-packages\\python312\\site-packages (from nltk>3.8.1->llama-index-core<0.14,>=0.13.0->llama-index-readers-file) (8.1.8)\n",
      "Requirement already satisfied: joblib in c:\\users\\ander\\appdata\\local\\packages\\pythonsoftwarefoundation.python.3.12_qbz5n2kfra8p0\\localcache\\local-packages\\python312\\site-packages (from nltk>3.8.1->llama-index-core<0.14,>=0.13.0->llama-index-readers-file) (1.5.1)\n",
      "Requirement already satisfied: regex>=2021.8.3 in c:\\users\\ander\\appdata\\local\\packages\\pythonsoftwarefoundation.python.3.12_qbz5n2kfra8p0\\localcache\\local-packages\\python312\\site-packages (from nltk>3.8.1->llama-index-core<0.14,>=0.13.0->llama-index-readers-file) (2024.11.6)\n",
      "Requirement already satisfied: annotated-types>=0.6.0 in c:\\users\\ander\\appdata\\local\\packages\\pythonsoftwarefoundation.python.3.12_qbz5n2kfra8p0\\localcache\\local-packages\\python312\\site-packages (from pydantic>=2.8.0->llama-index-core<0.14,>=0.13.0->llama-index-readers-file) (0.7.0)\n",
      "Requirement already satisfied: pydantic-core==2.33.2 in c:\\users\\ander\\appdata\\local\\packages\\pythonsoftwarefoundation.python.3.12_qbz5n2kfra8p0\\localcache\\local-packages\\python312\\site-packages (from pydantic>=2.8.0->llama-index-core<0.14,>=0.13.0->llama-index-readers-file) (2.33.2)\n",
      "Requirement already satisfied: typing-inspection>=0.4.0 in c:\\users\\ander\\appdata\\local\\packages\\pythonsoftwarefoundation.python.3.12_qbz5n2kfra8p0\\localcache\\local-packages\\python312\\site-packages (from pydantic>=2.8.0->llama-index-core<0.14,>=0.13.0->llama-index-readers-file) (0.4.0)\n",
      "Requirement already satisfied: six>=1.5 in c:\\users\\ander\\appdata\\local\\packages\\pythonsoftwarefoundation.python.3.12_qbz5n2kfra8p0\\localcache\\local-packages\\python312\\site-packages (from python-dateutil>=2.8.2->pandas<2.3.0->llama-index-readers-file) (1.17.0)\n",
      "Requirement already satisfied: charset-normalizer<4,>=2 in c:\\users\\ander\\appdata\\local\\packages\\pythonsoftwarefoundation.python.3.12_qbz5n2kfra8p0\\localcache\\local-packages\\python312\\site-packages (from requests>=2.31.0->llama-index-core<0.14,>=0.13.0->llama-index-readers-file) (3.4.2)\n",
      "Requirement already satisfied: urllib3<3,>=1.21.1 in c:\\users\\ander\\appdata\\local\\packages\\pythonsoftwarefoundation.python.3.12_qbz5n2kfra8p0\\localcache\\local-packages\\python312\\site-packages (from requests>=2.31.0->llama-index-core<0.14,>=0.13.0->llama-index-readers-file) (2.4.0)\n",
      "Requirement already satisfied: certifi>=2017.4.17 in c:\\users\\ander\\appdata\\local\\packages\\pythonsoftwarefoundation.python.3.12_qbz5n2kfra8p0\\localcache\\local-packages\\python312\\site-packages (from requests>=2.31.0->llama-index-core<0.14,>=0.13.0->llama-index-readers-file) (2025.4.26)\n",
      "Requirement already satisfied: greenlet>=1 in c:\\users\\ander\\appdata\\local\\packages\\pythonsoftwarefoundation.python.3.12_qbz5n2kfra8p0\\localcache\\local-packages\\python312\\site-packages (from sqlalchemy>=1.4.49->sqlalchemy[asyncio]>=1.4.49->llama-index-core<0.14,>=0.13.0->llama-index-readers-file) (3.2.3)\n",
      "Requirement already satisfied: mypy-extensions>=0.3.0 in c:\\users\\ander\\appdata\\local\\packages\\pythonsoftwarefoundation.python.3.12_qbz5n2kfra8p0\\localcache\\local-packages\\python312\\site-packages (from typing-inspect>=0.8.0->llama-index-core<0.14,>=0.13.0->llama-index-readers-file) (1.1.0)\n",
      "Requirement already satisfied: marshmallow<4.0.0,>=3.18.0 in c:\\users\\ander\\appdata\\local\\packages\\pythonsoftwarefoundation.python.3.12_qbz5n2kfra8p0\\localcache\\local-packages\\python312\\site-packages (from dataclasses-json->llama-index-core<0.14,>=0.13.0->llama-index-readers-file) (3.26.1)\n",
      "Requirement already satisfied: packaging>=17.0 in c:\\users\\ander\\appdata\\local\\packages\\pythonsoftwarefoundation.python.3.12_qbz5n2kfra8p0\\localcache\\local-packages\\python312\\site-packages (from marshmallow<4.0.0,>=3.18.0->dataclasses-json->llama-index-core<0.14,>=0.13.0->llama-index-readers-file) (24.2)\n",
      "Requirement already satisfied: anyio in c:\\users\\ander\\appdata\\local\\packages\\pythonsoftwarefoundation.python.3.12_qbz5n2kfra8p0\\localcache\\local-packages\\python312\\site-packages (from httpx->llama-index-core<0.14,>=0.13.0->llama-index-readers-file) (4.9.0)\n",
      "Requirement already satisfied: httpcore==1.* in c:\\users\\ander\\appdata\\local\\packages\\pythonsoftwarefoundation.python.3.12_qbz5n2kfra8p0\\localcache\\local-packages\\python312\\site-packages (from httpx->llama-index-core<0.14,>=0.13.0->llama-index-readers-file) (1.0.9)\n",
      "Requirement already satisfied: h11>=0.16 in c:\\users\\ander\\appdata\\local\\packages\\pythonsoftwarefoundation.python.3.12_qbz5n2kfra8p0\\localcache\\local-packages\\python312\\site-packages (from httpcore==1.*->httpx->llama-index-core<0.14,>=0.13.0->llama-index-readers-file) (0.16.0)\n",
      "Requirement already satisfied: sniffio>=1.1 in c:\\users\\ander\\appdata\\local\\packages\\pythonsoftwarefoundation.python.3.12_qbz5n2kfra8p0\\localcache\\local-packages\\python312\\site-packages (from anyio->httpx->llama-index-core<0.14,>=0.13.0->llama-index-readers-file) (1.3.1)\n",
      "Requirement already satisfied: MarkupSafe>=2.0 in c:\\users\\ander\\appdata\\local\\packages\\pythonsoftwarefoundation.python.3.12_qbz5n2kfra8p0\\localcache\\local-packages\\python312\\site-packages (from jinja2->banks<3,>=2.2.0->llama-index-core<0.14,>=0.13.0->llama-index-readers-file) (3.0.2)\n",
      "Downloading llama_index_readers_file-0.5.2-py3-none-any.whl (51 kB)\n",
      "Downloading striprtf-0.0.26-py3-none-any.whl (6.9 kB)\n",
      "Downloading defusedxml-0.7.1-py2.py3-none-any.whl (25 kB)\n",
      "Installing collected packages: striprtf, defusedxml, llama-index-readers-file\n",
      "\n",
      "   -------------------------- ------------- 2/3 [llama-index-readers-file]\n",
      "   -------------------------- ------------- 2/3 [llama-index-readers-file]\n",
      "   ---------------------------------------- 3/3 [llama-index-readers-file]\n",
      "\n",
      "Successfully installed defusedxml-0.7.1 llama-index-readers-file-0.5.2 striprtf-0.0.26\n"
     ]
    },
    {
     "name": "stderr",
     "output_type": "stream",
     "text": [
      "\n",
      "[notice] A new release of pip is available: 25.1.1 -> 25.2\n",
      "[notice] To update, run: C:\\Users\\ander\\AppData\\Local\\Microsoft\\WindowsApps\\PythonSoftwareFoundation.Python.3.12_qbz5n2kfra8p0\\python.exe -m pip install --upgrade pip\n"
     ]
    }
   ],
   "source": [
    "#pip install llama-index-core llama-index-embeddings-ollama llama-index-llms-ollama pymupdf\n",
    "#!pip install llama-index-readers-file pymupdf"
   ]
  },
  {
   "cell_type": "code",
   "execution_count": 84,
   "id": "83e5afbd",
   "metadata": {},
   "outputs": [],
   "source": [
    "from llama_index.core import VectorStoreIndex, SimpleDirectoryReader\n",
    "from llama_index.core.node_parser import SentenceSplitter\n",
    "from llama_index.core.indices.postprocessor import SimilarityPostprocessor\n",
    "from llama_index.embeddings.ollama import OllamaEmbedding\n",
    "from llama_index.llms.ollama import Ollama\n",
    "from llama_index.core.prompts import PromptTemplate\n",
    "from llama_index.readers.file import PyMuPDFReader"
   ]
  },
  {
   "cell_type": "code",
   "execution_count": 83,
   "id": "46fc60ed",
   "metadata": {},
   "outputs": [],
   "source": [
    "# Modelos locais\n",
    "embed = OllamaEmbedding(model_name=\"nomic-embed-text\")\n",
    "llm = Ollama(model=\"llama3:8b\")"
   ]
  },
  {
   "cell_type": "code",
   "execution_count": 85,
   "id": "8511dd4b",
   "metadata": {},
   "outputs": [],
   "source": [
    "#Carregar documentos (ex.: ./data com PDFs/TXTs)\n",
    "docs = PyMuPDFReader().load(\"data/lei-8080.pdf\")"
   ]
  },
  {
   "cell_type": "code",
   "execution_count": 87,
   "id": "9c6e1f27",
   "metadata": {},
   "outputs": [],
   "source": [
    "# CHUNKING explícito (melhora granularidade)\n",
    "splitter = SentenceSplitter(chunk_size=800, chunk_overlap=120)\n",
    "nodes = splitter.get_nodes_from_documents(docs)"
   ]
  },
  {
   "cell_type": "code",
   "execution_count": 89,
   "id": "2c003527",
   "metadata": {},
   "outputs": [
    {
     "name": "stderr",
     "output_type": "stream",
     "text": [
      "2025-09-01 21:42:53,299 - INFO - HTTP Request: POST http://localhost:11434/api/embed \"HTTP/1.1 200 OK\"\n",
      "2025-09-01 21:42:53,332 - INFO - HTTP Request: POST http://localhost:11434/api/embed \"HTTP/1.1 200 OK\"\n",
      "2025-09-01 21:42:53,365 - INFO - HTTP Request: POST http://localhost:11434/api/embed \"HTTP/1.1 200 OK\"\n",
      "2025-09-01 21:42:53,386 - INFO - HTTP Request: POST http://localhost:11434/api/embed \"HTTP/1.1 200 OK\"\n",
      "2025-09-01 21:42:53,422 - INFO - HTTP Request: POST http://localhost:11434/api/embed \"HTTP/1.1 200 OK\"\n",
      "2025-09-01 21:42:53,451 - INFO - HTTP Request: POST http://localhost:11434/api/embed \"HTTP/1.1 200 OK\"\n",
      "2025-09-01 21:42:53,474 - INFO - HTTP Request: POST http://localhost:11434/api/embed \"HTTP/1.1 200 OK\"\n",
      "2025-09-01 21:42:53,497 - INFO - HTTP Request: POST http://localhost:11434/api/embed \"HTTP/1.1 200 OK\"\n",
      "2025-09-01 21:42:53,526 - INFO - HTTP Request: POST http://localhost:11434/api/embed \"HTTP/1.1 200 OK\"\n",
      "2025-09-01 21:42:53,570 - INFO - HTTP Request: POST http://localhost:11434/api/embed \"HTTP/1.1 200 OK\"\n",
      "2025-09-01 21:42:53,596 - INFO - HTTP Request: POST http://localhost:11434/api/embed \"HTTP/1.1 200 OK\"\n",
      "2025-09-01 21:42:53,625 - INFO - HTTP Request: POST http://localhost:11434/api/embed \"HTTP/1.1 200 OK\"\n",
      "2025-09-01 21:42:53,654 - INFO - HTTP Request: POST http://localhost:11434/api/embed \"HTTP/1.1 200 OK\"\n",
      "2025-09-01 21:42:53,693 - INFO - HTTP Request: POST http://localhost:11434/api/embed \"HTTP/1.1 200 OK\"\n",
      "2025-09-01 21:42:53,716 - INFO - HTTP Request: POST http://localhost:11434/api/embed \"HTTP/1.1 200 OK\"\n",
      "2025-09-01 21:42:53,746 - INFO - HTTP Request: POST http://localhost:11434/api/embed \"HTTP/1.1 200 OK\"\n",
      "2025-09-01 21:42:53,768 - INFO - HTTP Request: POST http://localhost:11434/api/embed \"HTTP/1.1 200 OK\"\n",
      "2025-09-01 21:42:53,803 - INFO - HTTP Request: POST http://localhost:11434/api/embed \"HTTP/1.1 200 OK\"\n",
      "2025-09-01 21:42:53,825 - INFO - HTTP Request: POST http://localhost:11434/api/embed \"HTTP/1.1 200 OK\"\n",
      "2025-09-01 21:42:53,854 - INFO - HTTP Request: POST http://localhost:11434/api/embed \"HTTP/1.1 200 OK\"\n",
      "2025-09-01 21:42:53,874 - INFO - HTTP Request: POST http://localhost:11434/api/embed \"HTTP/1.1 200 OK\"\n",
      "2025-09-01 21:42:53,905 - INFO - HTTP Request: POST http://localhost:11434/api/embed \"HTTP/1.1 200 OK\"\n",
      "2025-09-01 21:42:53,928 - INFO - HTTP Request: POST http://localhost:11434/api/embed \"HTTP/1.1 200 OK\"\n",
      "2025-09-01 21:42:53,957 - INFO - HTTP Request: POST http://localhost:11434/api/embed \"HTTP/1.1 200 OK\"\n",
      "2025-09-01 21:42:53,987 - INFO - HTTP Request: POST http://localhost:11434/api/embed \"HTTP/1.1 200 OK\"\n",
      "2025-09-01 21:42:54,008 - INFO - HTTP Request: POST http://localhost:11434/api/embed \"HTTP/1.1 200 OK\"\n",
      "2025-09-01 21:42:54,044 - INFO - HTTP Request: POST http://localhost:11434/api/embed \"HTTP/1.1 200 OK\"\n",
      "2025-09-01 21:42:54,073 - INFO - HTTP Request: POST http://localhost:11434/api/embed \"HTTP/1.1 200 OK\"\n",
      "2025-09-01 21:42:54,103 - INFO - HTTP Request: POST http://localhost:11434/api/embed \"HTTP/1.1 200 OK\"\n"
     ]
    }
   ],
   "source": [
    "# Indexar (em memória)\n",
    "index = VectorStoreIndex(nodes, embed_model=embed)"
   ]
  },
  {
   "cell_type": "code",
   "execution_count": 91,
   "id": "8be9fb78",
   "metadata": {},
   "outputs": [],
   "source": [
    "# PROMPT mais elaborado (citar fonte / permitir “Não sei”)\n",
    "qa_tmpl = PromptTemplate(\n",
    "    \"Responda APENAS com base nos trechos fornecidos.\\n\"\n",
    "    \"Se não houver evidência suficiente, diga 'Não sei'.\\n\\n\"\n",
    "    \"Pergunta: {query_str}\\n\"\n",
    "    \"Trechos:\\n{context_str}\\n\"\n",
    ")"
   ]
  },
  {
   "cell_type": "code",
   "execution_count": 100,
   "id": "aea7d8a6",
   "metadata": {},
   "outputs": [],
   "source": [
    "# Pós-processador para cortar irrelevantes por similaridade\n",
    "post = [SimilarityPostprocessor(similarity_cutoff=0.60)]"
   ]
  },
  {
   "cell_type": "code",
   "execution_count": null,
   "id": "f3f173cd",
   "metadata": {},
   "outputs": [],
   "source": [
    "# Query engine com top-k pequeno + cutoff + prompt próprio\n",
    "qe = index.as_query_engine(\n",
    "    llm=llm,\n",
    "    similarity_top_k=10,\n",
    "    text_qa_template=qa_tmpl,\n",
    "    node_postprocessors=post,  # descarta trechos fracos\n",
    "    response_mode=\"compact\",   # resposta objetiva\n",
    ")"
   ]
  },
  {
   "cell_type": "code",
   "execution_count": 104,
   "id": "060e53f2",
   "metadata": {},
   "outputs": [
    {
     "name": "stderr",
     "output_type": "stream",
     "text": [
      "2025-09-01 21:45:12,568 - INFO - HTTP Request: POST http://localhost:11434/api/embed \"HTTP/1.1 200 OK\"\n",
      "2025-09-01 21:45:16,495 - INFO - HTTP Request: POST http://localhost:11434/api/chat \"HTTP/1.1 200 OK\"\n"
     ]
    },
    {
     "name": "stdout",
     "output_type": "stream",
     "text": [
      "Os princípios do SUS são:\n",
      "\n",
      "I - universalidade de acesso aos serviços de saúde em todos os níveis de assistência;\n",
      "\n",
      "II - decisão sobre os aspectos operacionais, financeiros e administrativos da gestão compartilhada do SUS, em conformidade com a definição da política consubstanciada em planos de saúde, aprovados pelos conselhos de saúde.\n",
      "\n",
      "Não há mais trechos que mencionem outros princípios.\n"
     ]
    }
   ],
   "source": [
    "# Perguntar e mostrar fontes\n",
    "q = \"Quais são os princípios do SUS?\"\n",
    "resp = qe.query(q)\n",
    "print(resp)  # resposta já sintetizada"
   ]
  },
  {
   "cell_type": "code",
   "execution_count": 103,
   "id": "0750cd0f",
   "metadata": {},
   "outputs": [
    {
     "name": "stdout",
     "output_type": "stream",
     "text": [
      "\n",
      "Fontes:\n",
      "- data/lei-8080.pdf\n",
      "- data/lei-8080.pdf\n",
      "- data/lei-8080.pdf\n",
      "- data/lei-8080.pdf\n",
      "- data/lei-8080.pdf\n",
      "- data/lei-8080.pdf\n",
      "- data/lei-8080.pdf\n",
      "- data/lei-8080.pdf\n",
      "- data/lei-8080.pdf\n",
      "- data/lei-8080.pdf\n"
     ]
    }
   ],
   "source": [
    "print(\"\\nFontes:\")\n",
    "for n in resp.source_nodes:\n",
    "    print(\"-\", n.node.metadata.get(\"file_path\", n.node.metadata.get(\"filename\", \"\")))"
   ]
  },
  {
   "cell_type": "code",
   "execution_count": null,
   "id": "4acfb9dd",
   "metadata": {},
   "outputs": [],
   "source": []
  }
 ],
 "metadata": {
  "kernelspec": {
   "display_name": "Python 3",
   "language": "python",
   "name": "python3"
  },
  "language_info": {
   "codemirror_mode": {
    "name": "ipython",
    "version": 3
   },
   "file_extension": ".py",
   "mimetype": "text/x-python",
   "name": "python",
   "nbconvert_exporter": "python",
   "pygments_lexer": "ipython3",
   "version": "3.12.10"
  }
 },
 "nbformat": 4,
 "nbformat_minor": 5
}
