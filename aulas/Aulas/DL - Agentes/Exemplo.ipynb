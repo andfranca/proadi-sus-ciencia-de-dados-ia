{
 "cells": [
  {
   "cell_type": "code",
   "execution_count": 5,
   "id": "8a536e4e",
   "metadata": {},
   "outputs": [],
   "source": [
    "from langchain.llms import Ollama\n",
    "from langchain.chains.question_answering import load_qa_chain\n",
    "from langchain.document_loaders import PyPDFLoader\n",
    "from langchain.text_splitter import CharacterTextSplitter"
   ]
  },
  {
   "cell_type": "code",
   "execution_count": null,
   "id": "c3758dca",
   "metadata": {},
   "outputs": [],
   "source": [
    "#Carrega o PDF\n",
    "loader = PyPDFLoader(\"artigo.pdf\")\n",
    "pages = loader.load()"
   ]
  },
  {
   "cell_type": "code",
   "execution_count": null,
   "id": "2d6bb69a",
   "metadata": {},
   "outputs": [],
   "source": [
    "#Divide o texto\n",
    "splitter = CharacterTextSplitter(chunk_size=1000, chunk_overlap=200)\n",
    "docs = splitter.split_documents(pages)\n"
   ]
  },
  {
   "cell_type": "code",
   "execution_count": null,
   "id": "c7e40b23",
   "metadata": {},
   "outputs": [],
   "source": [
    "#Cria o modelo\n",
    "llm = Ollama(model=\"deepseek-llm:latest\", base_url=\"http://localhost:11434\")"
   ]
  },
  {
   "cell_type": "code",
   "execution_count": null,
   "id": "cf33c38d",
   "metadata": {},
   "outputs": [],
   "source": [
    "#Define o chain\n",
    "chain = load_qa_chain(llm, chain_type=\"stuff\")"
   ]
  },
  {
   "cell_type": "code",
   "execution_count": null,
   "id": "91ee9db0",
   "metadata": {},
   "outputs": [],
   "source": [
    "# Executa\n",
    "pergunta = \"Qual a conclusão do artigo?\""
   ]
  },
  {
   "cell_type": "code",
   "execution_count": 30,
   "id": "9e54d182",
   "metadata": {},
   "outputs": [
    {
     "name": "stdout",
     "output_type": "stream",
     "text": [
      "O artigo apresenta e valida externamente um algoritmo de IA desenvolvido para auxiliar médicos na identificação de radiografias de costelas com padrões radiográficos indicativos de gripe e tuberculose pulmonar em pacientes com sintomas respiratórios. O estudo foi realizado em um centro de referência no Brasil, com base em dados obtidos a partir da união entre uma equipe de radiologistas clínicos especializados e pesquisadores de IA. A validação externa do algoritmo demonstrou comprovadamente altas taxas de precisão (87,6%) na classificação dos casos de gripe e 95,2% na identificação de pacientes com tuberculose pulmonar, além da baixa taxa de especulação (10%).\n",
      "\n",
      "O algoritmo desenvolvido foi baseado em um modelo deep learning chamado \"ChestX-ray8\", que conta com 8.672 imagens de costelas pré-processadas, com labels binários para a presença ou ausência de gripe e tuberculose pulmonar. Além disso, o modelo foi treinado e testado em uma amostra aleatória de pacientes, garantindo um escopo realista da aplicação clínica do algoritmo no setor médico.\n",
      "\n",
      "A validação externa do algoritmo apoiou a importância da utilização de modelos deep learning na prescrever medicamentos antigripais e para o diagnóstico precoce de enfermidades infecciosas, inclusive em regiões onde há escassez de recursos médicos e equipamentos de imagem. Além disso, a aplicação deste tipo de soluções pode contribuir para uma melhor gestão da saúde global, especialmente na luta contra a tuberculose, que é um dos principais responsáveis por mortes causadas pelas doenças infecciosas.\n",
      "\n",
      "Em resumo, o estudo apresentado demonstra a validade e eficácia de um algoritmo deep learning em identificar radiografias de costelas com padrões indicativos de gripe e tuberculose pulmonar em pacientes hospitalizados. Além disso, os dados coletados no estudo podem ser utilizados para avaliar o desempenho do modelo na próxima fase da pesquisa clínica, com o objetivo final de validar a aplicação deste tipo de soluções em ambientes hospitalares.\n"
     ]
    }
   ],
   "source": [
    "resposta = chain.run(input_documents=docs, question=pergunta)\n",
    "\n",
    "print(resposta)"
   ]
  }
 ],
 "metadata": {
  "kernelspec": {
   "display_name": "Python 3",
   "language": "python",
   "name": "python3"
  },
  "language_info": {
   "codemirror_mode": {
    "name": "ipython",
    "version": 3
   },
   "file_extension": ".py",
   "mimetype": "text/x-python",
   "name": "python",
   "nbconvert_exporter": "python",
   "pygments_lexer": "ipython3",
   "version": "3.12.10"
  }
 },
 "nbformat": 4,
 "nbformat_minor": 5
}
