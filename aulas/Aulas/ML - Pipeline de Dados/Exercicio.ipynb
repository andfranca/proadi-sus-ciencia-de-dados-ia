{
 "cells": [
  {
   "cell_type": "markdown",
   "id": "283eccf6",
   "metadata": {},
   "source": [
    "#### **Pré-processamento + Pipeline**"
   ]
  },
  {
   "cell_type": "code",
   "execution_count": null,
   "id": "da933e01",
   "metadata": {},
   "outputs": [],
   "source": [
    "from sklearn.preprocessing import StandardScaler, OneHotEncoder\n",
    "from sklearn.compose import ColumnTransformer\n",
    "from sklearn.pipeline import Pipeline\n",
    "from sklearn.model_selection import cross_validate\n",
    "from sklearn.linear_model import LogisticRegression\n",
    "from sklearn.tree import DecisionTreeClassifier\n",
    "import pandas as pd\n",
    "import numpy as np\n",
    "\n",
    "# Separar colunas\n",
    "colunas_num = X.select_dtypes(include=np.number).columns.tolist()\n",
    "colunas_cat = X.select_dtypes(include='object').columns.tolist()\n",
    "\n",
    "# Pré-processador\n",
    "preprocessador = ColumnTransformer([\n",
    "    ('num', StandardScaler(), colunas_num),\n",
    "    ('cat', OneHotEncoder(handle_unknown='ignore'), colunas_cat)\n",
    "])"
   ]
  },
  {
   "cell_type": "markdown",
   "id": "2e2c6f03",
   "metadata": {},
   "source": [
    "### **Pipeline com modelo (ex: Regressão Logística)**\n"
   ]
  },
  {
   "cell_type": "code",
   "execution_count": null,
   "id": "facd3b1f",
   "metadata": {},
   "outputs": [],
   "source": [
    "pipeline_log = Pipeline([\n",
    "    ('preprocessador', preprocessador),\n",
    "    ('modelo', LogisticRegression(max_iter=1000, class_weight='balanced', random_state=42))\n",
    "])\n",
    "\n",
    "# Validação cruzada\n",
    "resultados_log = cross_validate(\n",
    "    pipeline_log, X_train, y_train,\n",
    "    cv=5,\n",
    "    scoring=['accuracy', 'precision', 'recall', 'f1'],\n",
    "    return_train_score=True\n",
    ")\n",
    "\n",
    "pd.DataFrame(resultados_log).mean()"
   ]
  },
  {
   "cell_type": "markdown",
   "id": "a601da1c",
   "metadata": {},
   "source": [
    "### **Pipeline com Árvore de Decisão**"
   ]
  },
  {
   "cell_type": "code",
   "execution_count": null,
   "id": "92bff92f",
   "metadata": {},
   "outputs": [],
   "source": [
    "pipeline_arvore = Pipeline([\n",
    "    ('preprocessador', preprocessador),\n",
    "    ('modelo', DecisionTreeClassifier(class_weight='balanced', max_depth=5, random_state=42))\n",
    "])\n",
    "\n",
    "resultados_arvore = cross_validate(\n",
    "    pipeline_arvore, X_train, y_train,\n",
    "    cv=5,\n",
    "    scoring=['accuracy', 'precision', 'recall', 'f1'],\n",
    "    return_train_score=True\n",
    ")\n",
    "\n",
    "pd.DataFrame(resultados_arvore).mean()"
   ]
  },
  {
   "cell_type": "markdown",
   "id": "87bef386",
   "metadata": {},
   "source": [
    "### **(Opcional) Ajuste com GridSearchCV dentro do pipeline**\n"
   ]
  },
  {
   "cell_type": "code",
   "execution_count": null,
   "id": "fd389753",
   "metadata": {},
   "outputs": [],
   "source": [
    "\n",
    "from sklearn.model_selection import GridSearchCV\n",
    "\n",
    "param_grid = {\n",
    "    'modelo__max_depth': [3, 5, 10],\n",
    "    'modelo__min_samples_split': [2, 5, 10]\n",
    "}\n",
    "\n",
    "pipeline_gs = Pipeline([\n",
    "    ('preprocessador', preprocessador),\n",
    "    ('modelo', DecisionTreeClassifier(class_weight='balanced', random_state=42))\n",
    "])\n",
    "\n",
    "grid = GridSearchCV(pipeline_gs, param_grid, cv=5, scoring='f1', n_jobs=-1)\n",
    "grid.fit(X_train, y_train)\n",
    "\n",
    "print(\"Melhores parâmetros:\", grid.best_params_)"
   ]
  }
 ],
 "metadata": {
  "language_info": {
   "name": "python"
  }
 },
 "nbformat": 4,
 "nbformat_minor": 5
}
