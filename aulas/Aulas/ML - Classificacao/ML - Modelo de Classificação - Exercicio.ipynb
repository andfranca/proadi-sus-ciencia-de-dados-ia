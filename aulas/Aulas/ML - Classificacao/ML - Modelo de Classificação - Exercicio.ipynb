{
  "nbformat": 4,
  "nbformat_minor": 0,
  "metadata": {
    "colab": {
      "provenance": []
    },
    "kernelspec": {
      "name": "python3",
      "display_name": "Python 3"
    },
    "language_info": {
      "name": "python"
    }
  },
  "cells": [
    {
      "cell_type": "markdown",
      "source": [
        "# **Exercícios: Não Comparecimento em Consultas**\n",
        "\n",
        "Imagine que você trabalha na equipe de gestão de um hospital e recebeu um desafio importante: **reduzir o número de pacientes que marcam consultas, mas não comparecem**.\n",
        "\n",
        "As ausências impactam diretamente o funcionamento da unidade de saúde, gerando desperdício de recursos, aumento no tempo de espera para outros pacientes e dificuldades no planejamento da equipe médica.\n",
        "\n",
        "Agora, surge a pergunta: **é possível prever quais pacientes têm maior risco de faltar à consulta?**\n",
        "\n",
        "O conjunto de dados **naocomparecimento.csv**, contém 110.527 registros de consultas médicas, com 14 variáveis associadas a cada paciente e sua consulta. A principal variável a ser analisada indica se o paciente compareceu ou não à consulta.\n",
        "\n",
        "\n",
        "##**Base de dados**\n",
        "\n",
        "A variável alvo é `No-show`, que indica se o paciente faltou à consulta (`Yes`) ou compareceu (`No`).\n",
        "\n",
        "\n",
        "Existem 14 variáveis, incluindo:\n",
        "- Data da consulta\n",
        "- Local do atendimento\n",
        "- Características do paciente (idade, gênero, presença de doenças crônicas)\n",
        "- Se recebeu lembrete via SMS\n",
        "- Se estava em um programa de assistência social (Bolsa Família - Scholarship)\n",
        "- Quantos dias de antecedência a consulta foi marcada\n",
        "\n",
        "## **Tradução das Variáveis**\n",
        "\n",
        "| Inglês      | Português      |\n",
        "|-------------------|---------------------|\n",
        "| PatientId        | ID do Paciente       |\n",
        "| AppointmentID    | ID da Consulta       |\n",
        "| Gender          | Gênero               |\n",
        "| ScheduledDay    | Data do Agendamento  |\n",
        "| AppointmentDay  | Data da Consulta     |\n",
        "| Age            | Idade                 |\n",
        "| Neighbourhood  | Bairro                |\n",
        "| Scholarship    | Bolsa Família         |\n",
        "| Hipertension   | Hipertensão           |\n",
        "| Diabetes       | Diabetes              |\n",
        "| Alcoholism     | Alcoolismo            |\n",
        "| Handcap        | Deficiência           |\n",
        "| SMS_received   | SMS Recebido          |\n",
        "| No-show       | Não Comparecimento    |\n",
        "\n",
        "\n",
        "\n",
        "## Contexto\n",
        "\n",
        "Essa base permite analisar fatores que influenciam a ausência dos pacientes, ajudando unidades de saúde a reduzir faltas e melhorar o atendimento.\n",
        "\n",
        "### Possíveis hipóteses para investigação:\n",
        "- Pacientes mais jovens ou mais velhos faltam mais?\n",
        "- O tempo entre o agendamento e a consulta influencia na presença?\n",
        "- Receber um lembrete por SMS reduz faltas?\n",
        "- Pacientes com certas condições médicas faltam mais?\n",
        "\n",
        "## Roteiro de Análise\n",
        "\n",
        "- Realize a análise exploratória univariada de todas as variáveis no conjunto de dados, interpretando suas distribuições.\n",
        "- Faça a análise bidimensional entre cada variável explicativa e a variável resposta. Quais variáveis parecem ter maior influência sobre a variável de interesse?\n",
        "- Para as variáveis categóricas, converta-as para o tipo category do pandas.\n",
        "- Para este estudo, exclua as variáveis ID, Neighbourhood, e data da análise.\n",
        "- Construa um modelo de árvore de decisão usando o scikit-learn para prever a variável resposta.\n",
        "- Obtenha as classificação para cada observação no conjunto de dados.\n",
        "- Gere a tabela de classificação para avaliar o desempenho do modelo e encontre o melhor ponto de corte para classificar as probabilidades. - Qual é o percentual de classificações corretas? E quais são a precision e recall do modelo?"
      ],
      "metadata": {
        "id": "leL2aOh-gUKQ"
      }
    },
    {
      "cell_type": "code",
      "execution_count": 1,
      "metadata": {
        "id": "JQQ2PsOigHxI"
      },
      "outputs": [],
      "source": [
        "import pandas as pd"
      ]
    },
    {
      "cell_type": "code",
      "source": [
        "#Carregar base de dados\n",
        "db_nao_comparecimento = pd.read_csv('https://raw.githubusercontent.com/andfranca/proadi-sus-ciencia-de-dados-ia/refs/heads/main/bases/naocomparecimento.csv')\n"
      ],
      "metadata": {
        "id": "wtUmb-NEhhHH"
      },
      "execution_count": 6,
      "outputs": []
    },
    {
      "cell_type": "code",
      "source": [
        "#Visualizar estrutura dos dados\n",
        "db_nao_comparecimento.info()"
      ],
      "metadata": {
        "colab": {
          "base_uri": "https://localhost:8080/"
        },
        "id": "-uA0t-guimJ0",
        "outputId": "6a2389ee-8c89-4e4d-9341-0939219cba89"
      },
      "execution_count": 7,
      "outputs": [
        {
          "output_type": "stream",
          "name": "stdout",
          "text": [
            "<class 'pandas.core.frame.DataFrame'>\n",
            "RangeIndex: 110527 entries, 0 to 110526\n",
            "Data columns (total 14 columns):\n",
            " #   Column          Non-Null Count   Dtype  \n",
            "---  ------          --------------   -----  \n",
            " 0   PatientId       110527 non-null  float64\n",
            " 1   AppointmentID   110527 non-null  int64  \n",
            " 2   Gender          110527 non-null  object \n",
            " 3   ScheduledDay    110527 non-null  object \n",
            " 4   AppointmentDay  110527 non-null  object \n",
            " 5   Age             110527 non-null  int64  \n",
            " 6   Neighbourhood   110527 non-null  object \n",
            " 7   Scholarship     110527 non-null  int64  \n",
            " 8   Hipertension    110527 non-null  int64  \n",
            " 9   Diabetes        110527 non-null  int64  \n",
            " 10  Alcoholism      110527 non-null  int64  \n",
            " 11  Handcap         110527 non-null  int64  \n",
            " 12  SMS_received    110527 non-null  int64  \n",
            " 13  No-show         110527 non-null  object \n",
            "dtypes: float64(1), int64(8), object(5)\n",
            "memory usage: 11.8+ MB\n"
          ]
        }
      ]
    }
  ]
}