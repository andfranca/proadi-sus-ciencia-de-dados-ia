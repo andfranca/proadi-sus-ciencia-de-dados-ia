{
 "cells": [
  {
   "cell_type": "code",
   "execution_count": null,
   "id": "ea7b95c1",
   "metadata": {},
   "outputs": [],
   "source": [
    "#instalar bibliotecas\n",
    "#pip install beautifulsoup4 requests"
   ]
  },
  {
   "cell_type": "code",
   "execution_count": null,
   "id": "1f1102d8",
   "metadata": {},
   "outputs": [],
   "source": [
    "#Carregar bibliotecas\n",
    "from bs4 import BeautifulSoup\n",
    "import requests"
   ]
  },
  {
   "cell_type": "code",
   "execution_count": null,
   "id": "4190cfa9",
   "metadata": {},
   "outputs": [],
   "source": [
    "#Definir o URL da página que você deseja fazer scraping\n",
    "url = \"https://www.gov.br/anvisa/pt-br/assuntos/noticias-anvisa/2025/confira-os-destaques-da-6a-reuniao-publica-da-dicol-de-2025\""
   ]
  },
  {
   "cell_type": "code",
   "execution_count": null,
   "id": "d1e5648c",
   "metadata": {},
   "outputs": [],
   "source": [
    "#Capturar a página\n",
    "resposta = requests.get(url)\n",
    "soup = BeautifulSoup(resposta.text, \"html.parser\")\n",
    "\n",
    "#Encontrar o conteúdo desejado\n",
    "conteudo = soup.find_all(\"p\")"
   ]
  },
  {
   "cell_type": "code",
   "execution_count": null,
   "id": "4289bdef",
   "metadata": {},
   "outputs": [
    {
     "name": "stdout",
     "output_type": "stream",
     "text": [
      "Notícias\n",
      "DIRETORIA COLEGIADA\n",
      "Nesta quarta-feira (16/4), os diretores da Anvisa se reuniram para a 6ª Reunião Pública da Diretoria Colegiada (Dicol) de 2025, sob a condução do diretor-presidente substituto, Rômison Mota. Foram retirados de pauta, por ele, os itens 3.10 e 3.2.10.4 a 3.2.10.9. Além disso, foi solicitada a inclusão em pauta da proposta de abertura do processo administrativo de regulação referente à decisão que aprovou, em caráterad referendum(isto é, adotada provisoriamente), a Resolução da Diretoria Colegiada (RDC) 971/2025, que, por sua vez, alterou a RDC 947/2024 — a qual dispõe sobre os procedimentos de protocolo de documentos no âmbito da Agência.\n",
      "Colgate e a redução de riscos\n",
      "O diretor Daniel Pereira, por sua vez, pediu a retirada dos itens 3.3.3.1 e 3.3.12.1, e, no que se refere à retirada de pauta do item 4.3.4.1, que diz respeito àinterdição do creme dental Colgate Total Clean Mint por reações indesejáveis, fez algumas considerações. Em busca de prestigiar iniciativas próprias dos detentores de registro para propor e executar medidas de contenção e retenção — considerando que são os responsáveis pelos dados e pelo monitoramento pós-mercado —, o diretor ressaltou que esses agentes devem, portanto, ser capazes de detectar possíveis desvios de qualidade e segurança em seus produtos.\n",
      "Este fundamento visa estimular ocompliance(ou seja, o conjunto de práticas que garantem a conformidade de uma empresa com os regulamentos vigentes, visando garantir a segurança dos seus produtos e minimizar os riscos) dos setores regulados pela Anvisa. Isso porque toda medida, seja ela regulatória ou de fiscalização, gera custos tanto para a Agência quanto para as Vigilâncias Sanitárias locais, que já operam com recursos limitados. A diligência na solução do problema é essencial para que ele seja prontamente resolvido e, de acordo com o diretor, a Colgate vem adotando medidas para a redução de riscos desde o início das investigações. Foram realizadas diversas reuniões internas, e a empresa apresentou, ainda, um plano de ação, protocolizado nesta semana.\n",
      "Para possibilitar uma avaliação detalhada e completa da proposta — levando em conta o intervalo temporal entre esta e a próxima reunião da Dicol, prevista para 14 de maio —, o diretor Daniel Pereira propôs a retirada do item de pauta e sugeriu a realização de uma reunião específica, em data intermediária, para tratar do caso.\n",
      "O diretor-presidente substituto, Rômison Mota, enfatizou que as reuniões da Dicol são usualmente quinzenais, mas que, em função do quórum reduzido de diretores, foi necessário readequar a agenda de maio, a fim de que outros compromissos relativos à Anvisa também pudessem ser cumpridos. “Espero que, muito em breve, tenhamos o quórum completo de diretores para o bom andamento dos trabalhos desta Agência”, reforçou.\n",
      "Todas as alterações de pauta propostas foram aprovadas por unanimidade. Vejaaquia pauta completa da 6ª Reunião Pública da Dicol de 2025.\n",
      "Doença de Chagas\n",
      "O diretor Daniel Pereira aproveitou a reunião para lembrar que 14 de abril foi uma data consolidada como Dia Mundial da Doença de Chagas, doença tropical negligenciada transmitida via parasita. “A doença de Chagas é um desafio de saúde pública e também um lembrete da desigualdade social que ainda persiste em muitas regiões. Que esse dia nos inspire a continuar promovendo educação em saúde, investimentos, pesquisas e políticas públicas eficazes”, afirmou.\n",
      "Composição das vacinas influenza de 2025\n",
      "Entre os destaques da pauta do dia, esteve a proposta de Instrução Normativa (IN) para alterar a composição das vacinas influenza a serem utilizadas no Brasil, aprovada por unanimidade — e que integra a Agenda Regulatória 2024-2025. Devido à sazonalidade do vírus, que exige um controle contínuo, a Organização Mundial da Saúde (OMS) emite recomendações específicas para os hemisférios Norte e Sul, de forma separada, no início e no final de cada ano, respectivamente. Até outubro de 2024, a Anvisa autorizava o uso no Brasil apenas de vacinas atualizadas em relação às recomendações da OMS para o Hemisfério Sul. Contudo, após avaliações epidemiológicas, o Programa Nacional de Imunizações (PNI) entendeu ser pertinente a realização de uma campanha de vacinação contra a influenza específica para a região Norte do país.\n",
      "O chamado inverno amazônico e ciclos locais da chuva, usualmente entre novembro e maio, não coincidem com a ocorrência da mesma estação nas regiões Nordeste, Centro-Oeste, Sul e Sudeste. Para autorizar a circulação no país das vacinas adequadas às recomendações para o Hemisfério Norte, foram necessárias adequações normativas que preveem a circulação de imunizantes distintos dos indicados para o Hemisfério Sul, desde que de uso exclusivo nos programas do Ministério da Saúde.\n",
      "Outras deliberações\n",
      "Na pauta do dia, estiveram também propostas de consulta pública de IN para estabelecer as especificações de identidade, pureza e composição de ingredientes autorizados para uso em alimentos; de consulta pública de RDC para alterar a RDC 243/2018, que dispõe sobre os requisitos sanitários dos suplementos alimentares, a RDC/2023, que dispõe sobre a comprovação de segurança e a autorização de uso de novos alimentos e novos ingredientes, e a IN/2018, que estabelece as listas de constituintes, de limites de uso, de alegações e de rotulagem complementar dos suplementos alimentares.\n",
      "As propostas, que também fazem parte da Agenda Regulatória 2024-2025, foram aprovadas por unanimidade, com prazo de 45 dias para manifestação da sociedade. Ainda com aprovação unânime, integraram a pauta a proposta de RDC para dispor sobre a atualização do Anexo I (Listas de Substâncias Entorpecentes, Psicotrópicas, Precursoras e Outras sob Controle Especial) da Portaria SVS/MS 344/1998 e a proposta de alteração do documento de Perguntas e Respostas referente à RDC 658/2022, que dispõe sobre as Diretrizes Gerais de Boas Práticas de Fabricação de Medicamentos, entre outros temas de relevância para a saúde pública do país.\n",
      "Saiba mais\n",
      "A Dicol informa que o julgamento dos recursos administrativos, pedidos de retirada de efeito suspensivo e de revisão de ato constantes da pauta serão realizados por meio deCircuito Deliberativo, e não mais serão realizados durante a reunião pública, conforme estabelecido pelaRDC 862/2024. Os extratos e votos das decisões serão publicizados também no portal da Anvisa, excetuando-se os que tiveram sigilo aprovado, ao fim do prazo de votação de 5 dias úteis.\n",
      "O encontro desta quarta ocorreu na sala de reuniões da Dicol, no Edifício Sede da Anvisa, em Brasília (DF), com transmissão ao vivo pelo canal da Agência no YouTube. Para assistir a reunião completa, clique neste link:youtube.com/watch?v=wVb8K1NkDgc\n"
     ]
    }
   ],
   "source": [
    "#imprimir o conteúdo\n",
    "for paragrafo in conteudo:\n",
    "    texto = paragrafo.get_text(strip=True)\n",
    "    if texto:\n",
    "        print(texto)"
   ]
  },
  {
   "cell_type": "code",
   "execution_count": 21,
   "id": "b451ed2a",
   "metadata": {},
   "outputs": [
    {
     "name": "stdout",
     "output_type": "stream",
     "text": [
      "Confira os destaques da 6ª Reunião Pública da Dicol de 2025Confira os destaques da 6ª Reunião Pública da Dicol de 2025Confira os destaques da 6ª Reunião Pública da Dicol de 2025Confira os destaques da 6ª Reunião Pública da Dicol de 2025Confira os destaques da 6ª Reunião Pública da Dicol de 2025Confira os destaques da 6ª Reunião Pública da Dicol de 2025Confira os destaques da 6ª Reunião Pública da Dicol de 2025Confira os destaques da 6ª Reunião Pública da Dicol de 2025\n"
     ]
    }
   ],
   "source": [
    "data_encontro = soup.find_all(\"h1\", class_=\"documentFirstHeading\")\n",
    "\n",
    "for data in data_encontro:\n",
    "    data_texto = data.get_text(strip=True)\n",
    "    if data_texto:\n",
    "        print(data_texto)"
   ]
  },
  {
   "cell_type": "code",
   "execution_count": 23,
   "id": "b6cb42ee",
   "metadata": {},
   "outputs": [
    {
     "name": "stdout",
     "output_type": "stream",
     "text": [
      "Publicado em17/04/2025 11h11\n"
     ]
    }
   ],
   "source": [
    "data_publicacao = soup.find_all(\"span\", class_=\"documentPublished\")\n",
    "\n",
    "for data in data_publicacao:\n",
    "    data_texto = data.get_text(strip=True)\n",
    "    if data_texto:\n",
    "        print(data_texto)"
   ]
  },
  {
   "cell_type": "markdown",
   "id": "d8eb036e",
   "metadata": {},
   "source": [
    "### **Extrair notícias Anvisa 2025 (primeira página)**"
   ]
  },
  {
   "cell_type": "code",
   "execution_count": null,
   "id": "02aa57df",
   "metadata": {},
   "outputs": [
    {
     "name": "stdout",
     "output_type": "stream",
     "text": [
      "https://www.gov.br/anvisa/pt-br/assuntos/noticias-anvisa/2025/anvisa-conclui-o-2o-ciclo-de-revisao-e-consolidacao-de-atos-normativos\n",
      "https://www.gov.br/anvisa/pt-br/assuntos/noticias-anvisa/2025/atencao-profissionais-de-farmacias-a-utilizacao-do-sistema-voltara-a-ser-obrigatoria-em-2025\n",
      "https://www.gov.br/anvisa/pt-br/assuntos/noticias-anvisa/2025/participe-da-consulta-publica-sobre-processos-administrativos-sanitarios\n",
      "https://www.gov.br/anvisa/pt-br/assuntos/noticias-anvisa/2025/participe-da-cp-sobre-atualizacao-das-listas-de-substancias-restritas-e-proibidas-para-uso-em-produtos-de-higiene-perfumes-e-cosmeticos\n",
      "https://www.gov.br/anvisa/pt-br/assuntos/noticias-anvisa/2025/anvisa-alerta-para-possivel-golpe-em-servicos-de-estetica\n",
      "https://www.gov.br/anvisa/pt-br/assuntos/noticias-anvisa/2025/anvisa-abre-processo-seletivo-para-contratacao-de-estagiarios\n",
      "https://www.gov.br/anvisa/pt-br/assuntos/noticias-anvisa/2025/dcb-publicado-o-novo-marco-regulatorio\n",
      "https://www.gov.br/anvisa/pt-br/assuntos/noticias-anvisa/2025/anvisa-disponibiliza-manual-de-aplicacao-das-novas-advertencias-em-embalagens-de-produtos-derivados-do-tabaco\n",
      "https://www.gov.br/anvisa/pt-br/assuntos/noticias-anvisa/2025/anvisa-publica-nova-edicao-do-documento-de-perguntas-e-respostas-sobre-suplementos-alimentares\n",
      "https://www.gov.br/anvisa/pt-br/assuntos/noticias-anvisa/2025/webinar-vai-tratar-do-edital-para-1o-sandbox-da-anvisa\n",
      "https://www.gov.br/anvisa/pt-br/assuntos/noticias-anvisa/2025/anvisa-realiza-audiencia-publica-sobre-fitoterapicos\n",
      "https://www.gov.br/anvisa/pt-br/assuntos/noticias-anvisa/2025/integracao-do-pagamento-da-taxa-de-vigilancia-sanitaria-cronograma-e-atualizado\n",
      "https://www.gov.br/anvisa/pt-br/assuntos/noticias-anvisa/2025/boletim-do-snvs-janeiro-verde-e-destaque-na-edicao-deste-mes\n",
      "https://www.gov.br/anvisa/pt-br/assuntos/noticias-anvisa/2025/atualizacao-sobre-analise-da-vacina-de-dose-unica-contra-dengue\n",
      "https://www.gov.br/anvisa/pt-br/assuntos/noticias-anvisa/2025/anvisa-monitora-surto-de-norovirus-no-cruzeiro-msc-grandiosa\n",
      "https://www.gov.br/anvisa/pt-br/assuntos/noticias-anvisa/2025/anvisa-e-agencia-dinamarquesa-de-medicamentos-renovam-projeto-de-cooperacao\n",
      "https://www.gov.br/anvisa/pt-br/assuntos/noticias-anvisa/2025/anvisa-publica-materiais-sobre-novas-regras-para-monitoramento-pos-mercado-de-cosmeticos\n",
      "https://www.gov.br/anvisa/pt-br/assuntos/noticias-anvisa/2025/carta-de-servicos-ao-usuario-da-anvisa-conta-com-14-novos-servicos\n"
     ]
    }
   ],
   "source": [
    "#Encontrar links na página de notícias\n",
    "url_noticias = \"https://www.gov.br/anvisa/pt-br/assuntos/noticias-anvisa/2025\"\n",
    "\n",
    "# Acessar a página de notícias\n",
    "resposta_noticias = requests.get(url_noticias)\n",
    "soup_noticias = BeautifulSoup(resposta_noticias.text, \"html.parser\")\n",
    "\n",
    "#Encontrar todos os links de notícias\n",
    "noticias = soup_noticias.find_all(\"a\", class_=\"state-published url\")\n",
    "\n",
    "#Exibir os links\n",
    "for noticia in noticias:\n",
    "    link = noticia.get(\"href\")\n",
    "    if link:\n",
    "        print(link)"
   ]
  },
  {
   "cell_type": "code",
   "execution_count": null,
   "id": "145486ad",
   "metadata": {},
   "outputs": [
    {
     "name": "stdout",
     "output_type": "stream",
     "text": [
      "Notícias\n",
      "Qualidade Regulatória\n",
      "A Anvisa publicou a Portaria nº 1.644, de 30 de dezembro de 2024, com a lista dos atos normativos inferiores a decreto vigentes até 30 de novembro de 2024. A portaria cumpre o disposto no artigo 25 da Portaria nº 863, de 4 de agosto de 2023, que define as competências e os procedimentos para a revisão e consolidação dos atos normativos inferiores a decreto na Anvisa.\n",
      "No 2º ciclo de revisão e consolidação de atos normativos, o estoque regulatório da Anvisa passou a contar com 962 atos normativos, o que representa um aumento de cerca de 2% em relação aos 942 atos registrados em dezembro de 2022. Esse pequeno aumento reflete o trabalho contínuo da Anvisa para simplificar e consolidar sua regulamentação.\n",
      "Além disso, 256 normas foram revogadas, seja por meio da guilhotina regulatória, consolidação pragmática ou revisão de forma. Outras 235 normas foram identificadas como passíveis de revisão mais aprofundada. Já 303 atos normativos não precisaram de ajustes e 127 foram consideradas “em revisão de mérito”, ou seja, já havia sido identificada a necessidade de alteração, com processos regulatórios em andamento ou previstos na Agenda Regulatória.\n",
      "Os resultados do 2º ciclo de revisão e consolidação de atos normativos na Anvisa podem ser acessados noRelatório de resultados do ciclo 2023-2024 de revisão e consolidação de atos normativos da Anvisa.\n",
      "Acesse aquimais informações sobre os resultados da avaliação e consolidação.\n",
      "\n",
      "==================================================\n",
      "\n",
      "Notícias\n",
      "Medicamentos\n",
      "A Anvisa informa que o Sistema Nacional de Gerenciamento de Produtos Controlados (SNGPC) está em plena operação e que os estabelecimentos devem estar preparados para o seu retorno obrigatório no início de 2025.\n",
      "Mesmo com a finalização da última fase de teste no último dia 31/12/2024, o sistema permanece disponível sem interrupção.\n",
      "Dessa forma, a Anvisa recomenda que as farmácias usem a ferramenta e tirem as possíveis dúvidas pelo canal de atendimento da Anvisa Fale Conoscohttps://www.gov.br/anvisa/pt-br/canais_atendimento/formulario-eletronicoe consultando o material orientativo disponível no site emhttps://www.gov.br/anvisa/pt-br/assuntos/fiscalizacao-e-monitoramento/sngpc.\n",
      "A adesão das farmácias, desde já é essencial para que sejam identificadas eventuais necessidades de melhoria e ajustes prévios para o retorno obrigatório do sistema com robustez e estabilidade.\n",
      "Vale lembrar que o envio das informações ao SNGPC não precisa ser feito no ato da venda do medicamento.\n",
      "Ressaltamos que as transmissões realizadas e as informações contidas nos arquivos durante este período de uso voluntário do SNGPC, não serão objeto, nem base para ações fiscalizações dos órgãos competentes.\n",
      "Por isso, os usuários do sistema devem aproveitar este momento para realizar a atualização dos cadastros, ajustes do sistemas internos e adequação da rotina da farmácia, dentre outras medidas que forem necessárias.\n",
      "Entenda\n",
      "A Anvisa disponibilizouvídeos explicativos sobre o SNGPC. Ao todo, são quatro vídeos: (1)O que é o SNGPC?; (2)Cadastro e credenciamento; (3)Funções do sistema; e (4)Dúvidas e perguntas frequentes.\n",
      "Para mais informações, acesse asorientações para os testes.\n",
      "Consulte também o último cronograma de testes para o uso do sistema:\n",
      "Agência irá ampliar testes do Sistema Nacional de Gerenciamento de Produtos Controlados\n",
      "\n",
      "==================================================\n",
      "\n",
      "Notícias\n",
      "Diretrizes\n",
      "AAnvisa abriuuma consulta pública sobreas diretrizes a serem observadas nos Processos Administrativos Sanitários Sancionatórios (PAS) no âmbito da Agência\n",
      "AConsulta Pública 1.297/2024está disponível para avaliação e contribuiçõesaté o dia 3 de fevereiro.\n",
      "A Anvisa vem atuando em diversas frentes com vistas à melhoria dos processos de trabalho de fiscalização, desde a concepção do dossiê de investigação até o julgamento do PAS e aplicação de sanções, quando for o caso.\n",
      "Esta proposta de RDC é uma dessas ações, e tem por objetivo dar transparência e segurança jurídica ao processo.\n",
      "PAS\n",
      "O Processo Administrativo Sanitário Sancionatório (PAS) representa importante instrumento para o exercício da função desempenhada pela vigilância sanitária na proteção da saúde,sendoutilizado pela Administração Pública com finalidade de apurar as irregularidades sanitárias detectadas e as responsabilidades do infrator, assegurando a ele o direito de ampla defesa e contraditório, de modo a respaldar, com juridicidade, a aplicação da penalidade correspondente que lhe for imputada.\n",
      "A abertura da Consulta Pública foi aprovada pela Diretoria Colegiada noúltimo dia27 de novembro, que determinou o período de 45 dias para manifestações da sociedade.Confira neste link ovotodo Diretor Relator,RômisonRodrigues Mota.\n",
      "\n",
      "==================================================\n",
      "\n",
      "Notícias\n",
      "Consulta pública\n",
      "A Anvisa abriu duas consultas públicas sobre as Listas de substâncias restritas e proibidas para uso em produtos de higiene, perfumes e cosméticos, que estão disponíveis para avaliação e contribuições até o dia 7 de março.\n",
      "AConsulta Pública 1.304/2024trata de proposta de atualização da lista de substâncias que são proibidas em produtos de higiene, perfumes e cosméticos, por não terem perfil de segurança compatível com estas categorias sanitárias.\n",
      "Já aConsulta Pública 1.305/2024trata de proposta de atualização da lista de substâncias que, para uso seguro em produtos de higiene, perfumes e cosméticos, devem observar a restrições tecnico-regulatórias previstas como, por exemplo, a concentração.\n",
      "Ambas as propostas de atualização dos regulamentos técnicos foram discutidas pela Anvisa na Subcomissão de Cosméticos, sendo harmonizadas no âmbito do SGT nº 11 do Mercosul que define requisitos técnicos que requerem incorporação ao arcabouço jurídico dos Estados Partes e contribuem para a convergência regulatória internacional, especialmente nasmedidas destinadas a proteger a saúde da população e a reduzir obstáculos ao comércio internacional.\n",
      "Mercosul\n",
      "A atuação internacional da Anvisa inclui a participação ativa em foros bilaterais, regionais e multilaterais nos quais ocorrem processos de harmonização e convergência regulatória internacional, estabelecendo referências técnico-científicas para a regulamentação da Agência. O Mercosul está entre os principais foros de convergência regulatória com participação ativa da Anvisa e cujas decisões impactam na regulação sanitária realizada pela Agência.\n",
      "A abertura da Consulta Pública foi aprovada pela Diretoria Colegiada no último dia 19 de dezembro, que determinou o período de 60 dias para manifestações da sociedade.Confira neste link o votodo Diretora Relatora Danitza Passamai Rojas Buvinich.\n",
      "\n",
      "==================================================\n",
      "\n",
      "Notícias\n",
      "Alerta\n",
      "Atenção! A Anvisa recebeu denúncias sobre mensagens supostamente enviadas pela Agência que orientam os serviços de estética e de embelezamento a clicar em links para obtenção de Procedimento Operacional Padrão, já elaborado. Importante ter clareza sobre dois pontos:\n",
      "Segundo as denúncias recebidas, um site (https://rtpd.com.br/vigilancia_sanitaria/) estaria disparando para empresas como salões de cabelereiro, manicure, clínicas de estética etc, uma mensagem eletrônica em que informa a obrigatoriedade da emissão do POP. O texto alega ainda que a falta de regularização pode gerar penalidades e, a partir daí, induz o usuário a clicar em links suspeitos. O referido site, apesar de utilizar informações retiradas do portal da Anvisa e, inclusive, redirecionar o usuário ao portal oficial, não tem nenhuma ligação com a Agência.\n",
      "Vale lembrar que os canais oficiais de comunicação com a Agência para esclarecimento de dúvidas são o e-mailcontato@anvisa.gov.br e o telefone 0800 642 9782.\n",
      "A Gerência-Geral de Tecnologia em Serviços de Saúde (GGTES) da Anvisa emitiu um ofício a todas as vigilâncias sanitárias locais e agora vem a público para alertar a sociedade.\n",
      "Procedimento Operacional Padrão\n",
      "Quer saber mais sobre POP?Acesse a Nota Técnica 2/2024da GGTES, que reúne esclarecimentos sobre serviços de estética e atendimento às normas sanitárias aplicáveis a esses serviços. O documento informa que é fundamental que serviços de embelezamento que oferecem procedimentos realizados por esteticistas com o uso de cosméticos possuam a descrição das atividades exercidas no estabelecimento por escrito. Essa documentação, que deve ser feita pela empresa e estar disponível para os profissionais do estabelecimento e para a vigilância sanitária, quando requisitada em uma inspeção, por exemplo, é o POP. Importante ressaltar que nem a Anvisa nem outro ente fiscalizador emite esses procedimentos. Pelo contrário, eles devem ser emitidos pelos estabelecimentos responsáveis e estar à disposição das autoridades sanitárias.\n",
      "Saiba mais\n",
      "Caso restem dúvidas, os interessados podem saná-las a partir da aba deperguntas frequentes sobre serviços de embelezamento, no portal da Anvisa.\n",
      "Em tempo: os responsáveis por serviços de embelezamento devem seguir a legislação sanitária local (estadual, distrital e municipal), considerando que o sistema de vigilância sanitária é descentralizado e possui normas próprias em cada esfera de governo. Essas normas devem sempre ser procuradas nos meios de comunicação oficiais dos órgãos.\n",
      "\n",
      "==================================================\n",
      "\n",
      "Notícias\n",
      "Oportunidade\n",
      "A Anvisa publicou dois editais de processos seletivos para formação de cadastro reserva de estagiários:Edital n. 1/2025eEdital n. 2/2025. As vagas são para estudantes de nível médio, nível superior e pós-graduação em diversas áreas, com recebimento de bolsa estágio.\n",
      "Conforme estabelecido na legislação, o processo seletivo reserva 10% das vagas de estágio de cada perfil às pessoas com deficiência (art. 17, § 5º, da Lei 11.788/2008). Também assegura a reserva de 30% das vagas oferecidas para cada curso aos candidatos negros (pretos ou pardos – Decreto 9.427/2018).\n",
      "As inscrições são gratuitas e podem ser feitas de 16 de janeiro até as 12h do dia 5 de fevereiro de 2025. Saiba mais abaixo.\n",
      "Vagas\n",
      "O candidato à vaga de estagiário deverá estar regularmente matriculado e frequentando um dos cursos previstos nos Editais.\n",
      "Valor da bolsa estágio\n",
      "- Nível médio: R$ 486,05.\n",
      "- Nível superior (graduação): R$ 1.125,69.\n",
      "- Nível superior (pós-graduação): R$ 1.665,22.\n",
      "Os valores estão estabelecidos na Instrução Normativa n. 213/2019, publicada pelo então Ministério da Economia.\n",
      "O estagiário tem direito também a auxílio transporte, no valor de R$ 10,00 por dia estagiado.\n",
      "Carga horária semanal\n",
      "O regime do estágio será de 20 horas semanais para os estudantes de nível médio e de 30 horas semanais para os estudantes de nível superior (graduação e pós-graduação), a serem cumpridas em horários e turnos definidos pela Anvisa.\n",
      "Inscrições\n",
      "As inscrições são gratuitas e serão abertas exclusivamente pela internet, no site do Centro de Integração Empresa Escola (CIEE), no período de 16 de janeiro até as 12h do dia 5 de fevereiro de 2025, pelos links abaixo:\n",
      "Nível médio e superior (graduação)\n",
      "Pós-graduação\n",
      "A seleção dos candidatos inscritos será composta por análise curricular e entrevista, ambas de caráter eliminatório e classificatório. Após a avaliação, a lista de classificação dos aprovados será divulgada no site do CIEE.\n",
      "Vigência\n",
      "O processo seletivo terá validade de 12 meses a partir da publicação da lista final de classificados, podendo, a critério da Anvisa, ser renovado por igual período.\n",
      "\n",
      "==================================================\n",
      "\n",
      "Notícias\n",
      "FARMACOPEIA BRASILEIRA\n",
      "A Anvisa publicou o novo marco regulatório das Denominações Comuns Brasileiras (DCB). Ele é composto por uma resoluçãosobre as regras do processoeuma Instrução Normativa(IN), queaprova a lista das DCB e oguia sobre o estabelecimentodas denominaçõespara substâncias farmacêuticas.\n",
      "Com essa publicação, a Anvisaconclui o tema da Agenda Regulatória2024-2025 que trata da“Revisão das regras utilizadas para nomenclatura das Denominações Comuns Brasileiras (DCB) da Farmacopeia Brasileira e publicações das Listas das Denominações Comuns Brasileiras (DCB) da Farmacopeia Brasileira. (Revisão da RDC nº 63/2012)”.\n",
      "Denominação Comum Brasileira é o termo aplicado ao fármaco ou princípio ativo que tenha sido aprovado pelo órgão federal responsável pela vigilância sanitária (Lei 9.787/1999). Atualmente, com o registro eletrônico, o termo adquiriu um conceito mais amplo e inclui também a denominação de insumos inativos, soros hiperimunes, vacinas, radiofármacos, plantas medicinais, substâncias homeopáticas e substâncias biológicas.\n",
      "RDC 955/2024\n",
      "AResolução da Diretoria Colegiada(RDC)955/2024dispõe sobre as regras para o estabelecimento e para as atualizações da lista de DCB. Na prática, aresoluçãoreúneasdiretrizesa serem seguidas pelosinteressados, pelo Comitê Técnico Temático de Denominações Comuns Brasileiras e demais atores do processo.\n",
      "São destaquesdanorma:\n",
      "- Disposição da aprovação e atualização da lista das DCB por Instrução Normativa (antes a atualização era realizada por Resolução da Diretoria Colegiada);\n",
      "- Inclusão das definições relacionadas ao tema da DCB;\n",
      "- Previsão da dispensa de Análise de Impacto Regulatório e dispensa da Consulta Pública para oprocesso regulatório da atualização da lista de DCB;\n",
      "- Previsão de prazo e regras para adequação ao setor, quando das alterações e exclusões de DCB;\n",
      "- Previsão de elaboração de umguia sobre o tema;\n",
      "- Inclusão na nomenclatura da Denominação Comum Internacional na nomenclatura de vacinas;\n",
      "- Previsão para a inclusão de cultivares, morfotipos equimiotiposna DCB de espécies vegetais;\n",
      "- Disposição expressa de que asalterações das regras não implicam a alteração de nomenclaturas já estabelecidas;\n",
      "- Disposição expressadeque o estabelecimento de uma nomenclatura de um insumo farmacêutico nãotemrelação com a aprovação do seu uso pela Anvisa.\n",
      "Oprocesso regulatório contou com a elaboração doRelatório de Análise de Impacto Regulatório e com a Consulta Pública 1.219/2023.\n",
      "IN 342/2024\n",
      "AInstrução Normativa 342/2024aprova aLista deDCBda Farmacopeia Brasileira.Elaserá atualizada periodicamente, conforme previsto na Agenda Regulatória 2024-2025.A lista completa, atualizada e consolidada das DCB é publicada naBiblioteca Digital da Anvisa, em coleção específica: Farmacopeia: Denominações Comuns Brasileiras.\n",
      "Guia 76/2025e contribuições\n",
      "OGuia 76/2025reúneinformações adicionais para inclusão, alteração e exclusão das Denominações Comuns Brasileiras. Além disso, alinhaosentendimentos daregulamentação etrata também do gerenciamento da lista de DCB,imprimindo maistransparência ao processo decisório.Nele foramdescritos exemplos práticos de aplicação das regras gerais e específicas, bem comoosdetalhes de procedimentos e fluxos internos e externos,comrecomendações para o processo de estabelecimento de DCB.\n",
      "OGuia,em suaprimeiraversão,está aberto ao recebimento de contribuições. Você pode encaminhar sugestões até o dia 11 de julho, por meio de umformulário eletrônico específico. Mais detalhes sobre o guia constam naNota Técnica 20/2024, elaborada pela área técnica e disponível na página da consulta.\n",
      "\n",
      "==================================================\n",
      "\n",
      "Notícias\n",
      "Diretrizes\n",
      "A Anvisa publicou em 1º de novembro de 2024, Instrução Normativa nº 332/2024 que estabelece as advertências sanitárias e mensagens a serem utilizadas nas embalagens de produtos fumígenos derivado do tabaco. As imagens e mensagens presentes na Instrução Normativa já podem ser utilizadas à critério do fabricante, no entanto seu uso será obrigatório a partir de 1° de novembro de 2025.\n",
      "Com a finalidade de orientar os fabricantes quanto à correta aplicação dos novos conjuntos gráficos, a Anvisa disponibilizou ummanualcontendo orientações para que os fabricantes possam fazer a inserção dos conjuntos gráficos corretamente.\n",
      "As orientações podem ser acessadas emInstrução Normativa - IN nº 332/2024 — Agência Nacional de Vigilância Sanitária - Anvisa\n",
      "\n",
      "==================================================\n",
      "\n",
      "Notícias\n",
      "Nova edição\n",
      "A Anvisa divulgou, nesta quinta-feira (16/01), a9ª edição do documento de perguntas e respostas sobre suplementos alimentares, com atualizações importantes para o setor.\n",
      "O documento traz atualizações decorrentes da edição ou revisão de normativos de alimentos, com destaque àRDC 843/2024e àIN 281/2024, que tratam sobre a regularização de alimentos, e àRDC 839/2023, sobre avaliação de segurança de novos alimentos e novos ingredientes.\n",
      "Para oferecer maior clareza, algumas perguntas foram revisadas e agrupadas, e ajustes gramaticais foram realizados, garantindo uma linguagem mais simples e acessível aos leitores. Também houve a renumeração das perguntas, visando melhorar a organização e facilitar a consulta por temas.\n",
      "Confira o documento na íntegra no linkPerguntas e respostas sobre suplementos alimentares - 9ª edição.\n",
      "\n",
      "==================================================\n",
      "\n",
      "Notícias\n",
      "transparência\n",
      "“Explorando tópicos do edital de chamamento do 1ºSandboxda Anvisa”é o tema do webinar que será realizado na próxima quinta-feira (23/1), a partir das 15h. O evento tem como objetivo estabelecer um canal de comunicação direto com o setor reguladopara esclarecimento de dúvidas sobre o edital. Na ocasião, o corpo técnico da Agência vai detalhar os requisitos e critérios da seleção, de modo que haja um ambiente de colaboração, parceria e confiança entre os participantes na realização doSandbox.\n",
      "Sandboxregulatório é definido como um ambiente regulatório experimental,ondeaspessoas jurídicas participantes podem,de acordo comcritérios e limites previamente estabelecidos, receber autorização temporária, concedida e monitorada pela Anvisa, para desenvolver, produzir e/ou comercializar produtos e serviços inovadores, submetidos à vigilância sanitária.\n",
      "Participação\n",
      "Para participar do Webinar, basta clicar no link abaixo,na data e horário agendados. Não é necessário realizar cadastro prévio.\n",
      "Dia 23/1, às15h – Webinar:Explorando tópicos do edital de chamamento do 1ºSandboxda Anvisa\n",
      "Webinar\n",
      "O Webinar é um seminário virtual que tem como objetivo fortalecer as iniciativas de transparência da Anvisa, levando conteúdo e conhecimento atualizado ao público. A transmissão é via web e a interação com os usuários é feita em tempo real, por um chat realizado durante o seminário. A gravação do evento fica disponível para visualização, no mesmo link da transmissão, após seu término.\n",
      "Leia também:\n",
      "Anvisa abre consulta dirigida sobresandboxregulatório para cosméticos personalizados\n",
      "Anvisa convida para webinar sobresandboxregulatório\n",
      "Anvisa recebe contribuições sobre proposta de modelo deSandboxRegulatório\n",
      "\n",
      "==================================================\n",
      "\n",
      "Notícias\n",
      "Participação social\n",
      "A Anvisa convida todos os interessados a participar de Audiência Pública para discussão dos textos publicados entre novembro e dezembro/2024 e que se encontram, atualmente, em Consulta Pública (CP) sobre a revisão do marco regulatório referente ao registro e à notificação de fitoterápicos industrializados.\n",
      "Serviço\n",
      "A audiência pública acontece em 6/2/2025, das 8h30 às 12h, no auditório da Anvisa em Brasília/DF.\n",
      "Não é necessária inscrição prévia, sendo aceitas pessoas até o limite de lotação do auditório.\n",
      "Todos os documentos em discussão e que serão tema da Audiência Pública estão disponíveis no Anvisalegis, conforme detalhado abaixo:\n",
      "Proposta de Resolução que dispõe sobre o registro de medicamentos fitoterápicos e o registro e a notificação de produtos tradicionais fitoterápicos.\n",
      "Disponível emhttps://abrir.link/lGwpR\n",
      "Aberta a contribuições até 5/3/2025.\n",
      "Proposta de IN que dispõe sobre proibições e restrições aplicáveis à composição de fitoterápicos.\n",
      "Disponível emhttps://abrir.link/APIeu\n",
      "Aberta a contribuições até 5/3/2025.\n",
      "Proposta de IN que dispõe sobre a \"lista de agrotóxicos selecionados para análise em fitoterápicos\".\n",
      "Disponível emhttps://abrir.link/rHjgj\n",
      "Aberta a contribuições até 5/3/2025.\n",
      "Texto ainda não aberto a contribuições, mas disponibilizado para que sejam compreendidas todas as mudanças propostas.\n",
      "Disponível emhttps://abrir.link/uRlyU\n",
      "AIR sobre as mudanças propostas para fitoterápicos.\n",
      "Disponível emhttps://abrir.link/LyrMF\n",
      "Proposta de revisão da IN nº 02/2014, a qual publicou a \"Lista de medicamentos fitoterápicos de registro simplificado\" e a \"Lista de produtos tradicionais fitoterápicos de registro simplificado\".\n",
      "Disponível emhttps://abrir.link/sxmOc\n",
      "Aberta a contribuições até 11/3/2025.\n",
      "Coloca em discussão os textos técnicos abaixo descritos.\n",
      "O edital, bem como os relatórios de avaliação, as monografias e os pareceres estão disponíveis emhttps://abrir.link/NWWzJ\n",
      "Abertos a contribuições até 4/3/2025.\n",
      "Mais informações sobre os textos em discussão podem ser obtidas em:\n",
      "Anvisa realiza consultas públicas para revisar marco regulatório de fitoterápicos:https://www.gov.br/anvisa/pt-br/assuntos/noticias-anvisa/anvisa-realiza-consultas-publicas-para-revisar-marco-regulatorio-de-fitoterapicos\n",
      "Anvisa abre consulta pública sobre registro simplificado de fitoterápicos:https://www.gov.br/anvisa/pt-br/assuntos/noticias-anvisa/2024/anvisa-abre-consulta-publica-sobre-registro-simplificado-de-fitoterapicos\n",
      "\n",
      "==================================================\n",
      "\n",
      "Notícias\n",
      "IMPORTAÇÃO E EXPORTAÇÃO\n",
      "A Anvisa está efetuando os testes e adequações para o pagamento integrado da Taxa Anvisa ao módulo Pagamento Centralizado de Comércio Exterior (PCCE) do Portal Único do Comércio Exterior (Siscomex). Para saber mais sobre a integração,leia esta notícia.\n",
      "Considerando a necessidade de ajustes internos, construção de novos fluxos e elaboração de procedimentos e manuais, foi verificada a necessidade de ajuste no cronograma de migração.\n",
      "Diante desse cenário, publicamos o novo cronograma de implementação:\n",
      "O Manual para dar transparência e previsibilidade ao setor será disponibilizado oportunamente na página oficial da área (https://www.gov.br/anvisa/pt-br/centraisdeconteudo/publicacoes/portos-aeroportos-e-fronteiras/guias-e-manuais).\n",
      "\n",
      "==================================================\n",
      "\n",
      "Notícias\n",
      "SNVS\n",
      "Janeiro Verde: um alerta sobre a prevenção e a conscientização sobre o câncer de colo do útero. Este é um dos destaques da50ª edição do Boletim da Assessoria do Sistema Nacional de Vigilância Sanitária.\n",
      "Segundo o Instituto Nacional de Câncer (INCA), o câncer de colo do útero deverá afetar, a cada ano do triênio 2023-2025, cerca de 17 mil mulheres, provocando 5.700 mortes. A vacina contra o HPV se mostra uma das principais formas de prevenção, além do cuidado por meio do exame de Papanicolau, que pode ser feito gratuitamente pelo SUS e é recomendando para todas as mulheres que têm ou já tiveram vida sexual ativa.\n",
      "A edição deste mês destaca ainda as consultas públicas em aberto que impactam o SNVS: a consulta pública sobre requisitos sanitários para serviços odontológicos e a consulta sobre processos administrativos sanitários (PAS).\n",
      "Para saber mais, acesse a50ª edição do Boletim da Assessoria do Sistema Nacional de Vigilância Sanitária.\n",
      "\n",
      "==================================================\n",
      "\n",
      "Notícias\n",
      "Vacinas\n",
      "A Anvisa recebeu, no dia 16/12/2024, o terceiro pacote de dados referentes à vacina contra a dengue que está sendo desenvolvida pelo Instituto Butantan. Os documentos apresentados foram distribuídos para análise.\n",
      "A documentação foi apresentada nos termos da submissão contínua de documentos, que é o procedimento anterior ao pedido oficial de registro.\n",
      "Esse procedimento foi estabelecido pelo Grupo de Trabalho criado para monitorar e conduzir, no âmbito da Agência, as ações referentes à emergência na saúde para enfrentar a dengue.Para saber mais sobre o procedimento, leia esta notícia.\n",
      "A análise dos pacotes de processos de submissão contínua costuma durar cerca de 90 dias. Neste caso, a contar da data de protocolo do terceiro pacote de dados, ou seja, 16/12/2024.\n",
      "Submissão contínuaO procedimento de submissão contínua foi criado pela Anvisa durante a pandemia de Covid-19 e permite que o laboratório apresente dados e documentos em etapas, à medida que o trabalho de pesquisa e desenvolvimento vai sendo realizado.\n",
      "\n",
      "==================================================\n",
      "\n",
      "Notícias\n",
      "PORTOS, AEROPORTOS E FRONTEIRAS\n",
      "Por meio do monitoramento diário de casos de doenças em navios de cruzeiro, foi detectado, no dia 17 de janeiro, um surto de doença diarreica aguda (DDA) a bordo do cruzeiro MSC Grandiosa. O navio registrou mais de 2% de casos em passageiros (127 casos em 6.293 passageiros), atendendo ao critério para definição de surto do item 3.1.3 doGuia Sanitário para Navios de Cruzeiros.\n",
      "Os testes realizados pela equipe de saúde de bordo em amostras clínicas dos passageiros identificaram o norovírus, mesmo agente infeccioso identificado recentemente na Baixada Santista. O vírus é transmitido pessoa a pessoa e por contato com superfícies contaminadas.\n",
      "A equipe da Anvisa em Santos (SP), juntamente com agentes da Secretaria de Saúde do município, realizou, no dia 18 de janeiro, uma investigação complementar a bordo e coletou amostras adicionais em tripulantes para confirmar o agente infeccioso. Também foram coletadas amostras de água e alimentos no interior da embarcação.\n",
      "Além disso, foram verificadas as medidas de controle para o agente infeccioso, como isolamento dos passageiros com sintomas, orientação a bordo para higienização frequente das mãos e para a desinfecção de superfícies.\n",
      "As atividades de vigilância epidemiológica estão previstas no Guia Sanitário para Navios de Cruzeiros e visam monitorar a situação de saúde a bordo e as medidas de prevenção e controle aplicadas pela equipe do navio.\n",
      "Segundo orientações do Ministério da Saúde, compartilhadas pela Agência com empresas do setor de navegação, para casos como estes o principal tratamento é a hidratação. A hospitalização, em geral, é rara. Podem ocorrer evacuações frequentes e líquidas, vômitos, pele e boca secas e dificuldade de urinar.\n",
      "\n",
      "==================================================\n",
      "\n",
      "Notícias\n",
      "INTERNACIONAL\n",
      "A Anvisa e a Agência Dinamarquesa de Medicamentos (DKMA, na sigla em inglês) estão renovando a cooperação bilateral, por meio de uma terceira fase do projeto de cooperação estratégica no setor de saúde entre Brasil e Dinamarca, que inclui as agências reguladoras e os Ministérios da Saúde dos dois países.\n",
      "Nessa nova fase, atividades de intercâmbio técnico serão realizadas de abril de 2025 a março de 2028, e incluirão temas como inspeções de boas práticas clínicas e de dispositivos médicos, estudos de desempenho clínico, uso de inteligência artificial em processos regulatórios, prevenção e manejo da resistência antimicrobiana.\n",
      "\n",
      "==================================================\n",
      "\n",
      "Notícias\n",
      "COSMÉTICOS\n",
      "A Anvisa publicou dois documentos sobre as novas regras para monitoramento pós-mercado de cosméticos. OManual de Inspeção das Boas Práticas de Cosmetovigilânciae asPerguntas e Respostas sobre a RDC 894/2024irão apoiar a implementação das novas diretrizes regulatórias e fortalecer a segurança dos produtos cosméticos no Brasil.\n",
      "O Manual de Inspeção, destinado aos profissionais do Sistema Nacional de Vigilância Sanitária (SNVS), oferece orientações claras e detalhadas para a realização de inspeções sanitárias no âmbito da cosmetovigilância. Desenvolvido com a colaboração de Vigilâncias Sanitárias estaduais e municipais, o documento busca uniformizar práticas de inspeção e assegurar maior padronização nas atividades regulatórias e de fiscalização sanitária.\n",
      "O lançamento marca a conclusão de uma etapa importante prevista no estudo de Análise de Impacto Regulatório (AIR), que definiu a publicação da RDC 894/2024 e do manual como pilares para consolidar a regulamentação da cosmetovigilância no país.\n",
      "Complementando esse cenário regulatório, a Anvisa disponibiliza o documento “Perguntas e Respostas sobre a RDC 894/2024”, elaborado com base em dúvidas e questionamentos recebidos de empresas e associações do setor cosmético em relação à implementação da norma. Este material tem como objetivo facilitar a compreensão da regulamentação e fornecer orientações práticas para sua aplicação no dia a dia, enfatizando a importância da colaboração entre todos os atores envolvidos na cadeia de produção e uso dos produtos cosméticos.\n",
      "Ambos os documentos fortalecem o compromisso com a segurança e a qualidade dos cosméticos oferecidos à população brasileira, evidenciando a importância da integração entre diferentes atores da cadeia produtiva e o sistema de cosmetovigilância.\n",
      "Para mais informações sobre cosmetovigilância e acesso aos documentos, convidamos todos os interessados a visitarem a página reformulada dedicada ao tema no portal da Anvisa:www.gov.br/anvisa/pt-br/assuntos/fiscalizacao-e-monitoramento/cosmetovigilancia\n",
      "\n",
      "==================================================\n",
      "\n",
      "Notícias\n",
      "OUVIDORIA\n",
      "A Ouvidoria da Anvisa incluiu, no início deste ano, 14 novos serviços na Carta de Serviços ao Usuário. A Carta foi revisada e atualizada no final de dezembro de 2024 e já está disponível para os usuários napágina de serviços da Anvisa no gov.br.\n",
      "Com o objetivo de ampliar e melhorar a qualidade dos serviços prestados ao público, estão disponíveis agora 380 serviços à sociedade.\n",
      "A Carta de Serviços foi instituída pelo Decreto 9.094, de 17 de julho de 2017, para informar os serviços prestados pelas instituições, as formas de acesso a tais serviços, os compromissos e os padrões de qualidade do atendimento ao público. O Decreto, em seu Capítulo II, estabelece como um dos objetivos da Ouvidoria a implementação, o acompanhamento e a atualização da Carta, em coordenação com as demais unidades institucionais, além do zelo pela adequação e pela qualidade das informações nela disponibilizadas.\n",
      "Além da obrigatoriedade da publicação dos serviços disponibilizados pela Anvisa no portal \"gov.br\" por meio da Carta de Serviços, a Ouvidoria, em parceria com as demais unidades da Agência, é responsável pela atualização das informações ali contidas, pela avaliação e adequação do formato, acessibilidade, linguagem, precisão e suficiência das informações dos serviços.\n",
      "Veja a lista dos 14 novos serviços:\n",
      "\n",
      "==================================================\n",
      "\n"
     ]
    }
   ],
   "source": [
    "#acessar cada link e trazer o conteúdo\n",
    "for noticia in noticias:\n",
    "    link = noticia.get(\"href\")\n",
    "    if link:\n",
    "        resposta_noticia = requests.get(link)\n",
    "        soup_noticia = BeautifulSoup(resposta_noticia.text, \"html.parser\")\n",
    "        \n",
    "        conteudo_noticia = soup_noticia.find_all(\"p\")\n",
    "\n",
    "        for paragrafo in conteudo_noticia:\n",
    "            texto = paragrafo.get_text(strip=True)\n",
    "            if texto:\n",
    "                print(texto)\n",
    "\n",
    "            print(\"\\n\" + \"=\"*50 + \"\\n\")"
   ]
  },
  {
   "cell_type": "markdown",
   "id": "4faf307c",
   "metadata": {},
   "source": [
    "### **Ler conteúdo do HTML**"
   ]
  },
  {
   "cell_type": "code",
   "execution_count": 35,
   "id": "fa960808",
   "metadata": {},
   "outputs": [],
   "source": [
    "caminho_html = \"resolucao551.html\"\n",
    "\n",
    "with open(caminho_html, 'r', encoding='utf-8') as f:\n",
    "    html = f.read()"
   ]
  },
  {
   "cell_type": "code",
   "execution_count": 43,
   "id": "45c86355",
   "metadata": {},
   "outputs": [],
   "source": [
    "soup = BeautifulSoup(html, 'html.parser')\n",
    "\n",
    "body = soup.find('div', class_='texto-dou')\n",
    "texto_limpo = body.get_text(strip=True, separator='\\n\\n')"
   ]
  },
  {
   "cell_type": "code",
   "execution_count": 48,
   "id": "5e81f566",
   "metadata": {},
   "outputs": [
    {
     "name": "stdout",
     "output_type": "stream",
     "text": [
      "RESOLUÇÃO RDC Nº 551, DE 30 DE Agosto DE 2021\n",
      "\n",
      "Dispõe sobre a obrigatoriedade de execução e notificação de ações de campo por detentores de registro de produtos para a saúde no Brasil.\n",
      "\n",
      "A Diretoria Colegiada da Agência Nacional de Vigilância Sanitária, no uso das atribuições que lhe confere o art. 15, III e IV, aliado ao art. 7º, III e IV da Lei nº 9.782, de 26 de janeiro de 1999, e ao art. 53, VI, §§ 1º e 3º do Regimento Interno aprovado pela Resolução de Diretoria Colegiada - RDC nº 255, de 10 de dezembro de 2018, resolve adotar a seguinte Resolução, conforme deliberado em reunião realizada em 30 de agosto de 2021 e eu, Diretor-Presidente, determino a sua publicação.\n",
      "\n",
      "Art. 1º Esta Resolução define as situações em que são obrigatórias a execução e a notificação de ações de campo por parte dos detentores de registro de produtos para a saúde no Brasil, estabelecendo seus requisitos mínimos.\n",
      "\n",
      "Art. 2º Entende-se por detentor de registro de produto para a saúde o titular do registro/notificação de produto para a saúde junto à Anvisa.\n",
      "\n",
      "Parágrafo único. O detentor de registro, bem como os demais agentes envolvidos desde a produção até o uso do produto, ou descarte deste quando couber, são solidariamente responsáveis pela manutenção da qualidade, segurança e eficácia dos produtos para a saúde até o consumidor final.\n",
      "\n",
      "Art. 3º Para efeito desta Resolução são adotadas as seguintes definições:\n",
      "\n",
      "I - ação de campo: ação realizada pelo fabricante ou detentor de registro de produto para a saúde, com objetivo de reduzir o risco de ocorrência de evento adverso relacionado ao uso de produto para saúde já comercializado;\n",
      "\n",
      "II - mensagem de alerta: comunicação feita pelo detentor de registro a profissionais de saúde, pacientes, usuários, setor regulado, outros interessados ou comunidade em geral, cujo objetivo é informar a respeito do risco de ocorrência de evento adverso relacionado ao uso de produto para a saúde;\n",
      "\n",
      "III - evento adverso: qualquer efeito não desejado, em humanos, decorrente do uso de produtos sob vigilância sanitária;\n",
      "\n",
      "IV - evento adverso grave: evento adverso que se enquadra em pelo menos uma das seguintes situações:\n",
      "\n",
      "a) leva a óbito;\n",
      "\n",
      "b) causa deficiência ou dano permanente em uma estrutura do organismo;\n",
      "\n",
      "c) requer intervenção médica ou cirúrgica a fim de prevenir o comprometimento permanente de uma função ou estrutura do organismo;\n",
      "\n",
      "d) exige hospitalização do paciente ou prolongamento da hospitalização; e\n",
      "\n",
      "e) leva a perturbação ou risco fetal, morte fetal ou anomalia congênita;\n",
      "\n",
      "V - séria ameaça à saúde pública: qualquer tipo de ocorrência que resulta em risco iminente de morte, lesão grave ou doença séria que requer uma rápida medida corretiva.\n",
      "\n",
      "Art. 4º O detentor de registro deve iniciar, o mais rapidamente possível, uma ação de campo sempre que houver indícios suficientes ou comprovação de que um produto para a saúde não atende aos requisitos essenciais de segurança e eficácia aplicáveis a este produto.\n",
      "\n",
      "§ 1º A ação de campo deve ser planejada e executada com o objetivo de minimizar o risco à saúde de forma efetiva e oportuna.\n",
      "\n",
      "§ 2º Cabe ao detentor de registro indicar a necessidade da suspensão da comercialização/importação do lote ou série afetado, salvo quando definido pelo Sistema Nacional de Vigilância Sanitária (SNVS).\n",
      "\n",
      "Art. 5º O detentor de registro deve elaborar, aplicar e manter atualizados procedimentos operacionais escritos para as ações de campo de sua responsabilidade.\n",
      "\n",
      "Art. 6º O SNVS determinará, quando identificado risco à saúde, a execução de ações de campo que julgar apropriadas, independentemente das iniciativas tomadas pelo detentor de registro.\n",
      "\n",
      "Art. 7º O detentor de registro deve divulgar, o mais rapidamente possível, mensagem de alerta referente a ação de campo de sua responsabilidade, expressa de maneira clara e objetiva e contendo, no mínimo, informações sobre:\n",
      "\n",
      "I - O problema;\n",
      "\n",
      "II - O produto (número de registro/notificação, nome do produto, modelo e lote/série afetada);\n",
      "\n",
      "III - O risco relacionado ao problema;\n",
      "\n",
      "IV - Orientações para profissionais de saúde, pacientes, usuários, setor regulado, outros interessados ou comunidade em geral.\n",
      "\n",
      "Parágrafo único. Cabe ao detentor de registro selecionar e utilizar o(s) meio(s) de comunicação mais efetivo(s) para a divulgação da mensagem de alerta.\n",
      "\n",
      "Art. 8º Em caso de necessidade de utilização de veículo de mídia de grande circulação para a divulgação da mensagem de alerta, o detentor de registro deve submeter tal mensagem à anuência prévia da Anvisa, conforme estabelece o art. 41-B da Lei 9.782, de 26 de janeiro de 1999, em até 5 (cinco) dias corridos contados a partir da decisão da realização da ação de campo.\n",
      "\n",
      "§ 1º A submissão das informações tratadas neste artigo deve ser realizada em formulário específico definido pela Anvisa.\n",
      "\n",
      "§ 2º Após a protocolização do formulário a Anvisa pode aprovar o conteúdo e a forma da mensagem de alerta ou apontar as correções necessárias.\n",
      "\n",
      "§ 3º Após a anuência da Anvisa, o detentor de registro deve promover imediatamente a veiculação da mensagem de alerta.\n",
      "\n",
      "§ 4º A anuência prévia não exime a empresa de enviar o formulário de notificação de ação de campo, previsto no art. 9º desta Resolução.\n",
      "\n",
      "Art. 9º O detentor de registro deve notificar a Anvisa sobre a realização de ação de campo envolvendo produto para a saúde de sua responsabilidade, de acordo com os seguintes prazos e condições:\n",
      "\n",
      "I - Em até 3 (três) dias corridos, em caso de necessidade de utilização de veículo de mídia de grande circulação para a divulgação da mensagem de alerta;\n",
      "\n",
      "II - Em até 3 (três) dias corridos, em caso de séria ameaça à saúde pública;\n",
      "\n",
      "III - Em até 10 (dez) dias corridos, quando identificado risco de ocorrência de evento adverso grave e a situação não se enquadrar nos incisos I ou II deste artigo;\n",
      "\n",
      "IV - Em até 30 (trinta) dias corridos, quando a situação não se enquadrar nos incisos I, II ou III deste artigo.\n",
      "\n",
      "§ 1º Os prazos definidos neste artigo devem ser contados a partir da decisão de realização da ação de campo.\n",
      "\n",
      "§ 2º A notificação deve ser feita por meio de formulário específico, definido pela Anvisa.\n",
      "\n",
      "§ 3º A Anvisa poderá solicitar a revisão, alteração ou complementação das informações apresentadas pelo detentor de registro.\n",
      "\n",
      "Art. 10. O detentor de registro deve apresentar à Anvisa relatórios de monitoramento e relatório de conclusão da ação de campo.\n",
      "\n",
      "§ 1º Os relatórios devem ser enviados nas datas declaradas no plano de ação do formulário de notificação apresentado pelo detentor de registro.\n",
      "\n",
      "§ 2º Juntamente com o relatório de conclusão deve ser enviada uma cópia de documentação comprobatória da finalização da ação de campo ou declaração de que tal documentação se encontra na empresa (detentor de registro).\n",
      "\n",
      "§ 3º Os relatórios de monitoramento de ação de campo devem ser enviados conforme modelo definido pela Anvisa.\n",
      "\n",
      "Art. 11. A Anvisa poderá solicitar a apresentação de relatórios em datas diferentes daquelas informadas no plano de ação da empresa.\n",
      "\n",
      "Art. 12. Os distribuidores de produtos para a saúde devem encaminhar para o detentor de registro, em tempo hábil, o mapa de distribuição e outras informações solicitadas para a notificação e execução de ações de campo.\n",
      "\n",
      "Art. 13. Nas situações em que o produto para a saúde sujeito a ação de campo foi ou ainda está sendo utilizado, o detentor de registro deve prestar assistência aos usuários, pacientes ou outras pessoas envolvidas, de maneira a tornar aceitável o risco associado ao uso do produto e reduzir os efeitos dos danos já ocorridos.\n",
      "\n",
      "Art. 14. Os produtos recolhidos devem ser identificados e segregados em áreas separadas e seguras, até a definição de seu destino final.\n",
      "\n",
      "Parágrafo único. Nos casos em que a ação de campo não requeira recolhimento, o produto alvo dessa ação deve ser devidamente identificado, e segregado quando couber, para evitar utilização inadvertida.\n",
      "\n",
      "Art. 15. A inutilização dos produtos para a saúde recolhidos, quando necessária, é de responsabilidade do detentor de registro, respeitadas as normas vigentes relativas à destinação de resíduos.\n",
      "\n",
      "Parágrafo único. A inutilização do produto recolhido implica na sua descaracterização completa como produto para saúde.\n",
      "\n",
      "Art. 16. O detentor de registro deve manter um arquivo atualizado de documentos e registros referentes às suas ações de campo, estruturado de forma a garantir a rastreabilidade das informações e a rápida recuperação de dados e informações.\n",
      "\n",
      "Parágrafo único. Devem fazer parte do arquivo citado no caput deste artigo os registros comprobatórios de envio e recebimento de correspondência, bem como os registros e documentos comprobatórios de finalização das ações de campo iniciadas pelo detentor de registro.\n",
      "\n",
      "Art. 17. O descumprimento das disposições contidas nesta Resolução constitui infração sanitária, nos termos da Lei º 6.437, de 20 de agosto de 1977, sem prejuízo das responsabilidades civil, administrativa e penal cabíveis, incluindo aquelas estabelecidas pela Lei nº 8.078, de 11 de setembro de 1990.\n",
      "\n",
      "Art. 18. Cabe à Anvisa e aos demais entes do SNVS, no âmbito de suas competências e mediante pactuação de responsabilidades, a adoção de medidas ou procedimentos para os casos não previstos nesta Resolução.\n",
      "\n",
      "Art. 19. Ficam revogadas:\n",
      "\n",
      "I - a Resolução de Diretoria Colegiada - RDC nº 23, de 4 de abril de 2012, publicada no Diário Oficial da União nº 68, de 9 de abril de 2012, Seção 1, pág. 77; e\n",
      "\n",
      "II - a Resolução de Diretoria Colegiada - RDC nº 501, de 27 de maio de 2021, publicada no Diário Oficial da União nº 103, de 2 de junho de 2021, Seção 1, pág. 119.\n",
      "\n",
      "Art. 20. Esta Resolução entra em vigor em 1º de outubro de 2021.\n",
      "\n",
      "ANTONIO BARRA TORRES\n"
     ]
    }
   ],
   "source": [
    "print(texto_limpo)"
   ]
  },
  {
   "cell_type": "code",
   "execution_count": 45,
   "id": "f3ea2dd0",
   "metadata": {},
   "outputs": [],
   "source": [
    "import tiktoken"
   ]
  },
  {
   "cell_type": "code",
   "execution_count": 46,
   "id": "fb7bea11",
   "metadata": {},
   "outputs": [
    {
     "data": {
      "text/plain": [
       "2711"
      ]
     },
     "execution_count": 46,
     "metadata": {},
     "output_type": "execute_result"
    }
   ],
   "source": [
    "# Definir o modelo\n",
    "econding = tiktoken.encoding_for_model(\"gpt-4\")\n",
    "\n",
    "# Calcular o número de tokens\n",
    "num_tokens = len(econding.encode(texto_limpo))\n",
    "num_tokens"
   ]
  },
  {
   "cell_type": "code",
   "execution_count": 47,
   "id": "559ff533",
   "metadata": {},
   "outputs": [
    {
     "data": {
      "text/plain": [
       "28301"
      ]
     },
     "execution_count": 47,
     "metadata": {},
     "output_type": "execute_result"
    }
   ],
   "source": [
    "num_tokens_html = len(econding.encode(html))\n",
    "num_tokens_html"
   ]
  },
  {
   "cell_type": "code",
   "execution_count": null,
   "id": "a146a572",
   "metadata": {},
   "outputs": [],
   "source": [
    "preco_input = 2/1000000\n",
    "preco_output = 8/1000000"
   ]
  },
  {
   "cell_type": "code",
   "execution_count": 50,
   "id": "b2fb0c85",
   "metadata": {},
   "outputs": [
    {
     "data": {
      "text/plain": [
       "0.005422"
      ]
     },
     "execution_count": 50,
     "metadata": {},
     "output_type": "execute_result"
    }
   ],
   "source": [
    "num_tokens * preco_input"
   ]
  },
  {
   "cell_type": "code",
   "execution_count": 54,
   "id": "5cc821e7",
   "metadata": {},
   "outputs": [
    {
     "data": {
      "text/plain": [
       "8.45532"
      ]
     },
     "execution_count": 54,
     "metadata": {},
     "output_type": "execute_result"
    }
   ],
   "source": [
    "((num_tokens_html * preco_input) + (num_tokens * preco_output))*6 *18"
   ]
  },
  {
   "cell_type": "code",
   "execution_count": null,
   "id": "af1f2334",
   "metadata": {},
   "outputs": [],
   "source": []
  }
 ],
 "metadata": {
  "kernelspec": {
   "display_name": "base",
   "language": "python",
   "name": "python3"
  },
  "language_info": {
   "codemirror_mode": {
    "name": "ipython",
    "version": 3
   },
   "file_extension": ".py",
   "mimetype": "text/x-python",
   "name": "python",
   "nbconvert_exporter": "python",
   "pygments_lexer": "ipython3",
   "version": "3.12.7"
  }
 },
 "nbformat": 4,
 "nbformat_minor": 5
}
