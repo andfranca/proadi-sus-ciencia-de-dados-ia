{
 "cells": [
  {
   "cell_type": "markdown",
   "id": "e34c02d9",
   "metadata": {},
   "source": [
    "# **ML - Introdução à Leitura e Estruturação de Dados**\n",
    "**Autor:** [Anderson França](https://www.linkedin.com/in/anderson-m-franca/) | **Contato:** [github.com/andfranca](https://github.com/andfranca/estatistica-e-aprendizado-de-maquinas-ptbr)\n",
    "\n",
    "<a href=\"https://creativecommons.org/licenses/by/4.0/deed.en\"><img align=\"left\" width=\"80\" src=\"https://mirrors.creativecommons.org/presskit/buttons/88x31/png/by-nc.png\"/></a>\n"
   ]
  },
  {
   "cell_type": "markdown",
   "id": "eaaa37b5",
   "metadata": {},
   "source": [
    "> ##### **\"Se eu te entregar um parecer técnico em PDF com 10 páginas, você conseguiria transformá-lo em uma base de dados analisável em 10 minutos?\"**"
   ]
  },
  {
   "cell_type": "markdown",
   "id": "3a19a803",
   "metadata": {},
   "source": [
    "### **Documentos do dia-a-dia**\n",
    "\n",
    "O que encontramos nos documentos textuais são:\n",
    "- Texto desorganizado, com formatação complexa\n",
    "- Tabelas embutidas, notas de rodapé, múltiplas colunas\n",
    "- Linguagem ambígua e estrutura variável\n",
    "\n",
    "Todos possuem formatos diferentes, mas problema parecidos\n"
   ]
  },
  {
   "cell_type": "markdown",
   "id": "32fc6bc8",
   "metadata": {},
   "source": [
    "<table>\n",
    "  <tr>\n",
    "    <td align=\"center\" valign=\"bottom\">\n",
    "        <img src=\"https://media4.giphy.com/media/v1.Y2lkPTc5MGI3NjExczluY2p1cjlua3VlNmVuNHdkZngzaWtyazN4NDluZmRodXl1cHV1OSZlcD12MV9pbnRlcm5hbF9naWZfYnlfaWQmY3Q9Zw/m2Q7FEc0bEr4I/giphy.gif\" width=\"300px\"><br>\n",
    "        <em>Para humanos pode parecer uma tarefa simples</em>\n",
    "    </td>\n",
    "    <td align=\"center\" valign=\"bottom\">\n",
    "        <img src=\"https://media4.giphy.com/media/v1.Y2lkPTc5MGI3NjExM3N5dWZ5MTByODd3Zm9vdXlhcXRpcWJnOG1yNjA3NXM4YmdyM2d6NiZlcD12MV9pbnRlcm5hbF9naWZfYnlfaWQmY3Q9Zw/vuP4lZB1bpTq2FY5WF/giphy.gif\" width=\"400px\"><br>\n",
    "        <em>Para os algoritmos é uma tarefa extremamente complexa.</em>\n",
    "    </td>\n",
    "  </tr>\n",
    "</table>"
   ]
  },
  {
   "cell_type": "markdown",
   "id": "94e9bf76",
   "metadata": {},
   "source": [
    "### **Dados Estruturados vs Texto Livre**\n",
    "\n",
    "A maioria dos documentos contém informações importantes, mas em formato de texto livre. Isso é bem difícil de processar nos modelos de IA.\n",
    "\n",
    "Para transformar esses conteúdos em dados utilizáveis, é preciso identificar, extrair e organizar os elementos relevantes em uma estrutura consistente e legível por máquina.\n",
    "\n",
    "Esse processo é essencial para alimentar modelos estatísticos e de linguagem com qualidade e precisão.\n",
    "\n",
    "\n",
    "| Tipo  | Exemplo |\n",
    "|-------|-----------------|\n",
    "| Estruturado | {\"substância\": \"Parabeno\", \"nível\": 0.3}|\n",
    "| Texto Livre | “Foi identificado o uso de parabenos em concentração de 0,3% no produto…”|\n"
   ]
  },
  {
   "cell_type": "markdown",
   "id": "76b06f91",
   "metadata": {},
   "source": [
    "### **O que precisamos extrair?**\n",
    "\n",
    "\n",
    "<div><img src=\"https://drive.google.com/uc?export=view&id=1r5W5esx4G5Ev3kYRf50A6w6hny5EL18K\" width=\"600\" align=\"center\"/></div>\n",
    "\n",
    "Lembrando: \n",
    "> ## Garbage in, Garbage Out\n",
    "Se a entrada é ruim, o resultado será ruim também\n",
    "\n",
    "\n",
    "\n"
   ]
  },
  {
   "cell_type": "code",
   "execution_count": 63,
   "id": "66d8d9f3",
   "metadata": {},
   "outputs": [],
   "source": [
    "from bs4 import BeautifulSoup\n",
    "import requests\n",
    "import pandas as pd"
   ]
  },
  {
   "cell_type": "code",
   "execution_count": 64,
   "id": "f9374cdc",
   "metadata": {},
   "outputs": [],
   "source": [
    "url = \"https://www.gov.br/anvisa/pt-br/assuntos/noticias-anvisa/2025/confira-os-destaques-da-6a-reuniao-publica-da-dicol-de-2025\""
   ]
  },
  {
   "cell_type": "code",
   "execution_count": 65,
   "id": "476ce2bf",
   "metadata": {},
   "outputs": [
    {
     "name": "stdout",
     "output_type": "stream",
     "text": [
      "Notícias\n",
      "DIRETORIA COLEGIADA\n",
      "Nesta quarta-feira (16/4), os diretores da Anvisa se reuniram para a 6ª Reunião Pública da Diretoria Colegiada (Dicol) de 2025, sob a condução do diretor-presidente substituto, Rômison Mota. Foram retirados de pauta, por ele, os itens 3.10 e 3.2.10.4 a 3.2.10.9. Além disso, foi solicitada a inclusão em pauta da proposta de abertura do processo administrativo de regulação referente à decisão que aprovou, em caráterad referendum(isto é, adotada provisoriamente), a Resolução da Diretoria Colegiada (RDC) 971/2025, que, por sua vez, alterou a RDC 947/2024 — a qual dispõe sobre os procedimentos de protocolo de documentos no âmbito da Agência.\n",
      "Colgate e a redução de riscos\n",
      "O diretor Daniel Pereira, por sua vez, pediu a retirada dos itens 3.3.3.1 e 3.3.12.1, e, no que se refere à retirada de pauta do item 4.3.4.1, que diz respeito àinterdição do creme dental Colgate Total Clean Mint por reações indesejáveis, fez algumas considerações. Em busca de prestigiar iniciativas próprias dos detentores de registro para propor e executar medidas de contenção e retenção — considerando que são os responsáveis pelos dados e pelo monitoramento pós-mercado —, o diretor ressaltou que esses agentes devem, portanto, ser capazes de detectar possíveis desvios de qualidade e segurança em seus produtos.\n",
      "Este fundamento visa estimular ocompliance(ou seja, o conjunto de práticas que garantem a conformidade de uma empresa com os regulamentos vigentes, visando garantir a segurança dos seus produtos e minimizar os riscos) dos setores regulados pela Anvisa. Isso porque toda medida, seja ela regulatória ou de fiscalização, gera custos tanto para a Agência quanto para as Vigilâncias Sanitárias locais, que já operam com recursos limitados. A diligência na solução do problema é essencial para que ele seja prontamente resolvido e, de acordo com o diretor, a Colgate vem adotando medidas para a redução de riscos desde o início das investigações. Foram realizadas diversas reuniões internas, e a empresa apresentou, ainda, um plano de ação, protocolizado nesta semana.\n",
      "Para possibilitar uma avaliação detalhada e completa da proposta — levando em conta o intervalo temporal entre esta e a próxima reunião da Dicol, prevista para 14 de maio —, o diretor Daniel Pereira propôs a retirada do item de pauta e sugeriu a realização de uma reunião específica, em data intermediária, para tratar do caso.\n",
      "O diretor-presidente substituto, Rômison Mota, enfatizou que as reuniões da Dicol são usualmente quinzenais, mas que, em função do quórum reduzido de diretores, foi necessário readequar a agenda de maio, a fim de que outros compromissos relativos à Anvisa também pudessem ser cumpridos. “Espero que, muito em breve, tenhamos o quórum completo de diretores para o bom andamento dos trabalhos desta Agência”, reforçou.\n",
      "Todas as alterações de pauta propostas foram aprovadas por unanimidade. Vejaaquia pauta completa da 6ª Reunião Pública da Dicol de 2025.\n",
      "Doença de Chagas\n",
      "O diretor Daniel Pereira aproveitou a reunião para lembrar que 14 de abril foi uma data consolidada como Dia Mundial da Doença de Chagas, doença tropical negligenciada transmitida via parasita. “A doença de Chagas é um desafio de saúde pública e também um lembrete da desigualdade social que ainda persiste em muitas regiões. Que esse dia nos inspire a continuar promovendo educação em saúde, investimentos, pesquisas e políticas públicas eficazes”, afirmou.\n",
      "Composição das vacinas influenza de 2025\n",
      "Entre os destaques da pauta do dia, esteve a proposta de Instrução Normativa (IN) para alterar a composição das vacinas influenza a serem utilizadas no Brasil, aprovada por unanimidade — e que integra a Agenda Regulatória 2024-2025. Devido à sazonalidade do vírus, que exige um controle contínuo, a Organização Mundial da Saúde (OMS) emite recomendações específicas para os hemisférios Norte e Sul, de forma separada, no início e no final de cada ano, respectivamente. Até outubro de 2024, a Anvisa autorizava o uso no Brasil apenas de vacinas atualizadas em relação às recomendações da OMS para o Hemisfério Sul. Contudo, após avaliações epidemiológicas, o Programa Nacional de Imunizações (PNI) entendeu ser pertinente a realização de uma campanha de vacinação contra a influenza específica para a região Norte do país.\n",
      "O chamado inverno amazônico e ciclos locais da chuva, usualmente entre novembro e maio, não coincidem com a ocorrência da mesma estação nas regiões Nordeste, Centro-Oeste, Sul e Sudeste. Para autorizar a circulação no país das vacinas adequadas às recomendações para o Hemisfério Norte, foram necessárias adequações normativas que preveem a circulação de imunizantes distintos dos indicados para o Hemisfério Sul, desde que de uso exclusivo nos programas do Ministério da Saúde.\n",
      "Outras deliberações\n",
      "Na pauta do dia, estiveram também propostas de consulta pública de IN para estabelecer as especificações de identidade, pureza e composição de ingredientes autorizados para uso em alimentos; de consulta pública de RDC para alterar a RDC 243/2018, que dispõe sobre os requisitos sanitários dos suplementos alimentares, a RDC/2023, que dispõe sobre a comprovação de segurança e a autorização de uso de novos alimentos e novos ingredientes, e a IN/2018, que estabelece as listas de constituintes, de limites de uso, de alegações e de rotulagem complementar dos suplementos alimentares.\n",
      "As propostas, que também fazem parte da Agenda Regulatória 2024-2025, foram aprovadas por unanimidade, com prazo de 45 dias para manifestação da sociedade. Ainda com aprovação unânime, integraram a pauta a proposta de RDC para dispor sobre a atualização do Anexo I (Listas de Substâncias Entorpecentes, Psicotrópicas, Precursoras e Outras sob Controle Especial) da Portaria SVS/MS 344/1998 e a proposta de alteração do documento de Perguntas e Respostas referente à RDC 658/2022, que dispõe sobre as Diretrizes Gerais de Boas Práticas de Fabricação de Medicamentos, entre outros temas de relevância para a saúde pública do país.\n",
      "Saiba mais\n",
      "A Dicol informa que o julgamento dos recursos administrativos, pedidos de retirada de efeito suspensivo e de revisão de ato constantes da pauta serão realizados por meio deCircuito Deliberativo, e não mais serão realizados durante a reunião pública, conforme estabelecido pelaRDC 862/2024. Os extratos e votos das decisões serão publicizados também no portal da Anvisa, excetuando-se os que tiveram sigilo aprovado, ao fim do prazo de votação de 5 dias úteis.\n",
      "O encontro desta quarta ocorreu na sala de reuniões da Dicol, no Edifício Sede da Anvisa, em Brasília (DF), com transmissão ao vivo pelo canal da Agência no YouTube. Para assistir a reunião completa, clique neste link:youtube.com/watch?v=wVb8K1NkDgc\n"
     ]
    }
   ],
   "source": [
    "resposta = requests.get(url)\n",
    "\n",
    "soup = BeautifulSoup(resposta.text, \"html.parser\")\n",
    "conteudo = soup.find_all(\"p\")\n",
    "\n",
    "\n",
    "for paragrafo in conteudo:\n",
    "    texto = paragrafo.get_text(strip=True)\n",
    "    if texto:\n",
    "        print(texto)"
   ]
  },
  {
   "cell_type": "code",
   "execution_count": null,
   "id": "99ed89f8",
   "metadata": {},
   "outputs": [],
   "source": []
  },
  {
   "cell_type": "markdown",
   "id": "c11e4b27",
   "metadata": {},
   "source": [
    "# Ler arquivos em PDF"
   ]
  },
  {
   "cell_type": "code",
   "execution_count": 15,
   "id": "852d6f6c",
   "metadata": {},
   "outputs": [],
   "source": [
    "#pip install pdfplumber"
   ]
  },
  {
   "cell_type": "code",
   "execution_count": 13,
   "id": "f8ec88fc",
   "metadata": {},
   "outputs": [],
   "source": [
    "import pdfplumber\n",
    "import requests\n",
    "import io"
   ]
  },
  {
   "cell_type": "code",
   "execution_count": null,
   "id": "d4609b27",
   "metadata": {},
   "outputs": [],
   "source": [
    "url = 'https://www.gov.br/anvisa/pt-br/assuntos/cosmeticos/catec/pareceres/parecer_13_2024_catec.pdf'\n",
    "\n",
    "# Download do PDF\n",
    "resposta = requests.get(url)"
   ]
  },
  {
   "cell_type": "markdown",
   "id": "895787bc",
   "metadata": {},
   "source": [
    "### Leitura de Página"
   ]
  },
  {
   "cell_type": "code",
   "execution_count": 14,
   "id": "6085bd2b",
   "metadata": {},
   "outputs": [
    {
     "name": "stdout",
     "output_type": "stream",
     "text": [
      "PARECER Nº 13/2024/SEI/GGCOS/DIRE3/ANVISA\n",
      "Processo nº 25351.903963/2022-21\n",
      "Interessado: Gerência-Geral de Cosméticos e Saneantes (GGCOS)\n",
      "Assunto: Avaliação de Segurança da Substância Monoetilenoglicol -\n",
      "Nomenclatura Internacional de Ingrediente Cosmético (INCI):\n",
      "Glycol (CAS 107-21-1)\n",
      "Definição da segurança de uso\n",
      "da substância\n",
      "Monoetilenoglicol – INCI: Glycol\n",
      "(CAS 107-21-1) em produtos de\n",
      "higiene pessoal, cosméticos e\n",
      "perfumes, especialmente em\n",
      "produtos que entram em\n",
      "contato com a mucosa bucal\n",
      "1. Relatório\n",
      "A Gerência de Hemo e Biovigilância e Vigilância Pós-\n",
      "Uso de Alimentos, Cosméticos e Produtos Saneantes (GHBIO) da\n",
      "Anvisa foi comunicada em 05/09/2022 pelo Ministério da\n",
      "Agricultura, Pecuária e Abastecimento - MAPA, de investigação\n",
      "envolvendo intoxicação e óbito de animais de companhia após\n",
      "ingestão de petiscos próprios para alimentação animal que\n",
      "apresentaram contaminação do ingrediente Propilenoglicol com\n",
      "Etilenoglicol.\n",
      "A Gerência de Inspeção e Fiscalização Sanitária de\n",
      "Alimentos, Saneantes e Cosméticos da Anvisa abriu dossiê de\n",
      "investigação, inicialmente para apurar se há risco para a saúde\n",
      "humana e, caso necessário, tomar as medidas sanitárias cabíveis;\n",
      "visto ser imprescindível a verificação da rastreabilidade dos\n",
      "insumos contaminados, para avaliar se o produto foi utilizado por\n",
      "empresa do setor de alimentos de uso humano.\n",
      "No que se refere a Cosmetovigilância, a GHBIO\n",
      "informou que até o momento, de acordo com consulta à base de\n",
      "dados de notificações (NOTIVISA), não foi identificada qualquer\n",
      "notificação de suspeita de evento adverso que possa ensejar\n",
      "relação com a absorção do ingrediente por humanos.\n",
      "Entre os efeitos adversos à saúde humana, o\n",
      "Monoetilenoglicol (CAS 107-21-1), ou também 1,2-\n",
      "Dihidroxietano; 1,2-Etanodiol; Etileno diidratado ou\n",
      "simplesmente Etilenoglicol é uma substância prejudicial ou fatal\n",
      "se ingerido; prejudicial se inalado ou absorvido pela pele e ainda\n",
      "pode causar irritação na pele, nos olhos e no trato respiratório.\n",
      "Afeta todo o Sistema Nervoso Central (SNC), se inalado ou\n",
      "ingerido, podendo causar sintomas de depressão do SNC, edema\n",
      "pulmonar, danos aos rins (diminui o volume da urina e causa\n",
      "acidose metabólica) e ao fígado. Pode causar irritação a todas as\n",
      "vias de exposição. Possível risco de defeitos congênitos. Sendo\n",
      "assim, não deve ser usado na fabricação de alimentos ou\n",
      "produtos farmacêuticos, nos quais o etileno glicol (mono, di, tri)\n",
      "possa ser ingerido.\n",
      "Quanto a utilização das substâncias mencionadas no\n",
      "caso em tela, em pesquisa no sítio eletrônico Cosing da\n",
      "Comunidade Europeia, observa-se que o Propilenoglicol ou\n",
      "Propylene glycol (CAS 57-55-6) é uma substância permitida e\n",
      "utilizada em Cosméticos, Produtos de Higiene Pessoal e Perfumes\n",
      "como agente umectante, condicionante, solvente e controlador\n",
      "de viscosidade e que o Monoetilenoglicol ou Glycol (CAS 107-21-\n",
      "1) também é permitido e utilizado em Cosméticos, Produtos de\n",
      "Higiene Pessoal e Perfumes como agente umectante, solvente e\n",
      "controlador de viscosidade.\n",
      "O uso do ingrediente em formulações de 'cosméticos'\n",
      "em mucosa bucal, como produtos de higiene bucal, que eventual\n",
      "e indevida ou acidentalmente possam ser ingeridos, pode\n",
      "representar risco e deve ser cauteloso.\n",
      "Após a ciência do caso específico, a Coordenação de\n",
      "Parecer 13 (3191378) SEI 25351.903963/2022-21 / pg. 1\n"
     ]
    }
   ],
   "source": [
    "with pdfplumber.open(io.BytesIO(resposta.content)) as pdf:\n",
    "    texto_pag1 = pdf.pages[0].extract_text()\n",
    "    print(texto_pag1)"
   ]
  },
  {
   "cell_type": "markdown",
   "id": "bdbf0ee8",
   "metadata": {},
   "source": [
    "# Leitura Completa"
   ]
  },
  {
   "cell_type": "code",
   "execution_count": 17,
   "id": "83077ab7",
   "metadata": {},
   "outputs": [
    {
     "name": "stdout",
     "output_type": "stream",
     "text": [
      "PARECER Nº 13/2024/SEI/GGCOS/DIRE3/ANVISA\n",
      "Processo nº 25351.903963/2022-21\n",
      "Interessado: Gerência-Geral de Cosméticos e Saneantes (GGCOS)\n",
      "Assunto: Avaliação de Segurança da Substância Monoetilenoglicol -\n",
      "Nomenclatura Internacional de Ingrediente Cosmético (INCI):\n",
      "Glycol (CAS 107-21-1)\n",
      "Definição da segurança de uso\n",
      "da substância\n",
      "Monoetilenoglicol – INCI: Glycol\n",
      "(CAS 107-21-1) em produtos de\n",
      "higiene pessoal, cosméticos e\n",
      "perfumes, especialmente em\n",
      "produtos que entram em\n",
      "contato com a mucosa bucal\n",
      "1. Relatório\n",
      "A Gerência de Hemo e Biovigilância e Vigilância Pós-\n",
      "Uso de Alimentos, Cosméticos e Produtos Saneantes (GHBIO) da\n",
      "Anvisa foi comunicada em 05/09/2022 pelo Ministério da\n",
      "Agricultura, Pecuária e Abastecimento - MAPA, de investigação\n",
      "envolvendo intoxicação e óbito de animais de companhia após\n",
      "ingestão de petiscos próprios para alimentação animal que\n",
      "apresentaram contaminação do ingrediente Propilenoglicol com\n",
      "Etilenoglicol.\n",
      "A Gerência de Inspeção e Fiscalização Sanitária de\n",
      "Alimentos, S\n"
     ]
    }
   ],
   "source": [
    "texto_completo = \"\"\n",
    "with pdfplumber.open(io.BytesIO(resposta.content)) as pdf:\n",
    "    for pagina in pdf.pages:\n",
    "        texto_completo += pagina.extract_text() + \"\\n\"\n",
    "\n",
    "print(texto_completo[:1000])  # exibir os primeiros 1000 caracteres"
   ]
  },
  {
   "cell_type": "markdown",
   "id": "dc77512e",
   "metadata": {},
   "source": [
    "```\n",
    "\n",
    "pagina.width         # largura da página\n",
    "pagina.height        # altura da página\n",
    "pagina.chars         # lista com cada caractere, posição e fonte\n",
    "pagina.extract_text()   # texto da página\n",
    "pagina.extract_table()  # tabela, se houver\n",
    "\n",
    "```"
   ]
  },
  {
   "cell_type": "markdown",
   "id": "0933b4f9",
   "metadata": {},
   "source": [
    "#### Verificar se alguma palavra ocorre no documento"
   ]
  },
  {
   "cell_type": "code",
   "execution_count": 19,
   "id": "e0c4d0a6",
   "metadata": {},
   "outputs": [
    {
     "name": "stdout",
     "output_type": "stream",
     "text": [
      "True\n"
     ]
    }
   ],
   "source": [
    "# Verifica se a palavra 'conclusão' aparece no texto\n",
    "print(\"conclusão\" in texto_completo.lower())"
   ]
  },
  {
   "cell_type": "code",
   "execution_count": 18,
   "id": "05cd83b4",
   "metadata": {},
   "outputs": [
    {
     "name": "stdout",
     "output_type": "stream",
     "text": [
      "Encontrado na posição: 10987\n"
     ]
    }
   ],
   "source": [
    "# Encontra a posição onde 'conclusão' aparece\n",
    "indice = texto_completo.lower().find(\"conclusão\")\n",
    "print(f\"Encontrado na posição: {indice}\")"
   ]
  },
  {
   "cell_type": "code",
   "execution_count": 20,
   "id": "1c0ef233",
   "metadata": {},
   "outputs": [
    {
     "name": "stdout",
     "output_type": "stream",
     "text": [
      "Conclusão\n",
      "Etileno glicóis de baixo peso molecular, como o glycol\n",
      "e o dietilenoglicol apresentam um perfil de toxicidade aguda\n",
      "bem estabelecido em humanos, com um histórico de mortes\n",
      "associadas em decorrência de acidose metabólica e falha renal\n",
      "aguda, principalmente após exposição por via oral em casos de\n",
      "envenenamentos. Essas substâncias podem estar presentes em\n",
      "produtos cosméticos como contaminantes de ingredientes como\n",
      "a glicerina e polietileno glicóis que são amplamente utilizados\n",
      "em formulaç\n"
     ]
    }
   ],
   "source": [
    "# Mostra os 500 caracteres após a palavra encontrada\n",
    "print(texto_completo[indice:indice + 500])"
   ]
  },
  {
   "cell_type": "code",
   "execution_count": null,
   "id": "02ff41d8",
   "metadata": {},
   "outputs": [],
   "source": []
  }
 ],
 "metadata": {
  "kernelspec": {
   "display_name": "Python 3",
   "language": "python",
   "name": "python3"
  },
  "language_info": {
   "codemirror_mode": {
    "name": "ipython",
    "version": 3
   },
   "file_extension": ".py",
   "mimetype": "text/x-python",
   "name": "python",
   "nbconvert_exporter": "python",
   "pygments_lexer": "ipython3",
   "version": "3.11.9"
  }
 },
 "nbformat": 4,
 "nbformat_minor": 5
}
