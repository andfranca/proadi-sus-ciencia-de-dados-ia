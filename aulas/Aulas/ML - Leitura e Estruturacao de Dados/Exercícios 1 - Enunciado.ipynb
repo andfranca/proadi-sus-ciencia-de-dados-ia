{
 "cells": [
  {
   "cell_type": "markdown",
   "id": "a3f3a200",
   "metadata": {},
   "source": [
    "### **Problema 1 - Creatinas**\n",
    "\n",
    "Imagine que surgiu a necessidade de extrair o conteúdo de uma notícia sobre resultados de análise em suplementos publicada no portal da Anvisa para fins de documentação, análise ou arquivamento estruturado.\n",
    "\n",
    "Nosso objetivo é acessar a seguinte página diretamente pelo Python:\n",
    "\n",
    "https://www.gov.br/anvisa/pt-br/assuntos/noticias-anvisa/2025/creatinas-anvisa-divulga-resultados-de-analise-em-suplementos\n",
    "\n",
    "\n",
    "A partir dessa URL, vamos desenvolver um código que:\n",
    "- Acesse a página HTML e identifique apenas os parágrafos relevantes do conteúdo principal\n",
    "- Limpe o texto extraído, removendo espaços desnecessários ou parágrafos em branco\n",
    "- Armazene o conteúdo de duas formas:\n",
    "    - Como uma lista de parágrafos individuais\n",
    "    - Como um único texto corrido, separado por quebras de parágrafo\n",
    "- Extrair a tabela, se houver\n"
   ]
  },
  {
   "cell_type": "code",
   "execution_count": 1,
   "id": "eb640a3f",
   "metadata": {},
   "outputs": [],
   "source": [
    "import requests\n",
    "from bs4 import BeautifulSoup\n",
    "import pandas as pd"
   ]
  },
  {
   "cell_type": "markdown",
   "id": "617abce6",
   "metadata": {},
   "source": [
    "___"
   ]
  },
  {
   "cell_type": "markdown",
   "id": "3be1164b",
   "metadata": {},
   "source": [
    "### **Problema 2 - Antagonistas GLP-1**\n",
    "\n",
    "Você foi designado para estruturar o conteúdo de uma notícia publicada no portal da Anvisa, relacionada à regulamentação de medicamentos utilizados para emagrecimento.\n",
    "\n",
    "A notícia será utilizada em um relatório interno e precisa estar disponível em formato limpo e estruturado.\n",
    "\n",
    "Seu objetivo é acessar a seguinte página diretamente com Python:\n",
    "\n",
    "https://www.gov.br/anvisa/pt-br/assuntos/noticias-anvisa/2025/canetas-emagrecedoras-so-poderao-ser-vendidas-com-retencao-de-receita\n",
    "\n",
    "A partir dessa URL, vamos desenvolver um código que:\n",
    "- Acesse a página HTML e identifique apenas os parágrafos relevantes do conteúdo principal\n",
    "- Limpe o texto extraído, removendo espaços desnecessários ou parágrafos em branco\n",
    "- Armazene o conteúdo de duas formas:\n",
    "    - Como uma lista de parágrafos individuais\n",
    "    - Como um único texto corrido, separado por quebras de parágrafo\n",
    "- Extrair a tabela, se houver"
   ]
  },
  {
   "cell_type": "markdown",
   "id": "85256b26",
   "metadata": {},
   "source": [
    "___"
   ]
  },
  {
   "cell_type": "markdown",
   "id": "04490f4c",
   "metadata": {},
   "source": [
    "### **Problema 3 - Dados DOU**\n",
    "\n",
    "Você foi designado para automatizar a extração de publicações recentes do Diário Oficial da União (DOU). O objetivo é incorporar essas informações em sistemas internos de análise e acompanhamento de normativas governamentais.\n",
    "\n",
    "\n",
    "A partir da seguinte URL:\n",
    "\n",
    "https://www.in.gov.br/web/dou/-/portaria-gm/ms-n-6.882-de-22-de-abril-de-2025-627636172 \n",
    "\n",
    "Desenvolva um código em Python que:\n",
    "- Acesse o conteúdo da página de leitura do DOU usando requests\n",
    "- Identifique e extraia os títulos das publicações exibidas no dia atual\n",
    "- Extraia, se possível, os resumos ou trechos principais associados a cada título\n",
    "- Armazene essas informações de forma estruturada, como uma lista de dicionários contendo:\n",
    "    - `\"titulo\"`\n",
    "    - `\"resumo\"`\n"
   ]
  }
 ],
 "metadata": {
  "kernelspec": {
   "display_name": "base",
   "language": "python",
   "name": "python3"
  },
  "language_info": {
   "codemirror_mode": {
    "name": "ipython",
    "version": 3
   },
   "file_extension": ".py",
   "mimetype": "text/x-python",
   "name": "python",
   "nbconvert_exporter": "python",
   "pygments_lexer": "ipython3",
   "version": "3.12.7"
  }
 },
 "nbformat": 4,
 "nbformat_minor": 5
}
