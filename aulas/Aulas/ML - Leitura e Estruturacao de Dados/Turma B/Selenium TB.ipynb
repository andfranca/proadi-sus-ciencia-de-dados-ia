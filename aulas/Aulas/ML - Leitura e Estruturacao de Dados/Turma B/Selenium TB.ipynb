{
 "cells": [
  {
   "cell_type": "code",
   "execution_count": 1,
   "id": "64dbb826",
   "metadata": {},
   "outputs": [],
   "source": [
    "#!pip install selenium\n",
    "#!pip install webdriver-manager"
   ]
  },
  {
   "cell_type": "code",
   "execution_count": null,
   "id": "0e2ed1f4",
   "metadata": {},
   "outputs": [
    {
     "name": "stdout",
     "output_type": "stream",
     "text": [
      "Rede Nacional de Dados em Saúde — Ministério da Saúde\n"
     ]
    }
   ],
   "source": [
    "import time\n",
    "\n",
    "# Carregar o ChromeDriver e bibliotecas do Selenium\n",
    "from selenium import webdriver\n",
    "from selenium.webdriver.chrome.service import Service\n",
    "from webdriver_manager.chrome import ChromeDriverManager\n",
    "\n",
    "# Baixar e configurar automaticamente o ChromeDriver compatível\n",
    "service = Service(ChromeDriverManager().install())\n",
    "driver = webdriver.Chrome(service=service)\n",
    "\n",
    "# Acessa um site qualquer\n",
    "driver.get(\"https://www.gov.br/saude/pt-br/composicao/seidigi/rnds\")\n",
    "\n",
    "# Imprime o título da página\n",
    "print(driver.title)\n",
    "\n",
    "time.sleep(10)\n",
    "\n",
    "# Fecha o navegador\n",
    "driver.quit()"
   ]
  },
  {
   "cell_type": "code",
   "execution_count": null,
   "id": "310939c8",
   "metadata": {},
   "outputs": [],
   "source": [
    "pip in"
   ]
  }
 ],
 "metadata": {
  "kernelspec": {
   "display_name": "Python 3",
   "language": "python",
   "name": "python3"
  },
  "language_info": {
   "codemirror_mode": {
    "name": "ipython",
    "version": 3
   },
   "file_extension": ".py",
   "mimetype": "text/x-python",
   "name": "python",
   "nbconvert_exporter": "python",
   "pygments_lexer": "ipython3",
   "version": "3.12.10"
  }
 },
 "nbformat": 4,
 "nbformat_minor": 5
}
