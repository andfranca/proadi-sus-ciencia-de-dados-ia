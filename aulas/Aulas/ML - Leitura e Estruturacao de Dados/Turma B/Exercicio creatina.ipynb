{
 "cells": [
  {
   "cell_type": "code",
   "execution_count": null,
   "id": "641273f1",
   "metadata": {},
   "outputs": [],
   "source": [
    "# Carregar as bibliotecas necessárias\n",
    "from bs4 import BeautifulSoup\n",
    "import requests\n",
    "import pandas as pd\n",
    "import re"
   ]
  },
  {
   "cell_type": "code",
   "execution_count": 57,
   "id": "628319bc",
   "metadata": {},
   "outputs": [],
   "source": [
    "# Acessar a página da Anvisa\n",
    "url = 'https://www.gov.br/anvisa/pt-br/assuntos/noticias-anvisa/2025/canetas-emagrecedoras-so-poderao-ser-vendidas-com-retencao-de-receita'\n",
    "\n",
    "resposta = requests.get(url) # Requisição"
   ]
  },
  {
   "cell_type": "code",
   "execution_count": 60,
   "id": "e24f016f",
   "metadata": {},
   "outputs": [],
   "source": [
    "# Estrurar o conteúdo da página\n",
    "if resposta.status_code == 200:\n",
    "    soup = BeautifulSoup(resposta.text, 'html.parser')\n",
    "    conteudo = soup.find_all('p')\n",
    "else:\n",
    "    print(f\"Erro ao acessar a página: {resposta.status_code}\")\n",
    "    conteudo = []"
   ]
  },
  {
   "cell_type": "code",
   "execution_count": 61,
   "id": "a395c452",
   "metadata": {},
   "outputs": [],
   "source": [
    "titulo = soup.find('h1', class_='documentFirstHeading').get_text(strip=True)\n",
    "ementa = soup.find('div', class_='documentDescription').get_text(strip=True)\n",
    "publicacao = soup.find('span', class_='value').get_text(strip=True)\n",
    "publicacao = re.findall(r'\\d{2}/\\d{2}/\\d{4}', publicacao)#pre processamento da data\n",
    "links = soup.find_all('a', href=True)"
   ]
  },
  {
   "cell_type": "code",
   "execution_count": 62,
   "id": "563bdc48",
   "metadata": {},
   "outputs": [
    {
     "name": "stdout",
     "output_type": "stream",
     "text": [
      "Tabela encontrada!\n",
      "                   Nome Comercial/                   Princípio ativo  \\\n",
      "0     Soliqua® (solução injetável)  insulina glargina + lixisenatida   \n",
      "1     Victoza® (solução injetável)                       liraglutida   \n",
      "2   Trulicity® (solução injetável)                       dulaglutida   \n",
      "3     Saxenda® (solução injetável)                       liraglutida   \n",
      "4    Xultophy® (solução injetável)  insulina degludeca + liraglutida   \n",
      "5     Ozempic® (solução injetável)                       semaglutida   \n",
      "6          Rybelsus® (comprimidos)                       semaglutida   \n",
      "7      Wegovy® (solução injetável)                       semaglutida   \n",
      "8    Mounjaro® (solução injetável)                       tirzepatida   \n",
      "9   Povitztra® (solução injetável)                       semaglutida   \n",
      "10  Extensior® (solução injetável)                       semaglutida   \n",
      "11       Lirux (solução injetável)                       liraglutida   \n",
      "12       Olire (solução injetável)                       liraglutida   \n",
      "\n",
      "                   Indicação Data do registro Empresa detentora  \n",
      "0   Diabetes mellitus tipo 2       16/09/2002     Sanofi Medley  \n",
      "1   Diabetes mellitus tipo 2       29/03/2010      Novo Nordisk  \n",
      "2   Diabetes mellitus tipo 2       31/08/2015         Eli Lilly  \n",
      "3        Obesidade/sobrepeso       29/02/2016      Novo Nordisk  \n",
      "4   Diabetes mellitus tipo 2       03/04/2017      Novo Nordisk  \n",
      "5   Diabetes mellitus tipo 2       06/08/2018      Novo Nordisk  \n",
      "6   Diabetes mellitus tipo 2       26/10/2020      Novo Nordisk  \n",
      "7        Obesidade/sobrepeso       02/01/2023      Novo Nordisk  \n",
      "8   Diabetes mellitus tipo 2       25/09/2023         Eli Lilly  \n",
      "9        Obesidade/sobrepeso       12/08/2024      Novo Nordisk  \n",
      "10  Diabetes mellitus tipo 2       14/10/2024      Novo Nordisk  \n",
      "11  Diabetes mellitus tipo 2       24/12/2024               EMS  \n",
      "12       Obesidade/sobrepeso       24/12/2024               EMS  \n"
     ]
    }
   ],
   "source": [
    "# extrair t\n",
    "tabela = soup.find('table')\n",
    "if tabela:\n",
    "    print(\"Tabela encontrada!\")\n",
    "    linhas = tabela.find_all('tr')\n",
    "    dados = [\n",
    "        [celula.get_text(strip=True) for celula in linha.find_all(['td', 'th'])] \n",
    "        for linha in linhas\n",
    "    ]\n",
    "    tabela = pd.DataFrame(dados[1:], columns=dados[0])\n",
    "    print(tabela)\n",
    "else:\n",
    "    print(\"Tabela não encontrada.\")"
   ]
  },
  {
   "cell_type": "code",
   "execution_count": 63,
   "id": "30d32c4f",
   "metadata": {},
   "outputs": [],
   "source": [
    "#Salvar os dados em um dicionário\n",
    "base = {\n",
    "    'titulo': titulo,\n",
    "    'ementa': ementa,\n",
    "    'publicacao': publicacao,\n",
    "    #'links': links,\n",
    "    #'tabela': tabela\n",
    "}\n",
    "\n",
    "#trasformar em data frame\n",
    "df = pd.DataFrame(base, index=[0])"
   ]
  },
  {
   "cell_type": "code",
   "execution_count": 64,
   "id": "f54f8e7d",
   "metadata": {},
   "outputs": [
    {
     "data": {
      "application/vnd.microsoft.datawrangler.viewer.v0+json": {
       "columns": [
        {
         "name": "index",
         "rawType": "int64",
         "type": "integer"
        },
        {
         "name": "Nome Comercial/",
         "rawType": "object",
         "type": "string"
        },
        {
         "name": "Princípio ativo",
         "rawType": "object",
         "type": "string"
        },
        {
         "name": "Indicação",
         "rawType": "object",
         "type": "string"
        },
        {
         "name": "Data do registro",
         "rawType": "object",
         "type": "string"
        },
        {
         "name": "Empresa detentora",
         "rawType": "object",
         "type": "string"
        }
       ],
       "conversionMethod": "pd.DataFrame",
       "ref": "f11ed961-12c5-4d8e-9473-c24d79dac1d4",
       "rows": [
        [
         "0",
         "Soliqua® (solução injetável)",
         "insulina glargina + lixisenatida",
         "Diabetes mellitus tipo 2",
         "16/09/2002",
         "Sanofi Medley"
        ],
        [
         "1",
         "Victoza® (solução injetável)",
         "liraglutida",
         "Diabetes mellitus tipo 2",
         "29/03/2010",
         "Novo Nordisk"
        ],
        [
         "2",
         "Trulicity® (solução injetável)",
         "dulaglutida",
         "Diabetes mellitus tipo 2",
         "31/08/2015",
         "Eli Lilly"
        ],
        [
         "3",
         "Saxenda® (solução injetável)",
         "liraglutida",
         "Obesidade/sobrepeso",
         "29/02/2016",
         "Novo Nordisk"
        ],
        [
         "4",
         "Xultophy® (solução injetável)",
         "insulina degludeca + liraglutida",
         "Diabetes mellitus tipo 2",
         "03/04/2017",
         "Novo Nordisk"
        ],
        [
         "5",
         "Ozempic® (solução injetável)",
         "semaglutida",
         "Diabetes mellitus tipo 2",
         "06/08/2018",
         "Novo Nordisk"
        ],
        [
         "6",
         "Rybelsus® (comprimidos)",
         "semaglutida",
         "Diabetes mellitus tipo 2",
         "26/10/2020",
         "Novo Nordisk"
        ],
        [
         "7",
         "Wegovy® (solução injetável)",
         "semaglutida",
         "Obesidade/sobrepeso",
         "02/01/2023",
         "Novo Nordisk"
        ],
        [
         "8",
         "Mounjaro® (solução injetável)",
         "tirzepatida",
         "Diabetes mellitus tipo 2",
         "25/09/2023",
         "Eli Lilly"
        ],
        [
         "9",
         "Povitztra® (solução injetável)",
         "semaglutida",
         "Obesidade/sobrepeso",
         "12/08/2024",
         "Novo Nordisk"
        ],
        [
         "10",
         "Extensior® (solução injetável)",
         "semaglutida",
         "Diabetes mellitus tipo 2",
         "14/10/2024",
         "Novo Nordisk"
        ],
        [
         "11",
         "Lirux (solução injetável)",
         "liraglutida",
         "Diabetes mellitus tipo 2",
         "24/12/2024",
         "EMS"
        ],
        [
         "12",
         "Olire (solução injetável)",
         "liraglutida",
         "Obesidade/sobrepeso",
         "24/12/2024",
         "EMS"
        ]
       ],
       "shape": {
        "columns": 5,
        "rows": 13
       }
      },
      "text/html": [
       "<div>\n",
       "<style scoped>\n",
       "    .dataframe tbody tr th:only-of-type {\n",
       "        vertical-align: middle;\n",
       "    }\n",
       "\n",
       "    .dataframe tbody tr th {\n",
       "        vertical-align: top;\n",
       "    }\n",
       "\n",
       "    .dataframe thead th {\n",
       "        text-align: right;\n",
       "    }\n",
       "</style>\n",
       "<table border=\"1\" class=\"dataframe\">\n",
       "  <thead>\n",
       "    <tr style=\"text-align: right;\">\n",
       "      <th></th>\n",
       "      <th>Nome Comercial/</th>\n",
       "      <th>Princípio ativo</th>\n",
       "      <th>Indicação</th>\n",
       "      <th>Data do registro</th>\n",
       "      <th>Empresa detentora</th>\n",
       "    </tr>\n",
       "  </thead>\n",
       "  <tbody>\n",
       "    <tr>\n",
       "      <th>0</th>\n",
       "      <td>Soliqua® (solução injetável)</td>\n",
       "      <td>insulina glargina + lixisenatida</td>\n",
       "      <td>Diabetes mellitus tipo 2</td>\n",
       "      <td>16/09/2002</td>\n",
       "      <td>Sanofi Medley</td>\n",
       "    </tr>\n",
       "    <tr>\n",
       "      <th>1</th>\n",
       "      <td>Victoza® (solução injetável)</td>\n",
       "      <td>liraglutida</td>\n",
       "      <td>Diabetes mellitus tipo 2</td>\n",
       "      <td>29/03/2010</td>\n",
       "      <td>Novo Nordisk</td>\n",
       "    </tr>\n",
       "    <tr>\n",
       "      <th>2</th>\n",
       "      <td>Trulicity® (solução injetável)</td>\n",
       "      <td>dulaglutida</td>\n",
       "      <td>Diabetes mellitus tipo 2</td>\n",
       "      <td>31/08/2015</td>\n",
       "      <td>Eli Lilly</td>\n",
       "    </tr>\n",
       "    <tr>\n",
       "      <th>3</th>\n",
       "      <td>Saxenda® (solução injetável)</td>\n",
       "      <td>liraglutida</td>\n",
       "      <td>Obesidade/sobrepeso</td>\n",
       "      <td>29/02/2016</td>\n",
       "      <td>Novo Nordisk</td>\n",
       "    </tr>\n",
       "    <tr>\n",
       "      <th>4</th>\n",
       "      <td>Xultophy® (solução injetável)</td>\n",
       "      <td>insulina degludeca + liraglutida</td>\n",
       "      <td>Diabetes mellitus tipo 2</td>\n",
       "      <td>03/04/2017</td>\n",
       "      <td>Novo Nordisk</td>\n",
       "    </tr>\n",
       "    <tr>\n",
       "      <th>5</th>\n",
       "      <td>Ozempic® (solução injetável)</td>\n",
       "      <td>semaglutida</td>\n",
       "      <td>Diabetes mellitus tipo 2</td>\n",
       "      <td>06/08/2018</td>\n",
       "      <td>Novo Nordisk</td>\n",
       "    </tr>\n",
       "    <tr>\n",
       "      <th>6</th>\n",
       "      <td>Rybelsus® (comprimidos)</td>\n",
       "      <td>semaglutida</td>\n",
       "      <td>Diabetes mellitus tipo 2</td>\n",
       "      <td>26/10/2020</td>\n",
       "      <td>Novo Nordisk</td>\n",
       "    </tr>\n",
       "    <tr>\n",
       "      <th>7</th>\n",
       "      <td>Wegovy® (solução injetável)</td>\n",
       "      <td>semaglutida</td>\n",
       "      <td>Obesidade/sobrepeso</td>\n",
       "      <td>02/01/2023</td>\n",
       "      <td>Novo Nordisk</td>\n",
       "    </tr>\n",
       "    <tr>\n",
       "      <th>8</th>\n",
       "      <td>Mounjaro® (solução injetável)</td>\n",
       "      <td>tirzepatida</td>\n",
       "      <td>Diabetes mellitus tipo 2</td>\n",
       "      <td>25/09/2023</td>\n",
       "      <td>Eli Lilly</td>\n",
       "    </tr>\n",
       "    <tr>\n",
       "      <th>9</th>\n",
       "      <td>Povitztra® (solução injetável)</td>\n",
       "      <td>semaglutida</td>\n",
       "      <td>Obesidade/sobrepeso</td>\n",
       "      <td>12/08/2024</td>\n",
       "      <td>Novo Nordisk</td>\n",
       "    </tr>\n",
       "    <tr>\n",
       "      <th>10</th>\n",
       "      <td>Extensior® (solução injetável)</td>\n",
       "      <td>semaglutida</td>\n",
       "      <td>Diabetes mellitus tipo 2</td>\n",
       "      <td>14/10/2024</td>\n",
       "      <td>Novo Nordisk</td>\n",
       "    </tr>\n",
       "    <tr>\n",
       "      <th>11</th>\n",
       "      <td>Lirux (solução injetável)</td>\n",
       "      <td>liraglutida</td>\n",
       "      <td>Diabetes mellitus tipo 2</td>\n",
       "      <td>24/12/2024</td>\n",
       "      <td>EMS</td>\n",
       "    </tr>\n",
       "    <tr>\n",
       "      <th>12</th>\n",
       "      <td>Olire (solução injetável)</td>\n",
       "      <td>liraglutida</td>\n",
       "      <td>Obesidade/sobrepeso</td>\n",
       "      <td>24/12/2024</td>\n",
       "      <td>EMS</td>\n",
       "    </tr>\n",
       "  </tbody>\n",
       "</table>\n",
       "</div>"
      ],
      "text/plain": [
       "                   Nome Comercial/                   Princípio ativo  \\\n",
       "0     Soliqua® (solução injetável)  insulina glargina + lixisenatida   \n",
       "1     Victoza® (solução injetável)                       liraglutida   \n",
       "2   Trulicity® (solução injetável)                       dulaglutida   \n",
       "3     Saxenda® (solução injetável)                       liraglutida   \n",
       "4    Xultophy® (solução injetável)  insulina degludeca + liraglutida   \n",
       "5     Ozempic® (solução injetável)                       semaglutida   \n",
       "6          Rybelsus® (comprimidos)                       semaglutida   \n",
       "7      Wegovy® (solução injetável)                       semaglutida   \n",
       "8    Mounjaro® (solução injetável)                       tirzepatida   \n",
       "9   Povitztra® (solução injetável)                       semaglutida   \n",
       "10  Extensior® (solução injetável)                       semaglutida   \n",
       "11       Lirux (solução injetável)                       liraglutida   \n",
       "12       Olire (solução injetável)                       liraglutida   \n",
       "\n",
       "                   Indicação Data do registro Empresa detentora  \n",
       "0   Diabetes mellitus tipo 2       16/09/2002     Sanofi Medley  \n",
       "1   Diabetes mellitus tipo 2       29/03/2010      Novo Nordisk  \n",
       "2   Diabetes mellitus tipo 2       31/08/2015         Eli Lilly  \n",
       "3        Obesidade/sobrepeso       29/02/2016      Novo Nordisk  \n",
       "4   Diabetes mellitus tipo 2       03/04/2017      Novo Nordisk  \n",
       "5   Diabetes mellitus tipo 2       06/08/2018      Novo Nordisk  \n",
       "6   Diabetes mellitus tipo 2       26/10/2020      Novo Nordisk  \n",
       "7        Obesidade/sobrepeso       02/01/2023      Novo Nordisk  \n",
       "8   Diabetes mellitus tipo 2       25/09/2023         Eli Lilly  \n",
       "9        Obesidade/sobrepeso       12/08/2024      Novo Nordisk  \n",
       "10  Diabetes mellitus tipo 2       14/10/2024      Novo Nordisk  \n",
       "11  Diabetes mellitus tipo 2       24/12/2024               EMS  \n",
       "12       Obesidade/sobrepeso       24/12/2024               EMS  "
      ]
     },
     "execution_count": 64,
     "metadata": {},
     "output_type": "execute_result"
    }
   ],
   "source": [
    "tabela"
   ]
  },
  {
   "cell_type": "code",
   "execution_count": 54,
   "id": "321cc65f",
   "metadata": {},
   "outputs": [
    {
     "data": {
      "application/vnd.microsoft.datawrangler.viewer.v0+json": {
       "columns": [
        {
         "name": "index",
         "rawType": "int64",
         "type": "integer"
        },
        {
         "name": "titulo",
         "rawType": "object",
         "type": "string"
        },
        {
         "name": "ementa",
         "rawType": "object",
         "type": "string"
        },
        {
         "name": "publicacao",
         "rawType": "object",
         "type": "string"
        }
       ],
       "conversionMethod": "pd.DataFrame",
       "ref": "ffbbbe6b-5cd7-4ac2-8d11-35a8b341c75f",
       "rows": [
        [
         "0",
         "Medicamentos agonistas GLP-1 só poderão ser vendidos com retenção da receita",
         "Ozempic, Mounjaro e Wegovy, estão na lista de produtos afetados. Entenda a medida.",
         "16/04/2025"
        ]
       ],
       "shape": {
        "columns": 3,
        "rows": 1
       }
      },
      "text/html": [
       "<div>\n",
       "<style scoped>\n",
       "    .dataframe tbody tr th:only-of-type {\n",
       "        vertical-align: middle;\n",
       "    }\n",
       "\n",
       "    .dataframe tbody tr th {\n",
       "        vertical-align: top;\n",
       "    }\n",
       "\n",
       "    .dataframe thead th {\n",
       "        text-align: right;\n",
       "    }\n",
       "</style>\n",
       "<table border=\"1\" class=\"dataframe\">\n",
       "  <thead>\n",
       "    <tr style=\"text-align: right;\">\n",
       "      <th></th>\n",
       "      <th>titulo</th>\n",
       "      <th>ementa</th>\n",
       "      <th>publicacao</th>\n",
       "    </tr>\n",
       "  </thead>\n",
       "  <tbody>\n",
       "    <tr>\n",
       "      <th>0</th>\n",
       "      <td>Medicamentos agonistas GLP-1 só poderão ser ve...</td>\n",
       "      <td>Ozempic, Mounjaro e Wegovy, estão na lista de ...</td>\n",
       "      <td>16/04/2025</td>\n",
       "    </tr>\n",
       "  </tbody>\n",
       "</table>\n",
       "</div>"
      ],
      "text/plain": [
       "                                              titulo  \\\n",
       "0  Medicamentos agonistas GLP-1 só poderão ser ve...   \n",
       "\n",
       "                                              ementa  publicacao  \n",
       "0  Ozempic, Mounjaro e Wegovy, estão na lista de ...  16/04/2025  "
      ]
     },
     "execution_count": 54,
     "metadata": {},
     "output_type": "execute_result"
    }
   ],
   "source": [
    "df"
   ]
  },
  {
   "cell_type": "code",
   "execution_count": null,
   "id": "8610b76d",
   "metadata": {},
   "outputs": [],
   "source": []
  }
 ],
 "metadata": {
  "kernelspec": {
   "display_name": "Python 3",
   "language": "python",
   "name": "python3"
  },
  "language_info": {
   "codemirror_mode": {
    "name": "ipython",
    "version": 3
   },
   "file_extension": ".py",
   "mimetype": "text/x-python",
   "name": "python",
   "nbconvert_exporter": "python",
   "pygments_lexer": "ipython3",
   "version": "3.12.10"
  }
 },
 "nbformat": 4,
 "nbformat_minor": 5
}
