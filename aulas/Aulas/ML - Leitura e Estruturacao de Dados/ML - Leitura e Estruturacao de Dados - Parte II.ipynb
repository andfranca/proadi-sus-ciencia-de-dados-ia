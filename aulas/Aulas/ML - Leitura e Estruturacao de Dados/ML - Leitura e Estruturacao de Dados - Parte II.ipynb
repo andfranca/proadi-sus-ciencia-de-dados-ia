{
 "cells": [
  {
   "cell_type": "markdown",
   "id": "e34c02d9",
   "metadata": {},
   "source": [
    "# **ML - Introdução à Leitura e Estruturação de Dados**\n",
    "**Autor:** [Anderson França](https://www.linkedin.com/in/anderson-m-franca/) | **Contato:** [github.com/andfranca](https://github.com/andfranca/estatistica-e-aprendizado-de-maquinas-ptbr)\n",
    "\n",
    "<a href=\"https://creativecommons.org/licenses/by/4.0/deed.en\"><img align=\"left\" width=\"80\" src=\"https://mirrors.creativecommons.org/presskit/buttons/88x31/png/by-nc.png\"/></a>\n"
   ]
  },
  {
   "cell_type": "markdown",
   "id": "d610bc60",
   "metadata": {},
   "source": [
    "___"
   ]
  },
  {
   "cell_type": "markdown",
   "id": "50babc3d",
   "metadata": {},
   "source": [
    "### **HTML (HyperText Markup Language)**\n",
    "\n",
    "É o que está por trás das páginas da internet, portais e sistemas online. Os textos são divididos por blocos e marcadores, o que ajuda na navegação, mas pode virar um desafio quando o conteúdo está espalhado ou misturado com elementos visuais.\n",
    "\n",
    "#### **Características:**\n",
    "- Estrutura marcada por tags (div, p, table)\n",
    "- Conteúdo pode vir fragmentado por blocos\n",
    "- Pode conter scripts e elementos interativos\n",
    "- Facilidade em navegar com BeautifulSoup, mas requer filtragem\n",
    "\n",
    "#### **Pontos de Atenção:**\n",
    "- Pode conter ruído: menus, botões, scripts\n",
    "- Texto pode vir fragmentado em várias tags\n",
    "- Requer filtros para isolar o conteúdo principal\n",
    "- Conteúdo pode estar em múltiplas páginas\n",
    "\n",
    "___"
   ]
  },
  {
   "cell_type": "markdown",
   "id": "c8caa250",
   "metadata": {},
   "source": [
    "## **Leitura de HTML (Simples)**\n",
    "\n",
    "Muitos documentos públicos, como pareceres técnicos, relatórios ou atas, são publicados diretamente em portais governamentais ou sistemas internos via HTML. Isso nos permite acessar o conteúdo de forma mais leve, mas exige filtragem.\n",
    "\n",
    "Por que começamos com HTML?\n",
    "- É acessível: basta uma URL ou o código da página\n",
    "- Tem estrutura marcada: com tags como `<p>`, `<div>`, `<table>`, etc.\n",
    "- Requer limpeza: menus, scripts e rodapés poluem o conteúdo\n",
    "- É ótimo para treinar leitura semântica de blocos"
   ]
  },
  {
   "cell_type": "markdown",
   "id": "5a8c178b",
   "metadata": {},
   "source": [
    "### **Estrutura Básica de uma página**\n",
    "\n",
    "Toda página web começa com a estrutura ao lado. Os elementos principais são:\n",
    "- `<head>`: informações sobre a página (título, configurações, css, javascript)\n",
    "- `<body>`: onde fica o conteúdo visível e que geralmente estão os dados que queremos (títulos, parágrafos, links, imagens)\n",
    "Essa estrutura organiza a página em blocos que podem ser acessados pelas nossas ferramentas de scraping. \n",
    "\n",
    "```html \n",
    "\n",
    "<!DOCTYPE html>\n",
    "<html>\n",
    "  <head>\n",
    "    <title>Minha Página</title>\n",
    "  </head>\n",
    "  <body>\n",
    "    <h1>Título</h1>\n",
    "    <p>Um parágrafo.</p>\n",
    "    <a href=\"https://site.com\">Link</a>\n",
    "  </body>\n",
    "</html>\n",
    "\n",
    "```\n"
   ]
  },
  {
   "cell_type": "markdown",
   "id": "7a8d7faa",
   "metadata": {},
   "source": [
    "### **Principais elementos usados em scraping**\n",
    "\n",
    "As páginas web são construídas com HTML, uma linguagem que organiza o conteúdo por meio de `tags`.\n",
    "\n",
    "As `tags` funcionam como “etiquetas” que indicam o tipo de informação que está sendo exibida, como texto, imagem, link ou tabela.  Elas sempre aparecem entre sinais de menor e maior, como <p> ou <div>, e quase sempre têm uma abertura e um fechamento:\n",
    "Por exemplo: \n",
    "```html\n",
    "<p>Este é um parágrafo</p>\n",
    "```\n",
    "\n",
    "As tags mais comuns em tarefas de web scraping são:\n",
    "\n",
    "| Tag            | Função              | Descrição                                                                 |\n",
    "|----------------|---------------------|---------------------------------------------------------------------------|\n",
    "| `<p>`          | Parágrafo           | Define um bloco de texto corrido, como em textos e descrições.           |\n",
    "| `<a>`          | Link                | Cria um link clicável. O endereço está no atributo `href`.               |\n",
    "| `<div>`        | Bloco de conteúdo   | Agrupa elementos em blocos. Muito usado para organizar o layout.         |\n",
    "| `<h1>, <h2>…`  | Título e subtítulo  | Representam títulos hierárquicos. `<h1>` é o mais importante.            |\n",
    "| `<img>`        | Imagem              | Insere uma imagem na página. A fonte do arquivo está no atributo `src`.  |\n",
    "| `<table>`      | Tabela              | Organiza dados em linhas e colunas. Ideal para informações tabulares.    |"
   ]
  },
  {
   "cell_type": "markdown",
   "id": "d7f96a2d",
   "metadata": {},
   "source": [
    "### **Tags Estruturais**\n",
    "\n",
    "Nem todo elemento HTML representa texto ou imagem. Algumas tags servem para organizar e agrupar conteúdo. Portanto, quando buscamos uma tag como `<p>`, `<span>` e demais tags, elas vão estar dentro de outros blocos. Essas estruturas ajudam a organizar o layout da página e são muito importantes para tarefas de scraping. As principais são:\n",
    "\n",
    "\n",
    "\n",
    "| Tag         | Função              | Descrição                                                                                               |\n",
    "|-------------|---------------------|----------------------------------------------------------------------------------------------------------|\n",
    "| `<div>`     | Bloco de Conteúdo   | Agrupa elementos em seções. Muito usada para estruturar o layout de páginas.                           |\n",
    "| `<span>`    | Destaque em Linha   | Agrupa trechos curtos de texto, sem quebrar a linha. Útil para aplicar estilo ou identificar partes.   |\n",
    "| `<section>` | Seção temática      | Agrupa conteúdo relacionado. Tem significado semântico (ex: uma sessão de artigos).                     |\n",
    "| `<article>` | Conteúdo Independente | Representa um conteúdo completo e autônomo, como uma notícia ou post.                                 |\n",
    "| `<header>`  | Cabeçalho           | Define a parte superior de uma seção ou página (título, menu, logo...). Geralmente igual em todo o site.|\n",
    "| `<footer>`  | Rodapé              | Define a parte inferior de uma seção ou página (dados de contato, links úteis).                         |\n"
   ]
  },
  {
   "cell_type": "markdown",
   "id": "4f79ef9a",
   "metadata": {},
   "source": [
    "### **Atributos HTML**\n",
    "\n",
    "As tags HTML podem conter atributos, que trazem informações adicionais sobre o conteúdo.\n",
    "\n",
    "Um atributo aparece dentro da tag de abertura.\n",
    "Ele sempre segue o formato: nome=\"valor\"\n",
    "Os atributos ajudam a identificar, descrever ou configurar os elementos da página.\n",
    "\n",
    "**Exemplo:** \n",
    "\n",
    "```html\n",
    "<a href=\"https://site.com\" class=\"botao\">Clique aqui</a>\n",
    "```\n",
    "\n",
    "Neste caso:\n",
    "- `href`: define o destino do link\n",
    "- `class`: agrupa o elemento em uma categoria para aplicar estilo ou localizar no scraping\n",
    "\n",
    "\n",
    "| Atributo | Descrição                                                                 |\n",
    "|----------|---------------------------------------------------------------------------|\n",
    "| `href`   | Caminho de um link (usado na tag `<a>`)                                   |\n",
    "| `src`    | Caminho de uma imagem (usado na tag `<img>`)                              |\n",
    "| `alt`    | Texto alternativo da imagem                                               |\n",
    "| `class`  | Agrupamento de elementos com a mesma função visual/estrutural             |\n",
    "| `id`     | Identificador único na página                                             |\n",
    "| `name`   | Usado em formulários ou campos de entrada                                 |\n"
   ]
  },
  {
   "cell_type": "markdown",
   "id": "e46f52dd",
   "metadata": {},
   "source": [
    "### Exemplo: HTML com Atributos\n",
    "```html\n",
    "<!DOCTYPE html>\n",
    "<html>\n",
    "  <head>\n",
    "    <title>Exemplo de Página</title>\n",
    "  </head>\n",
    "  <body>\n",
    "    <!-- Título principal da página -->\n",
    "    <h1 id=\"titulo-principal\">Bem-vindo ao site da Anvisa</h1>\n",
    "\n",
    "    <!-- Parágrafo com uma classe -->\n",
    "    <p class=\"descricao\">Aqui você encontra informações atualizadas sobre saúde pública.</p>\n",
    "\n",
    "    <!-- Link com atributos -->\n",
    "    <a href=\"https://www.gov.br/anvisa\" class=\"botao-link\">Acesse o site oficial</a>\n",
    "\n",
    "    <!-- Imagem com caminho e texto alternativo -->\n",
    "    <img src=\"logo-anvisa.png\" alt=\"Logotipo da Anvisa\" width=\"200\">\n",
    "\n",
    "    <!-- Tabela com dados fictícios -->\n",
    "    <table class=\"dados\">\n",
    "      <tr>\n",
    "        <th>Data</th>\n",
    "        <th>Assunto</th>\n",
    "      </tr>\n",
    "      <tr>\n",
    "        <td>2025-05-06</td>\n",
    "        <td>Nova regulamentação de medicamentos</td>\n",
    "      </tr>\n",
    "    </table>\n",
    "  </body>\n",
    "</html>\n",
    "```\n",
    "\n",
    "\n",
    "- `id=\"titulo-principal\"` - identifica de forma única o título na página\n",
    "- `class=\"descricao\"` e `class=\"botao-link\"` - agrupam elementos para estilização ou seleção via scraping\n",
    "- `href=\"...\"` - define o destino do link\n",
    "- `src=\"...\"` e `alt=\"...\"` - definem a imagem e o texto alternativo\n"
   ]
  },
  {
   "cell_type": "markdown",
   "id": "354fc59d",
   "metadata": {},
   "source": [
    "### **Hierarquia HTML**\n",
    "\n",
    "Essa é uma estrutura simples de um código com atributos e hierarquia.\n",
    "\n",
    "```html\n",
    "<body>\n",
    "    <header>\n",
    "      <h1>Logotipo da Anvisa</h1>\n",
    "      <nav>\n",
    "        <a href=\"/noticias\">Notícias</a>\n",
    "        <a href=\"/contato\">Contato</a>\n",
    "      </nav>\n",
    "    </header>\n",
    " \n",
    "    <main>\n",
    "      <section class=\"lista-noticias\">\n",
    "        <article class=\"noticia\">\n",
    "          <h2 class=\"titulo-noticia\">Anvisa publica nova regulamentação</h2>\n",
    "          <p class=\"data\">Publicado em: 06/05/2025</p>\n",
    "          <div class=\"conteudo\">\n",
    "            <p>A nova norma trata da venda de canetas emagrecedoras...</p>\n",
    "            <a href=\"/noticia-completa\">Leia mais</a>\n",
    "          </div>\n",
    "        </article>\n",
    "      </section>\n",
    "    </main>\n",
    " \n",
    "    <footer>\n",
    "      <p>Agência Nacional de Vigilância Sanitária</p>\n",
    "    </footer>\n",
    "  </body>\n",
    "```\n",
    "\n",
    "\n",
    "#### **Explicação da hierarquia:**\n",
    "- `<body>` contém todo o conteúdo visível.\n",
    "  - Dentro dele, temos três grandes blocos:\n",
    "    - `<header>` com o menu e logotipo\n",
    "    - `<main>` com a seção principal de notícias\n",
    "    - `<footer>` com informações finais\n",
    "- As notícias estão dentro de `<article>` (bloco semântico), agrupadas por uma `<section>`.\n",
    "  - Dentro do artigo:\n",
    "    - Título (`<h2>`)\n",
    "    - Data (`<p>`)\n",
    "    - Texto da notícia em uma `<div>`\n",
    "    - Link para mais conteúdo (`<a>`)\n"
   ]
  },
  {
   "cell_type": "markdown",
   "id": "905af2b7",
   "metadata": {},
   "source": [
    "### **Beautifulsoup**\n",
    "\n",
    "O BeautifulSoup é uma biblioteca Python usada para extrair e navegar em dados de páginas HTML e XML. Ele é leve, simples e extremamente útil para acessar e organizar informações que estão estruturadas na web.\n",
    "\n",
    "\n",
    "<img src=\"https://app.matatika.com/assets/images/datasource/tap-beautifulsoup.png\" width=\"200\">\n",
    "\n",
    "\n",
    "\n",
    "É uma biblioteca muito útil, pois: \n",
    "- Permite ler o conteúdo de qualquer página HTML estática\n",
    "- Acessa facilmente tags como `<p>`, `<div>`, `<table>`, etc.\n",
    "- Filtra elementos por classe, id, nome ou estrutura\n",
    "- Ideal para coletar dados públicos, organizar textos e automatizar consultas\n",
    "\n"
   ]
  },
  {
   "cell_type": "code",
   "execution_count": null,
   "id": "39388b50",
   "metadata": {},
   "outputs": [],
   "source": [
    "#Instalar bibliotecas\n",
    "#!pip install beautifulsoup4\n",
    "#!pip install requests"
   ]
  },
  {
   "cell_type": "code",
   "execution_count": 1,
   "id": "66d8d9f3",
   "metadata": {},
   "outputs": [],
   "source": [
    "#Importar BeautifulSoup e requests\n",
    "from bs4 import BeautifulSoup\n",
    "import requests"
   ]
  },
  {
   "cell_type": "markdown",
   "id": "e00b9333",
   "metadata": {},
   "source": [
    "Vamos usar a biblioteca BeautifulSoup para acessar e extrair o conteúdo textual de uma notícia publicada no site da Anvisa.\n",
    "\n",
    "Nosso código realiza três etapas:\n",
    "- **Faz uma requisição HTTP** para obter o conteúdo HTML da página usando requests.\n",
    "- **Interpreta o HTML** com o BeautifulSoup, permitindo navegar pela estrutura do documento.\n",
    "- **Extrai todos os parágrafos** (`<p>`) da página, limpa os espaços e imprime somente os trechos com texto real."
   ]
  },
  {
   "cell_type": "code",
   "execution_count": 7,
   "id": "f9374cdc",
   "metadata": {},
   "outputs": [],
   "source": [
    "# Url da página que vamos fazer a leitura\n",
    "url = \"https://www.gov.br/anvisa/pt-br/assuntos/noticias-anvisa/2025/confira-os-destaques-da-6a-reuniao-publica-da-dicol-de-2025\""
   ]
  },
  {
   "cell_type": "code",
   "execution_count": 9,
   "id": "476ce2bf",
   "metadata": {},
   "outputs": [],
   "source": [
    "# Acessar a página e obter o conteúdo HTML\n",
    "resposta = requests.get(url)"
   ]
  },
  {
   "cell_type": "code",
   "execution_count": 10,
   "id": "43a3be0a",
   "metadata": {},
   "outputs": [],
   "source": [
    "# Estruturar o HTML com BeautifulSoup\n",
    "soup = BeautifulSoup(resposta.text, \"html.parser\")\n",
    "\n",
    "# Aqui, estamos buscando todos os parágrafos <p> na página\n",
    "conteudo = soup.find_all(\"p\")"
   ]
  },
  {
   "cell_type": "code",
   "execution_count": null,
   "id": "99ed89f8",
   "metadata": {},
   "outputs": [
    {
     "name": "stdout",
     "output_type": "stream",
     "text": [
      "Notícias\n",
      "DIRETORIA COLEGIADA\n",
      "Nesta quarta-feira (16/4), os diretores da Anvisa se reuniram para a 6ª Reunião Pública da Diretoria Colegiada (Dicol) de 2025, sob a condução do diretor-presidente substituto, Rômison Mota. Foram retirados de pauta, por ele, os itens 3.10 e 3.2.10.4 a 3.2.10.9. Além disso, foi solicitada a inclusão em pauta da proposta de abertura do processo administrativo de regulação referente à decisão que aprovou, em caráterad referendum(isto é, adotada provisoriamente), a Resolução da Diretoria Colegiada (RDC) 971/2025, que, por sua vez, alterou a RDC 947/2024 — a qual dispõe sobre os procedimentos de protocolo de documentos no âmbito da Agência.\n",
      "Colgate e a redução de riscos\n",
      "O diretor Daniel Pereira, por sua vez, pediu a retirada dos itens 3.3.3.1 e 3.3.12.1, e, no que se refere à retirada de pauta do item 4.3.4.1, que diz respeito àinterdição do creme dental Colgate Total Clean Mint por reações indesejáveis, fez algumas considerações. Em busca de prestigiar iniciativas próprias dos detentores de registro para propor e executar medidas de contenção e retenção — considerando que são os responsáveis pelos dados e pelo monitoramento pós-mercado —, o diretor ressaltou que esses agentes devem, portanto, ser capazes de detectar possíveis desvios de qualidade e segurança em seus produtos.\n",
      "Este fundamento visa estimular ocompliance(ou seja, o conjunto de práticas que garantem a conformidade de uma empresa com os regulamentos vigentes, visando garantir a segurança dos seus produtos e minimizar os riscos) dos setores regulados pela Anvisa. Isso porque toda medida, seja ela regulatória ou de fiscalização, gera custos tanto para a Agência quanto para as Vigilâncias Sanitárias locais, que já operam com recursos limitados. A diligência na solução do problema é essencial para que ele seja prontamente resolvido e, de acordo com o diretor, a Colgate vem adotando medidas para a redução de riscos desde o início das investigações. Foram realizadas diversas reuniões internas, e a empresa apresentou, ainda, um plano de ação, protocolizado nesta semana.\n",
      "Para possibilitar uma avaliação detalhada e completa da proposta — levando em conta o intervalo temporal entre esta e a próxima reunião da Dicol, prevista para 14 de maio —, o diretor Daniel Pereira propôs a retirada do item de pauta e sugeriu a realização de uma reunião específica, em data intermediária, para tratar do caso.\n",
      "O diretor-presidente substituto, Rômison Mota, enfatizou que as reuniões da Dicol são usualmente quinzenais, mas que, em função do quórum reduzido de diretores, foi necessário readequar a agenda de maio, a fim de que outros compromissos relativos à Anvisa também pudessem ser cumpridos. “Espero que, muito em breve, tenhamos o quórum completo de diretores para o bom andamento dos trabalhos desta Agência”, reforçou.\n",
      "Todas as alterações de pauta propostas foram aprovadas por unanimidade. Vejaaquia pauta completa da 6ª Reunião Pública da Dicol de 2025.\n",
      "Doença de Chagas\n",
      "O diretor Daniel Pereira aproveitou a reunião para lembrar que 14 de abril foi uma data consolidada como Dia Mundial da Doença de Chagas, doença tropical negligenciada transmitida via parasita. “A doença de Chagas é um desafio de saúde pública e também um lembrete da desigualdade social que ainda persiste em muitas regiões. Que esse dia nos inspire a continuar promovendo educação em saúde, investimentos, pesquisas e políticas públicas eficazes”, afirmou.\n",
      "Composição das vacinas influenza de 2025\n",
      "Entre os destaques da pauta do dia, esteve a proposta de Instrução Normativa (IN) para alterar a composição das vacinas influenza a serem utilizadas no Brasil, aprovada por unanimidade — e que integra a Agenda Regulatória 2024-2025. Devido à sazonalidade do vírus, que exige um controle contínuo, a Organização Mundial da Saúde (OMS) emite recomendações específicas para os hemisférios Norte e Sul, de forma separada, no início e no final de cada ano, respectivamente. Até outubro de 2024, a Anvisa autorizava o uso no Brasil apenas de vacinas atualizadas em relação às recomendações da OMS para o Hemisfério Sul. Contudo, após avaliações epidemiológicas, o Programa Nacional de Imunizações (PNI) entendeu ser pertinente a realização de uma campanha de vacinação contra a influenza específica para a região Norte do país.\n",
      "O chamado inverno amazônico e ciclos locais da chuva, usualmente entre novembro e maio, não coincidem com a ocorrência da mesma estação nas regiões Nordeste, Centro-Oeste, Sul e Sudeste. Para autorizar a circulação no país das vacinas adequadas às recomendações para o Hemisfério Norte, foram necessárias adequações normativas que preveem a circulação de imunizantes distintos dos indicados para o Hemisfério Sul, desde que de uso exclusivo nos programas do Ministério da Saúde.\n",
      "Outras deliberações\n",
      "Na pauta do dia, estiveram também propostas de consulta pública de IN para estabelecer as especificações de identidade, pureza e composição de ingredientes autorizados para uso em alimentos; de consulta pública de RDC para alterar a RDC 243/2018, que dispõe sobre os requisitos sanitários dos suplementos alimentares, a RDC/2023, que dispõe sobre a comprovação de segurança e a autorização de uso de novos alimentos e novos ingredientes, e a IN/2018, que estabelece as listas de constituintes, de limites de uso, de alegações e de rotulagem complementar dos suplementos alimentares.\n",
      "As propostas, que também fazem parte da Agenda Regulatória 2024-2025, foram aprovadas por unanimidade, com prazo de 45 dias para manifestação da sociedade. Ainda com aprovação unânime, integraram a pauta a proposta de RDC para dispor sobre a atualização do Anexo I (Listas de Substâncias Entorpecentes, Psicotrópicas, Precursoras e Outras sob Controle Especial) da Portaria SVS/MS 344/1998 e a proposta de alteração do documento de Perguntas e Respostas referente à RDC 658/2022, que dispõe sobre as Diretrizes Gerais de Boas Práticas de Fabricação de Medicamentos, entre outros temas de relevância para a saúde pública do país.\n",
      "Saiba mais\n",
      "A Dicol informa que o julgamento dos recursos administrativos, pedidos de retirada de efeito suspensivo e de revisão de ato constantes da pauta serão realizados por meio deCircuito Deliberativo, e não mais serão realizados durante a reunião pública, conforme estabelecido pelaRDC 862/2024. Os extratos e votos das decisões serão publicizados também no portal da Anvisa, excetuando-se os que tiveram sigilo aprovado, ao fim do prazo de votação de 5 dias úteis.\n",
      "O encontro desta quarta ocorreu na sala de reuniões da Dicol, no Edifício Sede da Anvisa, em Brasília (DF), com transmissão ao vivo pelo canal da Agência no YouTube. Para assistir a reunião completa, clique neste link:youtube.com/watch?v=wVb8K1NkDgc\n"
     ]
    }
   ],
   "source": [
    "#visualizar o conteúdo\n",
    "for paragrafo in conteudo:\n",
    "    texto = paragrafo.get_text(strip=True)\n",
    "    if texto:\n",
    "        print(texto)"
   ]
  },
  {
   "cell_type": "markdown",
   "id": "e5a2fc48",
   "metadata": {},
   "source": [
    "___"
   ]
  },
  {
   "cell_type": "markdown",
   "id": "ecef0bbf",
   "metadata": {},
   "source": [
    "## **Ambiente Local**\n",
    "\n",
    "Para fazer scraping de páginas com conteúdo dinâmico (carregado via JavaScript), precisamos simular um navegador automático, que simula um navegador real. Para essa tarefa, o Colab não vai funcionar de forma apropriada por alguns motivos\n",
    "\n",
    "- O Colab roda em um servidor remoto, sem acesso direto à interface gráfica de um navegador.\n",
    "- Precisamos de um navegador real ou em modo headless, o que não funciona de forma estável no Colab.\n",
    "- Recomendação: rodar localmente, no computador.\n",
    "\n",
    "Para isso, vamos precisar usar um **webdriver**. \n",
    "\n",
    "O WebDriver manipula um navegador nativamente, como um usuário faria, seja localmente ou em uma máquina remota usando o servidor Selenium, marca um salto em termos de automação do navegador. [webdriver](\"https://www.selenium.dev/pt-br/documentation/webdriver/\")\n"
   ]
  },
  {
   "cell_type": "markdown",
   "id": "3bad9dc8",
   "metadata": {},
   "source": [
    "## **Selenium**\n",
    "O Selenium é uma ferramenta que permite automatizar a navegação em sites, como se fosse um usuário humano interagindo com o navegador.\n",
    "\n",
    "No nosso contexto:\n",
    "- Carregar páginas que usam JavaScript para exibir o conteúdo.\n",
    "- Clicar em botões, rolar a página, preencher formulários e aguardar carregamentos.\n",
    "- Capturar textos, links, dados e tabelas que não aparecem no HTML estático.\n"
   ]
  },
  {
   "cell_type": "markdown",
   "id": "34ab4bd7",
   "metadata": {},
   "source": [
    "## **Preparando o ambiente**\n",
    "\n",
    "Antes de começar a automatizar a navegação em sites, precisamos preparar nosso ambiente com duas ferramentas essenciais:\n",
    "- `Selenium`: biblioteca principal para automação de navegador em Python.\n",
    "- `webdriver-manager`: ferramenta auxiliar que faz o download automático do ChromeDriver na versão correta, evitando conflitos com o navegador.\n",
    "\n",
    "**Instalação:**\n"
   ]
  },
  {
   "cell_type": "code",
   "execution_count": null,
   "id": "fa470c28",
   "metadata": {},
   "outputs": [],
   "source": [
    "#!pip install selenium\n",
    "#!pip install webdriver-manager"
   ]
  },
  {
   "cell_type": "markdown",
   "id": "3521c877",
   "metadata": {},
   "source": [
    "Isso garante que teremos tudo pronto para:\n",
    "- Controlar o navegador Chrome via Python\n",
    "- Evitar problemas de compatibilidade com versões do ChromeDriver\n",
    "- Começar a abrir páginas, clicar em botões e extrair conteúdo renderizado\n"
   ]
  },
  {
   "cell_type": "markdown",
   "id": "825aaf29",
   "metadata": {},
   "source": [
    "### **Testando o Selenium**\n",
    "\n",
    "Vamos realizar um teste simples para garantir que tudo está funcionando. \n",
    "\n",
    "O objetivo é abrir automaticamente o navegador, acessar uma página da web, capturar o título da página e, em seguida, fechar o navegador. Esse teste serve como validação do ambiente e demonstra como o Python pode controlar o navegador de forma programada. Se tudo estiver certo, o navegador será aberto e fechado automaticamente, confirmando que você está pronto para seguir com automações mais avançadas.\n",
    "\n",
    "O que vai acontecer:\n",
    "- O WebDriver abre o Chrome.\n",
    "- Navega até a página especificada (`get()`).\n",
    "- O Selenium lê o título da aba.\n",
    "- Fecha tudo no final."
   ]
  },
  {
   "cell_type": "code",
   "execution_count": 1,
   "id": "817794b1",
   "metadata": {},
   "outputs": [
    {
     "name": "stdout",
     "output_type": "stream",
     "text": [
      "Rede Nacional de Dados em Saúde — Ministério da Saúde\n"
     ]
    }
   ],
   "source": [
    "# Carregar o ChromeDriver e bibliotecas do Selenium\n",
    "from selenium import webdriver\n",
    "from selenium.webdriver.chrome.service import Service\n",
    "from webdriver_manager.chrome import ChromeDriverManager\n",
    "\n",
    "\n",
    "# Baixar e configurar automaticamente o ChromeDriver compatível\n",
    "service = Service(ChromeDriverManager().install())\n",
    "driver = webdriver.Chrome(service=service)\n",
    "\n",
    "# Acessa um site qualquer\n",
    "driver.get(\"https://www.gov.br/saude/pt-br/composicao/seidigi/rnds\")\n",
    "\n",
    "# Imprime o título da página\n",
    "print(driver.title)\n",
    "\n",
    "# Fecha o navegador\n",
    "driver.quit()"
   ]
  },
  {
   "cell_type": "markdown",
   "id": "45093eab",
   "metadata": {},
   "source": [
    "#### **Observação**\n",
    "\n",
    "`service = Service(ChromeDriverManager().install())`\n",
    "\n",
    "Essa função:\n",
    "- Verifica se a versão correta do ChromeDriver já está instalada no cache local (*~/.wdm* no Linux/Mac ou *C:\\Users\\SeuUsuario\\.wdm* no Windows).\n",
    "- Se já estiver instalada, não baixa de novo, apenas retorna o caminho do executável.\n",
    "- Se não estiver, faz o download automático da versão compatível com o navegador atual.\n",
    "\n",
    "\n",
    "Em alguns ambientes, o webdriver-manager pode falhar ao tentar baixar o ChromeDriver automaticamente, seja por falta de internet, bloqueio de proxy ou restrições da rede. Nesses casos, podemos resolver o problema baixando o ChromeDriver manualmente.\n",
    "\n",
    "Acesse o site oficial:\n",
    "\n",
    "https://googlechromelabs.github.io/chrome-for-testing/\n",
    "\n",
    "Baixe a versão do ChromeDriver compatível com o seu navegador e salve o executável na mesma pasta do seu script Python."
   ]
  },
  {
   "cell_type": "code",
   "execution_count": null,
   "id": "0a497c1e",
   "metadata": {},
   "outputs": [],
   "source": [
    "driver = 'c:\\\\Users\\caminho\\chromedriver.exe'\n",
    "\n",
    "service = Service(driver)\n",
    "driver = webdriver.Chrome(service=service)\n",
    "\n",
    "# Acessa um site qualquer\n",
    "driver.get(\"https://www.gov.br/saude/pt-br/composicao/seidigi/rnds\")\n",
    "\n",
    "# Imprime o título da página\n",
    "print(driver.title)\n",
    "\n",
    "# Fecha o navegador\n",
    "driver.quit()"
   ]
  },
  {
   "cell_type": "markdown",
   "id": "1c06532c",
   "metadata": {},
   "source": [
    "___"
   ]
  },
  {
   "cell_type": "markdown",
   "id": "72af02f1",
   "metadata": {},
   "source": [
    "### **Capturando dados DOU**\n",
    "\n",
    "Agora utilizando o Selenium vamos automatizar a extração de publicações recentes do Diário Oficial da União (DOU). O objetivo é incorporar essas informações em sistemas internos de análise e acompanhamento de normativas governamentais.\n",
    "\n",
    "A partir da seguinte URL:\n",
    "\n",
    "https://www.in.gov.br/web/dou/-/portaria-gm/ms-n-6.882-de-22-de-abril-de-2025-627636172 \n",
    "\n",
    "Desenvolva um código em Python que:\n",
    "- Acesse o conteúdo da página de leitura do DOU usando requests\n",
    "- Identifique e extraia os títulos das publicações exibidas no dia atual\n",
    "- Extraia, se possível, os resumos ou trechos principais associados a cada título\n",
    "- Armazene essas informações de forma estruturada, como uma lista de dicionários contendo:\n",
    "    - `\"titulo\"`\n",
    "    - `\"resumo\"`"
   ]
  },
  {
   "cell_type": "code",
   "execution_count": 11,
   "id": "ae2f930b",
   "metadata": {},
   "outputs": [],
   "source": [
    "from selenium import webdriver\n",
    "from selenium.webdriver.chrome.service import Service\n",
    "from selenium.webdriver.common.by import By\n",
    "from selenium.webdriver.support.ui import WebDriverWait\n",
    "from selenium.webdriver.support import expected_conditions as EC"
   ]
  },
  {
   "cell_type": "code",
   "execution_count": 12,
   "id": "e2661764",
   "metadata": {},
   "outputs": [],
   "source": [
    "# Executar o webdriver\n",
    "service = Service(ChromeDriverManager().install())\n",
    "driver = webdriver.Chrome(service=service)"
   ]
  },
  {
   "cell_type": "markdown",
   "id": "978b92a2",
   "metadata": {},
   "source": [
    "- `ChromeDriverManager()` é responsável por baixar e gerenciar o driver compatível com o Chrome instalado\n",
    "- `webdriver.Chrome()` abre o navegador com esse driver"
   ]
  },
  {
   "cell_type": "code",
   "execution_count": 13,
   "id": "3d1dd02f",
   "metadata": {},
   "outputs": [],
   "source": [
    "# Acessa a página do DOU\n",
    "url = \"https://www.in.gov.br/web/dou/-/portaria-gm/ms-n-6.882-de-22-de-abril-de-2025-627636172\"\n",
    "\n",
    "driver.get(url)"
   ]
  },
  {
   "cell_type": "markdown",
   "id": "c762b477",
   "metadata": {},
   "source": [
    "Essa linha acima envia a url para o webdriver  da página que será aberta no navegador de forma automática."
   ]
  },
  {
   "cell_type": "code",
   "execution_count": 14,
   "id": "2fa37246",
   "metadata": {},
   "outputs": [],
   "source": [
    "# Aguarda o carregamento do conteúdo\n",
    "WebDriverWait(driver, 10).until(\n",
    "    EC.presence_of_element_located((By.CLASS_NAME, \"identifica\"))\n",
    ")\n",
    "\n",
    "# Captura o HTML completo renderizado\n",
    "html_renderizado = driver.page_source"
   ]
  },
  {
   "cell_type": "markdown",
   "id": "060ce631",
   "metadata": {},
   "source": [
    "- Algumas páginas demoram para carregar o conteúdo via JavaScript. Vamos utilizar o `WebDriverWait` para esperar 10 segundos até que algum elemento específico apareça, para ter certeza de que o conteúdo foi carregado.\n",
    "- Note que vamos usar a classe “identifica” que carrega a identificação da publicação. \n",
    "- Por último, vamos salvar esse HTML para usar depois com outras ferramentas. \n"
   ]
  },
  {
   "cell_type": "markdown",
   "id": "8628b488",
   "metadata": {},
   "source": [
    "Agora que já capturamos todas as informações que precisamos, é só fechar o navegador e visualizar o html salvo."
   ]
  },
  {
   "cell_type": "code",
   "execution_count": 15,
   "id": "9e67a521",
   "metadata": {},
   "outputs": [
    {
     "name": "stdout",
     "output_type": "stream",
     "text": [
      "<html class=\"ltr yui3-js-enabled webkit js chrome chrome136 chrome136-0 win secure\" dir=\"ltr\" lang=\"pt-BR\"><div id=\"yui3-css-stamp\" style=\"position: absolute !important; visibility: hidden !important\" class=\"\"></div><head>\n",
      "\t\t<title>Portaria GM/ms Nº 6.882, DE 22 DE abril DE 2025 - Portaria GM/ms Nº 6.882, DE 22 DE abril DE 2025 - DOU - Imprensa Nacional</title>\n",
      "\n",
      "\t\t<meta content=\"initial-scale=1.0, width=device-width\" name=\"viewport\">\n",
      "\t\t<meta property=\"creator.productor\" content=\"http://estruturaorganizacional.dados.gov.br/id/unidade-organizacional/332\">\n",
      "\n",
      "\t\t<!-- FAVICON -->\n",
      "\t\t<link rel=\"apple-touch-icon\" sizes=\"57x57\" href=\"https://www.in.gov.br/o/imprensa-nacional-lf7_1-ce-theme/images/favicon/apple-icon-57x57.png\">\n",
      "\t\t<link rel=\"apple-touch-icon\" sizes=\"60x60\" href=\"https://www.in.gov.br/o/imprensa-nacional-lf7_1-ce-theme/images/favicon//apple-icon-60x60.png\">\n",
      "\t\t<link rel=\"apple-touch-icon\" sizes=\"72x72\" href=\"https://www.in.gov.br/o/imprensa-nacional-lf7_1-ce-theme/images/favicon//app\n"
     ]
    }
   ],
   "source": [
    "# Fecha o navegador\n",
    "driver.quit()\n",
    "print(html_renderizado[:1000])"
   ]
  },
  {
   "cell_type": "markdown",
   "id": "fd7995f2",
   "metadata": {},
   "source": [
    "___"
   ]
  },
  {
   "cell_type": "markdown",
   "id": "d547daab",
   "metadata": {},
   "source": [
    "### **Seleção de Elementos**\n",
    "\n",
    "Depois que o navegador carrega a página, o conteúdo está lá, mas precisamos dizer ao Selenium onde procurar. Isso é feito selecionando elementos HTML específicos: um **título**, um **parágrafo**, uma **tabela**.\n",
    "\n",
    "Selecionar um elemento é como apontar para um pedaço do código da página e dizer: **\"É isso que eu quero pegar.\"**\n",
    "\n",
    "O Selenium oferece várias formas de localizar elementos dentro da página. Esses métodos são chamados de estratégias de localização (ou locators).\n",
    "\n",
    "| **Estratégia**      | **Quando usar**                                      |\n",
    "| --------------- | ------------------------------------------------ |\n",
    "| `By.ID`         | Quando o elemento tem um ID único                |\n",
    "| `By.CLASS_NAME` | Para elementos com uma classe CSS                |\n",
    "| `By.TAG_NAME`   | Para selecionar por tipo de tag                  |\n",
    "| `By.NAME`       | Útil em formulários                              |\n",
    "| `By.LINK_TEXT`  | Para links com texto fixo                        |\n",
    "| `By.XPATH`      | Caminho preciso, ideal para estruturas complexas |\n",
    "\n"
   ]
  },
  {
   "cell_type": "markdown",
   "id": "4eb8e25c",
   "metadata": {},
   "source": [
    "### **Exemplo com a página dou**\n",
    "\n",
    "Vamos utilizar o mesmo exemplo do DOU para buscar elementos. "
   ]
  },
  {
   "cell_type": "code",
   "execution_count": null,
   "id": "578a5384",
   "metadata": {},
   "outputs": [],
   "source": [
    "# Executar o webdriver antes de executar os códigos a seguir\n",
    "service = Service(ChromeDriverManager().install())\n",
    "driver = webdriver.Chrome(service=service)\n",
    "\n",
    "#não feche o navegador aberto para os exemplos a seguir\n",
    "driver.get(url)"
   ]
  },
  {
   "cell_type": "markdown",
   "id": "2ceb066b",
   "metadata": {},
   "source": [
    "Vamos capturar o título da publicação. Ao inspecionar o elemento, podemos visualizar que sua classe é \"identifica\". Então vamos utilizar o `find_element( )` para localizar **por** (`by`) **classe** (`CLASS_NAME`)  "
   ]
  },
  {
   "cell_type": "code",
   "execution_count": 19,
   "id": "539d4f95",
   "metadata": {},
   "outputs": [
    {
     "name": "stdout",
     "output_type": "stream",
     "text": [
      "PORTARIA GM/MS Nº 6.882, DE 22 DE ABRIL DE 2025\n"
     ]
    }
   ],
   "source": [
    "titulo = driver.find_element(By.CLASS_NAME, \"identifica\")\n",
    "print(titulo.text)"
   ]
  },
  {
   "cell_type": "markdown",
   "id": "70a4edc0",
   "metadata": {},
   "source": [
    "Agora vamos pegar todos os parágrafos com o conteúdo da publicação utilizando o nome da tag (`TAG_NAME`) que é `p`. \n",
    "\n",
    "Assim como no **Beautifulsoup**, vamos utilizar um looping para visualizar todos os parágrafos encontrados. "
   ]
  },
  {
   "cell_type": "code",
   "execution_count": null,
   "id": "548adc7e",
   "metadata": {},
   "outputs": [
    {
     "name": "stdout",
     "output_type": "stream",
     "text": [
      "Publicado em: 06/05/2025 | Edição: 83 | Seção: 1 | Página: 103\n",
      "Órgão: Ministério da Saúde/Gabinete do Ministro\n",
      "PORTARIA GM/MS Nº 6.882, DE 22 DE ABRIL DE 2025\n",
      "Autoriza o repasse referente ao incremento financeiro emergencial de custeio de resposta às emergências em saúde pública no âmbito do Sistema Único de Saúde.\n",
      "O MINISTRO DE ESTADO DA SAÚDE, no uso da atribuição que lhe confere o inciso I do parágrafo único art. 87 da Constituição, e considerando a Portaria GM/MS nº 6.495 de 31 de dezembro de 2024, que alterou Portaria de Consolidação GM/MS nº 6, de 28 de setembro de 2017, para regulamentar o incremento financeiro de que trata o art. 8º, inciso II, no caso de custeio para preparação e resposta a emergências em saúde pública no âmbito do Sistema Único de Saúde - SUS, resolve:\n",
      "Art. 1º Aprovar o repasse financeiro emergencial do Fundo Nacional de Saúde para o Fundo de Saúde Municipal, em parcela única, na forma do Anexo, para o custeio de preparação e resposta a emergências em saúde.\n",
      "Art. 2º O Fundo Nacional de Saúde adotará as medidas necessárias às transferências dos recursos estabelecidos nesta Portaria ao respectivo Fundo de Saúde, em conformidade com o processo de pagamento instruído.\n",
      "Art. 3º O repasse de eventuais parcelas subsequentes, ficará condicionado ao cumprimento dos requisitos estabelecidos no §5º do Art. 8-B, da Portaria GM/MS nº 6.495 de 31 de dezembro de 2024, pelo ente beneficiário.\n",
      "Art. 4º O ente beneficiário deverá comprovar a aplicação dos recursos financeiros recebidos por meio do Relatório Anual de Gestão - RAG, nos termos do art. 660 da Portaria de Consolidação GM/MS nº 6, de 2017.\n",
      "Art. 5º Os recursos financeiros para a execução das atividades de que trata esta Portaria são oriundos do orçamento do Ministério da Saúde, devendo onerar as seguintes Funcionais Programáticas:\n",
      "I - Programa de Trabalho - 10.305.5123.20AL - Apoio aos Estados, Distrito Federal e Municípios para a Vigilância em Saúde - Plano Orçamentário 0005; e\n",
      "II - Programa de Trabalho 10.301.5119.219A - Piso de Atenção Primária à Saúde;\n",
      "Art. 6º Esta Portaria entra em vigor na data de sua publicação.\n",
      "ALEXANDRE ROCHA SANTOS PADILHA\n",
      "ANEXO\n",
      "\n",
      "\n",
      "UF\n",
      "IBGE\n",
      "Município\n",
      "Programa de Trabalho\n",
      "\n",
      "\n",
      "\n",
      "10.305.5123.20AL\n",
      "10.301.5119.219A\n",
      "PR\n",
      "411270\n",
      "Jataizinho\n",
      "R$ 2.134,50\n",
      "R$18.346,00\n",
      "TOTAL GERAL\n",
      "R$ 20.480,50\n",
      "Este conteúdo não substitui o publicado na versão certificada.\n",
      "AUDIÊNCIA DO PORTAL\n",
      "REDES SOCIAIS\n",
      "\n",
      "\n",
      "\n",
      "\n"
     ]
    }
   ],
   "source": [
    "#selecionar parágrafos pela tag\n",
    "paragrafos = driver.find_elements(By.TAG_NAME, \"p\")\n",
    "\n",
    "#looping para percorrer todos os parágrafos\n",
    "for p in paragrafos:\n",
    "    print(p.text)"
   ]
  },
  {
   "cell_type": "markdown",
   "id": "9a885dd5",
   "metadata": {},
   "source": [
    "___"
   ]
  },
  {
   "cell_type": "markdown",
   "id": "d906cf4c",
   "metadata": {},
   "source": [
    "### **Enviar comandos via Selenium**\n",
    "\n",
    "O Selenium simula o comportamento real de um usuário navegando: além de ler, ele pode preencher formulários, enviar buscas, clicar em botões e navegar entre páginas.\n",
    "\n",
    "Isso significa que podemos usá-lo para enviar solicitações reais ao servidor, como:\n",
    "\n",
    "- Buscar uma palavra-chave em um site\n",
    "- Realizar login\n",
    "- Consultar informações por CPF, processo ou código\n",
    "- Submeter um formulário e capturar os resultados"
   ]
  },
  {
   "cell_type": "markdown",
   "id": "2ee36ab6",
   "metadata": {},
   "source": [
    "| Comando Selenium                            | Ação simulada                         | Elemento HTML      |\n",
    "|---------------------------------------------|---------------------------------------|--------------------|\n",
    "| `element.send_keys(\"texto\")`                | Preencher com um valor                | Campo de texto     |\n",
    "| `element.send_keys(\"senha123\")`             | Inserir senha                         | Campo de senha     |\n",
    "| `element.click()`                           | Clicar                                | Botão              |\n",
    "| `element.click()`                           | Acessar o link                        | Link               |\n",
    "| `element.send_keys(\"termo\", Keys.ENTER)`    | Digitar e pressionar ENTER            | Campo de busca     |\n",
    "| `Select(element).select_by_visible_text()`  | Selecionar uma opção                  | Menu suspenso      |\n",
    "| `element.click()`                           | Marcar ou desmarcar                   | Caixa de seleção   |\n",
    "| `element.click()`                           | Selecionar uma opção                  | Rádio button       |\n",
    "| `botao.submit()` ou `botao.click()`         | Submeter o formulário                 | Formulário         |\n",
    "| `element.send_keys(\"caminho/arquivo.pdf\")`  | Enviar um arquivo                     | Arquivo (upload)   |\n",
    "\n",
    "\n",
    "**Importante:** Alguns elementos exigem o uso do módulo Keys para simular teclas (como ENTER) e Select para menus suspensos (from selenium.webdriver.support.ui import Select)."
   ]
  },
  {
   "cell_type": "markdown",
   "id": "82943334",
   "metadata": {},
   "source": [
    "Suponha que o site tenha um campo de busca com ID \"campo-busca\" e um botão com type=\"submit\"\n",
    "\n",
    "\n",
    "```python\n",
    "from selenium.webdriver.common.keys import Keys\n",
    "\n",
    "# Localiza o campo e insere o texto\n",
    "campo = driver.find_element(By.ID, \"campo-busca\")\n",
    "campo.send_keys(\"vacina covid\")\n",
    "\n",
    "# Simula pressionar ENTER\n",
    "campo.send_keys(Keys.ENTER)\n",
    "```\n",
    "\n",
    "\n",
    "**Atenção:** Antes de enviar o comando, espere até que a página carregue os campos.\n",
    "\n",
    "- Páginas com carregamento dinâmico podem demorar alguns segundos para exibir os elementos na tela.\n",
    "- Se você tentar interagir com um campo que ainda não apareceu, o Selenium vai gerar erro.\n"
   ]
  },
  {
   "cell_type": "markdown",
   "id": "5e1f5f94",
   "metadata": {},
   "source": [
    "___"
   ]
  },
  {
   "cell_type": "markdown",
   "id": "12ddf7be",
   "metadata": {},
   "source": [
    "### **Modo Headless**\n",
    "\n",
    "Headless significa **sem interface gráfica**. Quando ativamos esse modo, o Selenium executa o navegador **sem abrir a janela na tela**. O comportamento é o mesmo, ele ainda carrega a página, clica, preenche e extrai, mas tudo em segundo plano.\n",
    "\n",
    "É bem útil para:\n",
    "- Automatizar rotinas em servidores ou scripts agendados\n",
    "- Rodar processos de scraping sem interferência visual\n",
    "- Aumentar a performance em execuções repetidas\n",
    "\n",
    "\n",
    "Ativamos o modo headless nas opções do Selenium"
   ]
  },
  {
   "cell_type": "code",
   "execution_count": null,
   "id": "e68cf3eb",
   "metadata": {},
   "outputs": [],
   "source": [
    "from selenium.webdriver.chrome.options import Options\n",
    "\n",
    "options = Options()\n",
    "options.add_argument(\"--headless\")\n",
    "driver = webdriver.Chrome(options=options)"
   ]
  },
  {
   "cell_type": "markdown",
   "id": "9abc7d0d",
   "metadata": {},
   "source": [
    "Podemos combinar com o `WebDriveManager`"
   ]
  },
  {
   "cell_type": "code",
   "execution_count": null,
   "id": "bb0ca511",
   "metadata": {},
   "outputs": [],
   "source": [
    "from selenium.webdriver.chrome.service import Service\n",
    "from webdriver_manager.chrome import ChromeDriverManager\n",
    "\n",
    "driver = webdriver.Chrome(\n",
    "    service=Service(ChromeDriverManager().install()),\n",
    "    options=options\n",
    ")"
   ]
  },
  {
   "cell_type": "code",
   "execution_count": null,
   "id": "f20e023c",
   "metadata": {},
   "outputs": [],
   "source": [
    "from selenium import webdriver\n",
    "from selenium.webdriver.chrome.options import Options\n",
    "\n",
    "options = Options() \n",
    "options.add_argument(\"--headless\") # Executa sem abrir navegador\n",
    "options.add_argument(\"--window-size=1920,1080\") # Tamanho da janela\n",
    "options.add_argument(\"--disable-notifications\") # Desabilita notificações\n",
    "options.add_argument(\"--lang=pt-BR\") # Define o idioma\n",
    "\n",
    "prefs = {\"download.default_directory\": r\"C:\\Downloads\", # Define a pasta de download\n",
    "   \t     \"download.prompt_for_download\": False,  # não pergunta onde salvar\n",
    "         \"directory_upgrade\": True # Permite sobrescrever arquivos existentes\n",
    "        }\n",
    "\n",
    " # Define a pasta de download\n",
    "options.add_experimental_option(\"prefs\", prefs) # Define preferências do Chrome\n",
    "\n",
    "driver = webdriver.Chrome(options=options) # Executa o Chrome com as opções definidas"
   ]
  },
  {
   "cell_type": "markdown",
   "id": "ed84bdd7",
   "metadata": {},
   "source": [
    "### **Options**\n",
    "\n",
    "O objeto `Options()` no Selenium (especialmente no Chrome e no Firefox) permite configurar o comportamento do navegador de forma detalhada, o que é ótimo para criar ambientes controlados, evitar popups, definir pastas de download, simular dispositivos e muito mais.\n",
    "\n",
    "\n",
    "| Comando `.add_argument()` | O que faz                                                               |\n",
    "| ------------------------- | ----------------------------------------------------------------------- |\n",
    "| `--headless`              | Roda o navegador sem interface gráfica                                  |\n",
    "| `--window-size=1920,1080` | Define tamanho da janela (evita bugs de responsividade)                 |\n",
    "| `--start-maximized`       | Inicia o navegador maximizado                                           |\n",
    "| `--disable-gpu`           | Evita erros em servidores sem placa de vídeo                            |\n",
    "| `--no-sandbox`            | Necessário em alguns servidores Linux (ex: Docker)                      |\n",
    "| `--disable-notifications` | Bloqueia notificações do navegador (ex: “permitir notificações?”)       |\n",
    "| `--incognito`             | Abre o navegador no modo anônimo                                        |\n",
    "| `--disable-extensions`    | Impede que extensões do navegador sejam carregadas                      |\n",
    "| `--disable-infobars`      | Remove a barra “O Chrome está sendo controlado por um software externo” |\n",
    "| `--lang=pt-BR`            | Define o idioma do navegador                                            |\n",
    "| `--user-agent=\"...\"`      | Define um user-agent customizado                                        |\n",
    "\n",
    "\n",
    "\n",
    "### **Exemplo**"
   ]
  },
  {
   "cell_type": "code",
   "execution_count": null,
   "id": "ec2f2694",
   "metadata": {},
   "outputs": [],
   "source": [
    "from selenium import webdriver\n",
    "from selenium.webdriver.chrome.options import Options\n",
    "\n",
    "options = Options()\n",
    "options.add_argument(\"--headless\") # Executa sem abrir navegador\n",
    "options.add_argument(\"--window-size=1920,1080\") # Tamanho da janela\n",
    "options.add_argument(\"--disable-notifications\") # Desabilita notificações\n",
    "options.add_argument(\"--lang=pt-BR\") # Define o idioma\n",
    "\n",
    "prefs = {\"download.default_directory\": r\"C:\\Downloads\", # Define a pasta de download\n",
    "         \"download.prompt_for_download\": False,  # não pergunta onde salvar\n",
    "         \"directory_upgrade\": True # Permite sobrescrever arquivos existentes\n",
    "        }\n",
    "\n",
    "# Define a pasta de download\n",
    "options.add_experimental_option(\"prefs\", prefs) # Define preferências do Chrome\n",
    "\n",
    "driver = webdriver.Chrome(options=options) # Executa o Chrome com as opções definidas"
   ]
  },
  {
   "cell_type": "markdown",
   "id": "b0ba0df3",
   "metadata": {},
   "source": [
    "## **Referências**\n",
    "- BeautifulSoup – Documentation. https://www.crummy.com/software/BeautifulSoup/bs4/doc.ptbr/ \n",
    "- pdfplumber – API Reference. https://github.com/jsvine/pdfplumber\n",
    "- PyMuPDF – Documentation. https://pymupdf.readthedocs.io/\n",
    "- Docling – GitHub Repository. https://github.com/docling-project/docling\n",
    "- REGEX101 – Regex Testing, Explanation and Reference. https://regex101.com/\n",
    "- Python – re — Regular expression operations. https://docs.python.org/3/library/re.html\n",
    "- Requests – HTTP for Humans. https://docs.python-requests.org/ \n",
    "- Lutz, M. (2013). Learning Python (5th Edition). O'Reilly Media. https://www.oreilly.com/library/view/learning-python-5th/9781449355722/ \n",
    "- Selenium – Python Documentation. https://www.selenium.dev/documentation/webdriver/getting_started/ \n",
    "- WebDriver Manager – Automatize o download do ChromeDriver. https://pypi.org/project/webdriver-manager/\n",
    "- WebDriver for Chrome (ChromeDriver) – Downloads e compatibilidade. https://googlechromelabs.github.io/chrome-for-testing/ \n"
   ]
  }
 ],
 "metadata": {
  "kernelspec": {
   "display_name": "base",
   "language": "python",
   "name": "python3"
  },
  "language_info": {
   "codemirror_mode": {
    "name": "ipython",
    "version": 3
   },
   "file_extension": ".py",
   "mimetype": "text/x-python",
   "name": "python",
   "nbconvert_exporter": "python",
   "pygments_lexer": "ipython3",
   "version": "3.12.7"
  }
 },
 "nbformat": 4,
 "nbformat_minor": 5
}
