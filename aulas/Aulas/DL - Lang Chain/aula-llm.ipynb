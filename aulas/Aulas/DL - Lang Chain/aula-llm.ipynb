{
 "cells": [
  {
   "cell_type": "code",
   "execution_count": 1,
   "id": "2fa1b93a",
   "metadata": {},
   "outputs": [],
   "source": [
    "from langchain_community.llms import Ollama"
   ]
  },
  {
   "cell_type": "code",
   "execution_count": 3,
   "id": "5def11a4",
   "metadata": {},
   "outputs": [],
   "source": [
    "modelo_llm = \"phi3:mini\" #phi3:mini "
   ]
  },
  {
   "cell_type": "code",
   "execution_count": 2,
   "id": "514d2583",
   "metadata": {},
   "outputs": [
    {
     "ename": "NameError",
     "evalue": "name 'Ollama' is not defined",
     "output_type": "error",
     "traceback": [
      "\u001b[31m---------------------------------------------------------------------------\u001b[39m",
      "\u001b[31mNameError\u001b[39m                                 Traceback (most recent call last)",
      "\u001b[36mCell\u001b[39m\u001b[36m \u001b[39m\u001b[32mIn[2]\u001b[39m\u001b[32m, line 1\u001b[39m\n\u001b[32m----> \u001b[39m\u001b[32m1\u001b[39m llm = \u001b[43mOllama\u001b[49m(model=modelo_llm)\n\u001b[32m      2\u001b[39m texto =  \u001b[33m\"\u001b[39m\u001b[33mexplique de forma simples o que é inteligência aritificial\u001b[39m\u001b[33m\"\u001b[39m\n",
      "\u001b[31mNameError\u001b[39m: name 'Ollama' is not defined"
     ]
    }
   ],
   "source": [
    "llm = Ollama(model=modelo_llm)\n",
    "texto =  \"explique de forma simples o que é inteligência aritificial\""
   ]
  },
  {
   "cell_type": "code",
   "execution_count": 18,
   "id": "1ae482fb",
   "metadata": {},
   "outputs": [
    {
     "name": "stdout",
     "output_type": "stream",
     "text": [
      "A Inteligência Artificial (IA) refere-se à capacidade das máquinas e dos computadores aprenderem, interpretar dados e realizarem tarefas humanas. Imagine uma calculadora capaz de resolver problemas complexos ao seu gosto ou um robot que pode entender nuances sociais para interagir com as pessoas como fazíamos entre nós. A inteligência artificial é baseada em algoritmos e redes neurais, semelhantes aos sistemas de processamento do nosso cérebro, mas executados por máquinas. Esse campo tem avançado muito devido ao crescimento na tecnologia digital e na capacidade computacional.\n"
     ]
    }
   ],
   "source": [
    "resposta = llm.invoke(texto)\n",
    "print(resposta)"
   ]
  },
  {
   "cell_type": "code",
   "execution_count": 5,
   "id": "341a7469",
   "metadata": {},
   "outputs": [],
   "source": [
    "#pip install langchain-ollama"
   ]
  },
  {
   "cell_type": "markdown",
   "id": "0b001626",
   "metadata": {},
   "source": []
  },
  {
   "cell_type": "code",
   "execution_count": 11,
   "id": "f4f83335",
   "metadata": {},
   "outputs": [
    {
     "name": "stdout",
     "output_type": "stream",
     "text": [
      "- **Vigilança Sanitária**: Garantir saúde pública.\n",
      "\n",
      "    - Monitorar doenças e sinais preocupantes no ambiente local ou nacional.\n",
      "\n",
      "    - Coordenar respostas rápidas para evitar o espalhamento de infecções.\n",
      "\n",
      "- **Objetivos Principais**:\n",
      "\n",
      "    - Identificação Próxima (Isto é, detectar doenças precocemente).\n",
      "\n",
      "        - Detectar sinais da doença nas primeiras fases para intervenção oportuna.\n",
      "\n",
      "    - Prevenção de Transmissão (Reduzir a propagação das infecções entre pessoas).\n",
      "\n",
      "        - Implementar medidas como distanciamento social, higiene adequada e uso de máscaras quando necessário.\n",
      "\n",
      "- **Partes Envolvidas**:\n",
      "\n",
      "    - Profissionais da Saúde (Médicos, enfermeiros) que prestam cuidados diretos às pessoas.\n",
      "\n",
      "        - Cuidados clínicos especializados para indivíduos infectados ou em risco de doença transmitida pela água e alimentar-se.\n",
      "    - A comunidade (Pessoas, organizações) que participam das medidas preventivas da saúde pública.\n",
      "        - Manutenção das práticas higiênico-sanitárias para reduzir riscos de doenças transmitidas por agentes infecciosos.\n",
      "    - Autoridades Gerais (Governo, organizações nacionais) que estabelecem políticas e recursos necessários para a vigilância sanitária.\n",
      "        - Implementar campanhas educativas sobre higiene básica como meio de prevenção das doenças transmitidas por agentes infecciosos, especialmente em áreas vulneráveis às zoonoses e aquáticas-sanitárias.\n"
     ]
    }
   ],
   "source": [
    "from langchain_core.prompts import PromptTemplate\n",
    "from langchain_ollama import OllamaLLM\n",
    "\n",
    "template = PromptTemplate.from_template(\n",
    "        \"Explique de forma simples o conceito de {tema} usando bullet points e listas\"\n",
    ")\n",
    "\n",
    "# conectar no ollama usando o modelo\n",
    "llm = OllamaLLM(model=modelo_llm)\n",
    "\n",
    "#preencher o template com o tema\n",
    "prompt_preenchido = template.format(tema=\"vigilância sanitária\")\n",
    "\n",
    "# gerar a resposta\n",
    "resposta = llm.invoke(prompt_preenchido)\n",
    "\n",
    "print(resposta)\n"
   ]
  },
  {
   "cell_type": "code",
   "execution_count": 4,
   "id": "52d1cd53",
   "metadata": {},
   "outputs": [
    {
     "name": "stdout",
     "output_type": "stream",
     "text": [
      "O tema identificado é: Aplicação da IA e inteligência artificial em diagnósticos médicos.\n",
      "A resposta gerada é: - **Aplicação da Inteligência Artificial**: Utilização prática das tecnologias que imitam processos humanos intelectuais para auxiliar profissionais a tomarem decisões, como diagnósticos médicos. Aqui está o básico em forma de listas e bullet points simples:\n",
      "\n",
      "    - **Diagnóstico por IA** refere-se ao uso de sistemas automatizados para identificar possíries ou problemas sérios nas pessoa, baseando-se na análise dos dados médicos. É como se um robô estivesse olhando em uma radiografia e pudesse notar algo que os humanos não vêem tão facilmente.\n",
      "    \n",
      "    - **Fundamentais da IA**: \n",
      "        - Antes de pensarmos na diagnose, precisamos saber mais sobre como a IA funciona! Ela é baseada em algoritmos complexos que podem \"aprender\" através do aprendizado de máquina. Esses sistemas são treinados com grandes quantidades de dados e experiências passadas para melhorar seu desempenho ao longo do tempo.\n",
      "        \n",
      "    - **Aplicação em Diagnósticos Médicos**: Usando a IA, os médicos podem se concentrar mais nas partes das imagens que são importantes (que chamemos de \"anomalias\"), enquanto o robô analisa as outras partes. Por exemplo:\n",
      "        - A Radiologia Assistida por Inteligência Artificial usa software para ajudar a identificar possíries ósseos, como fraturas ou deslocamentos em radiografias e tomografias computadorizadas. Nesse caso, o robô pode sugerir ao médico que está olhando as imagens uma área com anomalias específs que necessita mais análise humana.\n",
      "        \n",
      "    - **Exemplos de diagnósticos potenciais**: \n",
      "        - A IA tem sido explorada para identificar a presença do câncer em imagens médicas, como tomografias e mamografia por exemplo. O sistema pode reconhecer padrões que poderiam indicar o início de um tumor e alerta aos profissionais humanos da área para uma análise mais aprofundada\n",
      "        \n",
      "    - **Benefícios**: \n",
      "        - Redução dos erros médicos, melhora na qualidade do tratamento (através da detecção precoce de problemas) e aumento no fluxo hospitalar, ajudando a reduzir o tempo gasto nas salas das imagens. Portanto, não somente é bom para os pacientes mas também para as pessoas que trabalham lá!\n",
      "        \n",
      "    - **Considerações Éticas**: Devemos estar atentos aos potenciais problemas éticos relacionados ao uso da IA no diagnóstico médico. Por exemplo, a justiça entre grupos socioeconômicos pode ser afetada se o software não for treinado com amostras diversificadas e representativas de todos os indivíduos que visam beneficiar. Portanto é importante ter cuidados para garantir que as pessoas possam acessar tratamento justo e adequado sem discriminação ou preconceito baseados em fatores como raça, gênero ou etnia.\n",
      "    - **Conclusão**: A inteligência artificial tem o potencial de revolucionizar os diagnósticos médicos para auxiliar profissionais a tomarem decisões mais rápidas e melhor informadas ao lado dos pacientes que precisam deles, mas é fundamental pensarmos em maneiras saudáveis e éticas para utilizar essa tecnologia.\n"
     ]
    }
   ],
   "source": [
    "from langchain_core.prompts import PromptTemplate\n",
    "from langchain_ollama import OllamaLLM\n",
    "\n",
    "# conectar no ollama usando o modelo\n",
    "llm = OllamaLLM(model=modelo_llm)\n",
    "\n",
    "\n",
    "# Pergunta do usuário\n",
    "pergunta_usuario = input(\"sobre o que você gostaria de saber? \")\n",
    "\n",
    "#Definir o template para identificação do tema\n",
    "template_idenficacao = PromptTemplate.from_template(\n",
    "        \"Identifique o tema do seguinte texto: {pergunta}, responda apenas o tema, sem explicações adicionais\"\n",
    ")\n",
    "\n",
    "# concatenar o template com a pergunta do usuário\n",
    "prompt_identificacao_preenchido = template_idenficacao.format(\n",
    "        pergunta=pergunta_usuario\n",
    "        )\n",
    "\n",
    "# usar llm para identificar o tema\n",
    "tema = llm.invoke(prompt_identificacao_preenchido)\n",
    "\n",
    "# exibir o tema identificado\n",
    "print(f\"O tema identificado é: {tema}\")\n",
    "\n",
    "\n",
    "# Definir o template para gerar a resposta\n",
    "template = PromptTemplate.from_template(\n",
    "        \"Explique de forma simples o conceito de {tema} usando bullet points e listas\"\n",
    ")\n",
    "\n",
    "# preencher o template com o tema identificado\n",
    "prompt_preenchido = template.format(tema=tema)\n",
    "\n",
    "# gerar a resposta\n",
    "resposta = llm.invoke(prompt_preenchido)\n",
    "\n",
    "# exibir a resposta gerada\n",
    "print(f\"A resposta gerada é: {resposta}\")\n"
   ]
  }
 ],
 "metadata": {
  "kernelspec": {
   "display_name": "Python 3",
   "language": "python",
   "name": "python3"
  },
  "language_info": {
   "codemirror_mode": {
    "name": "ipython",
    "version": 3
   },
   "file_extension": ".py",
   "mimetype": "text/x-python",
   "name": "python",
   "nbconvert_exporter": "python",
   "pygments_lexer": "ipython3",
   "version": "3.12.10"
  }
 },
 "nbformat": 4,
 "nbformat_minor": 5
}
