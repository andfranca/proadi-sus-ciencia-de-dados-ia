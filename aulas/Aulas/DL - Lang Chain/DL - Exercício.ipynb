{
 "cells": [
  {
   "cell_type": "markdown",
   "id": "ed9697b3",
   "metadata": {},
   "source": [
    "## **Exercício Parser**\n",
    "\n",
    "Um comunicado da Anvisa chegou por e-mail, e sua tarefa é desenvolver um fluxo de IA capaz de processar o texto recebido, extrair as informações mais relevantes e estruturar esses dados no formato JSON, de forma automática e padronizada.\n",
    "\n",
    "\n",
    "> A Anvisa informa que no dia 25/06/2025 foi emitido um alerta sanitário para o produto álcool em gel marca CleanCare, lote 7894, devido à presença de contaminantes acima do permitido. O fabricante responsável é a empresa Indústrias Brasil Química Ltda. A recomendação é o recolhimento imediato do lote em todo o território nacional.\n",
    "\n",
    "Esse fluxo precisa ser montado utilizando LangChain, com:\n",
    "- Um Prompt para orientar o modelo de IA;\n",
    "- Um Output Parser para organizar a saída final em JSON;\n",
    "- Um fluxo do tipo Chain conectando essas etapas;\n",
    "- Um schema Pydantic definindo a estrutura esperada para o JSON."
   ]
  },
  {
   "cell_type": "markdown",
   "id": "b2e9d296",
   "metadata": {},
   "source": [
    "### **Tarefa**\n",
    "- Receba o texto acima como entrada\n",
    "- Utilize um Prompt adequado, orientando o modelo a estruturar os dados\n",
    "- Defina o schema Pydantic com os seguintes campos:\n",
    "\n",
    "\n",
    "  - **data_alerta:** data do alerta sanitário\n",
    "  - **produto:** nome do produto envolvido\n",
    "  - **marca:** marca do produto\n",
    "  - **lote:** número do lote afetado\n",
    "  - **fabricante:** nome da empresa responsável\n",
    "  - **recomendacao:** orientação final da Anvisa\n",
    "\n",
    "\n",
    "- Monte a Chain completa com o modelo de IA e o Output Parser\n",
    "- Execute o fluxo e exiba o JSON estruturado como resultado final\n"
   ]
  },
  {
   "cell_type": "code",
   "execution_count": null,
   "id": "19b8831d",
   "metadata": {},
   "outputs": [],
   "source": [
    "from langchain_ollama import OllamaLLM\n",
    "from langchain_core.prompts import PromptTemplate\n",
    "from langchain_core.output_parsers import JsonOutputParser\n",
    "from pydantic import BaseModel"
   ]
  }
 ],
 "metadata": {
  "kernelspec": {
   "display_name": "Python 3",
   "language": "python",
   "name": "python3"
  },
  "language_info": {
   "name": "python",
   "version": "3.12.10"
  }
 },
 "nbformat": 4,
 "nbformat_minor": 5
}
